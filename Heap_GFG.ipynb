{
 "cells": [
  {
   "cell_type": "code",
   "execution_count": 1,
   "metadata": {},
   "outputs": [],
   "source": [
    "# from heapq import heappop, heappush, heapify\n",
    "\n",
    "class Heap(object):\n",
    "    def __init__(self):\n",
    "        self.heap = []\n",
    "        self.last_index = -1\n",
    "        \n",
    "    def __repr__(self):\n",
    "        return str(self.heap[:self.last_index+1])\n",
    "    \n",
    "    def shift_up(self, i):\n",
    "        curr_val = self.heap[i]\n",
    "        parent_val, parent_index = self.getParent(i)\n",
    "        if i > 0 and self.compare(curr_val,parent_val):\n",
    "            self.heap[i], self.heap[parent_index] = parent_val, curr_val\n",
    "            self.shift_up(parent_index)\n",
    "        return\n",
    "    def shift_down(self,i):        \n",
    "        left_val, left_index = self.getLeft(i)\n",
    "        righ_val, right_index = self.getRight(i)\n",
    "        curr_index = i\n",
    "        \n",
    "        if left_val is not None and self.compare(left_val, self.heap[curr_index]):\n",
    "            curr_index = left_index\n",
    "        if righ_val is not None and self.compare(righ_val, self.heap[curr_index]):\n",
    "            curr_index = right_index\n",
    "        if i != curr_index:\n",
    "            self.heap[curr_index],self.heap[i] = self.heap[i], self.heap[curr_index]\n",
    "            self.shift_down(curr_index)\n",
    "            \n",
    "        return\n",
    "    def getParent(self, i):\n",
    "        if i == 0:\n",
    "            return None, None\n",
    "        index = (i-1)//2\n",
    "        return self.heap[index], index\n",
    "    def getLeft(self,i):\n",
    "        index = (2*i + 1)\n",
    "        if index > self.last_index:\n",
    "            return None,None\n",
    "        return self.heap[index],index\n",
    "    def getRight(self, i):\n",
    "        index = 2*i + 2\n",
    "        if index > self.last_index:\n",
    "            return None,None\n",
    "        return self.heap[index],index\n",
    "    \n",
    "    def push(self, i):\n",
    "        self.heap.append(i)\n",
    "        self.last_index += 1\n",
    "        \n",
    "        self.shift_up(self.last_index)\n",
    "    \n",
    "    def pop(self):\n",
    "        if self.last_index == -1:\n",
    "            return None\n",
    "        root = self.heap[0]\n",
    "        if self.last_index >= 0:\n",
    "            self.heap[0] = self.heap[self.last_index]\n",
    "            self.shift_down(0)\n",
    "        self.last_index -=1\n",
    "        return root\n",
    "    \n",
    "    def heapify(self):\n",
    "        for i in reversed(range(self.last_index//2)):\n",
    "            self.shift_down(i)\n",
    "        return self.heap\n",
    "    \n",
    "class MinHeap(Heap):\n",
    "    def compare(self, val1, val2):\n",
    "        return val1 < val2\n",
    "    \n",
    "class MaxHeap(Heap):\n",
    "    def compare(self, val1, val2):\n",
    "        return val1 > val2"
   ]
  },
  {
   "cell_type": "code",
   "execution_count": 2,
   "metadata": {},
   "outputs": [
    {
     "data": {
      "text/plain": [
       "[1, 2, 5, 4, 3, 9, 6, 10, 7, 8]"
      ]
     },
     "execution_count": 2,
     "metadata": {},
     "output_type": "execute_result"
    }
   ],
   "source": [
    "h = MinHeap()\n",
    "h.push(10)\n",
    "# assert(h == [10])\n",
    "h.push(9)\n",
    "# assert(h == [10, 20])\n",
    "h.push(8)\n",
    "# assert(h == [5, 20, 10])\n",
    "h.push(7)\n",
    "# assert(h == [5, 8, 10, 20])\n",
    "h.push(6)\n",
    "# assert(h == [3, 5, 10, 20, 8])\n",
    "h.push(5)\n",
    "# assert(h == [3, 5, 10, 20, 8, 40])\n",
    "h.push(4)\n",
    "# assert(h == [3, 5, 10, 20, 8, 40, 50])\n",
    "h.push(3)\n",
    "# assert(h == [1, 3, 10, 5, 8, 40, 50, 20])\n",
    "h.push(2)\n",
    "h.push(1)\n",
    "h"
   ]
  },
  {
   "cell_type": "code",
   "execution_count": 40,
   "metadata": {},
   "outputs": [],
   "source": [
    "def findKthMax(k, arr):\n",
    "    h = MaxHeap()\n",
    "    for i in range(len(arr)):\n",
    "        h.push(arr[i])\n",
    "    val = 0\n",
    "    for i in range(k):\n",
    "        val = h.pop()\n",
    "#     print(h.last_index)\n",
    "    return val\n",
    "\n",
    "findKthMax(7,[3,2,5,6,1,8])"
   ]
  },
  {
   "cell_type": "code",
   "execution_count": 69,
   "metadata": {},
   "outputs": [
    {
     "data": {
      "text/plain": [
       "11"
      ]
     },
     "execution_count": 69,
     "metadata": {},
     "output_type": "execute_result"
    }
   ],
   "source": [
    "class TNode:\n",
    "    def __init__(self, idx, left = None, right= None):\n",
    "        self.idx = idx\n",
    "        self.left = left\n",
    "        self.right = right\n",
    "\n",
    "def TornamentTree(arr,li):\n",
    "#     li = []\n",
    "    for i in range(0,len(arr),2):\n",
    "        t1 = TNode(i)\n",
    "        if i + 1 > len(arr)-1:\n",
    "            root = TNode(i, t1)\n",
    "        else:\n",
    "            t2 = TNode(i+1)\n",
    "            if arr[t1.idx] > arr[t2.idx]:\n",
    "                root = TNode(t1.idx, t1, t2)\n",
    "            else:\n",
    "                root = TNode(t2.idx, t1, t2)\n",
    "        li.append(root)\n",
    "    \n",
    "    l = len(li)\n",
    "    \n",
    "    while l != 1:\n",
    "        last = 0\n",
    "        if len(li)%2 == 1:\n",
    "            last = len(li) - 2\n",
    "        else:\n",
    "            last = len(li) - 1\n",
    "        for i in range(0,last,2):\n",
    "            t1 = li.pop(0)\n",
    "            t2 = li.pop(0)\n",
    "            if arr[t1.idx] > arr[t2.idx]:\n",
    "                root = TNode(t1.idx, t1, t2)\n",
    "            else:\n",
    "                root = TNode(t2.idx, t1, t2)\n",
    "            li.append(root)\n",
    "        if l%2 == 1:\n",
    "            li.append(li.pop(0))\n",
    "        l = len(li)\n",
    "\n",
    "arr = [2,9,8,4,6,1,10,5,14,12,18,25,6,11,3,]\n",
    "\n",
    "def getKthMax(k):\n",
    "    for i in range(k):\n",
    "        li = []\n",
    "        TornamentTree(arr,li)\n",
    "        if i < k-1:\n",
    "            arr[li[0].idx] = float('-inf')\n",
    "    return arr[li[0].idx]\n",
    "    \n",
    "getKthMax(5)"
   ]
  },
  {
   "cell_type": "code",
   "execution_count": 49,
   "metadata": {},
   "outputs": [
    {
     "name": "stdout",
     "output_type": "stream",
     "text": [
      "0\n",
      "2\n",
      "4\n"
     ]
    }
   ],
   "source": [
    "for i in range(0,6,2):\n",
    "    print(i)"
   ]
  },
  {
   "cell_type": "code",
   "execution_count": 60,
   "metadata": {},
   "outputs": [
    {
     "data": {
      "text/plain": [
       "True"
      ]
     },
     "execution_count": 60,
     "metadata": {},
     "output_type": "execute_result"
    }
   ],
   "source": [
    "float('-inf') < 0"
   ]
  },
  {
   "cell_type": "code",
   "execution_count": null,
   "metadata": {},
   "outputs": [],
   "source": [
    "def mergeKArrays(a,n):\n",
    "    \n",
    "    "
   ]
  }
 ],
 "metadata": {
  "kernelspec": {
   "display_name": "Python 3",
   "language": "python",
   "name": "python3"
  },
  "language_info": {
   "codemirror_mode": {
    "name": "ipython",
    "version": 3
   },
   "file_extension": ".py",
   "mimetype": "text/x-python",
   "name": "python",
   "nbconvert_exporter": "python",
   "pygments_lexer": "ipython3",
   "version": "3.6.6"
  }
 },
 "nbformat": 4,
 "nbformat_minor": 2
}
