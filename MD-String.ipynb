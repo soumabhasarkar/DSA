{
 "cells": [
  {
   "cell_type": "code",
   "execution_count": 3,
   "metadata": {},
   "outputs": [
    {
     "name": "stdout",
     "output_type": "stream",
     "text": [
      "2\n",
      "geeksforgeeks forgeeksgeeks\n",
      "YES\n",
      "allergy allergic\n",
      "NO\n"
     ]
    }
   ],
   "source": [
    "import sys\n",
    "\n",
    "def IsAnagram(st1, st2):\n",
    "    hash_table = dict()\n",
    "    for ch in st1:\n",
    "        if ch in hash_table.keys():\n",
    "            hash_table[ch] += 1\n",
    "        else:\n",
    "            hash_table[ch] = 1\n",
    "        \n",
    "    for ch in st2:\n",
    "        if ch in hash_table.keys():\n",
    "            hash_table[ch] -=1\n",
    "        else:\n",
    "            return False\n",
    "    \n",
    "    for key in hash_table.keys():\n",
    "        if hash_table[key] != 0:\n",
    "            return False\n",
    "    return True\n",
    "    \n",
    "\n",
    "if __name__ == \"__main__\":\n",
    "    test_cases = int(input())\n",
    "    for c in range(test_cases):\n",
    "        strings = input()\n",
    "        st1 = strings.split(' ')[0]\n",
    "        st2 = strings.split(' ')[1]\n",
    "        \n",
    "        res = IsAnagram(st1, st2)\n",
    "        \n",
    "        if res:\n",
    "            print(\"YES\")\n",
    "        else:\n",
    "            print(\"NO\")"
   ]
  },
  {
   "cell_type": "code",
   "execution_count": 6,
   "metadata": {},
   "outputs": [
    {
     "name": "stdout",
     "output_type": "stream",
     "text": [
      "1\n",
      "I.am\n",
      "am.I\n"
     ]
    }
   ],
   "source": [
    "import sys\n",
    "\n",
    "def ReverseWords(st):\n",
    "    words = st.split('.')\n",
    "    l = len(words)\n",
    "    for i in range(l//2):\n",
    "        temp = words[i]\n",
    "        words[i] = words[l-1-i]\n",
    "        words[l-1-i] = temp\n",
    "    return '.'.join(words)\n",
    "    \n",
    "\n",
    "if __name__ == \"__main__\":\n",
    "    test_cases = int(input())\n",
    "    for c in range(test_cases):\n",
    "        string = input()\n",
    "        \n",
    "        res = ReverseWords(string)\n",
    "        print(res)"
   ]
  },
  {
   "cell_type": "code",
   "execution_count": 14,
   "metadata": {},
   "outputs": [
    {
     "name": "stdout",
     "output_type": "stream",
     "text": [
      "1\n",
      "geeks for geeks\n",
      "geks for\n"
     ]
    }
   ],
   "source": [
    "import sys\n",
    "\n",
    "def RemoveDuplicate(st):\n",
    "    l = len(st)\n",
    "    all_char = [0]*256\n",
    "    i = 0\n",
    "    while i < len(st):\n",
    "        ascii_val = ord(st[i])\n",
    "        \n",
    "        if all_char[ascii_val] == 1:\n",
    "            st = st[:i] + st[i+1:]\n",
    "            i -= 1\n",
    "        else:\n",
    "            all_char[ascii_val] = 1            \n",
    "        i += 1\n",
    "        \n",
    "    return st\n",
    "    \n",
    "\n",
    "if __name__ == \"__main__\":\n",
    "    test_cases = int(input())\n",
    "    for c in range(test_cases):\n",
    "        string = input()\n",
    "        \n",
    "        res = RemoveDuplicate(string)\n",
    "        print(res)"
   ]
  },
  {
   "cell_type": "code",
   "execution_count": 35,
   "metadata": {},
   "outputs": [
    {
     "name": "stdout",
     "output_type": "stream",
     "text": [
      "1\n",
      "qwertyuioplkjh\n",
      "14\n"
     ]
    }
   ],
   "source": [
    "def LongestDistinctChar(string):\n",
    "    l = len(string)\n",
    "    \n",
    "    curr_len = 1\n",
    "    max_len = 1\n",
    "    prev_index = 0\n",
    "    \n",
    "    visited = [-1]*256\n",
    "    visited[ord(string[0])] = 0\n",
    "    \n",
    "    for i in range(1,l):\n",
    "        prev_index = visited[ord(string[i])]\n",
    "        \n",
    "        if prev_index == -1 or i - curr_len > prev_index:\n",
    "            curr_len += 1\n",
    "        else:\n",
    "            if curr_len > max_len:\n",
    "                max_len = curr_len\n",
    "            curr_len = i - prev_index\n",
    "        visited[ord(string[i])] = i\n",
    "    if curr_len > max_len:\n",
    "        max_len = curr_len\n",
    "    return max_len\n",
    "\n",
    "\n",
    "if __name__ == \"__main__\":\n",
    "    test_cases = int(input())\n",
    "    for c in range(test_cases):\n",
    "        string = input()\n",
    "        res = LongestDistinctChar(string)\n",
    "        print(res)"
   ]
  },
  {
   "cell_type": "code",
   "execution_count": 39,
   "metadata": {},
   "outputs": [
    {
     "name": "stdout",
     "output_type": "stream",
     "text": [
      "1\n",
      "geeksforgeeks\n",
      "geeksgeeksfor\n",
      "0\n"
     ]
    }
   ],
   "source": [
    "def IsRotatedByTwoPlace(st1, st2):\n",
    "    clockWiseRotated = RotateAndCompare(st1,st2)\n",
    "    antiClockWiseRotated = RotateAndCompare(st2,st1)\n",
    "    \n",
    "    if clockWiseRotated or antiClockWiseRotated:\n",
    "        return 1\n",
    "    return 0\n",
    "    \n",
    "def RotateAndCompare(st1, st2):\n",
    "    for i in range(len(st2)):\n",
    "        ch2 = st2[i]\n",
    "        j = (i+2)%len(st1)\n",
    "        ch1 = st1[j]\n",
    "        \n",
    "        if ch1 != ch2:\n",
    "            return False\n",
    "    return True\n",
    "    \n",
    "\n",
    "if __name__ == \"__main__\":\n",
    "    test_cases = int(input())\n",
    "    for c in range(test_cases):\n",
    "        string1 = input()\n",
    "        string2 = input()\n",
    "        res = IsRotatedByTwoPlace(string1,string2)\n",
    "        print(res)"
   ]
  },
  {
   "cell_type": "code",
   "execution_count": 49,
   "metadata": {},
   "outputs": [
    {
     "name": "stdout",
     "output_type": "stream",
     "text": [
      "1\n",
      "MMDLXVIII\n",
      "2568\n"
     ]
    }
   ],
   "source": [
    "def IntegerValue(ch):\n",
    "    if ch == \"M\":\n",
    "        return 1000           \n",
    "    elif ch == \"D\":\n",
    "        return 500\n",
    "    elif ch == \"C\":\n",
    "        return 100\n",
    "    elif ch == \"L\":\n",
    "        return 50\n",
    "    elif ch == \"X\":\n",
    "        return 10\n",
    "    elif ch == \"V\":\n",
    "        return 5\n",
    "    elif ch == \"I\":\n",
    "        return 1\n",
    "    else:\n",
    "        return 0\n",
    "\n",
    "def RomanNumberToInteger(roman_number):\n",
    "    l = len(roman_number)\n",
    "    int_val = 0\n",
    "    curr_int = 0\n",
    "    next_int = 0\n",
    "    i = 0\n",
    "    while i < l:\n",
    "        curr_int = IntegerValue(roman_number[i])\n",
    "        if i+1<l:\n",
    "            next_int = IntegerValue(roman_number[i+1])\n",
    "        else:\n",
    "            next_int = 0\n",
    "        \n",
    "        if next_int > curr_int:\n",
    "            int_val -= curr_int\n",
    "        else:\n",
    "            int_val += curr_int\n",
    "        i += 1\n",
    "        \n",
    "    return int_val\n",
    "            \n",
    "if __name__ == \"__main__\":\n",
    "    test_cases = int(input())\n",
    "    for c in range(test_cases):\n",
    "        roman_number = input()\n",
    "        res = RomanNumberToInteger(roman_number)\n",
    "        print(res)"
   ]
  },
  {
   "cell_type": "code",
   "execution_count": 87,
   "metadata": {},
   "outputs": [
    {
     "name": "stdout",
     "output_type": "stream",
     "text": [
      "1\n",
      "GeeksForGeeks\n",
      "Fr\n",
      "-1\n"
     ]
    }
   ],
   "source": [
    "def ComputeLPS(x):\n",
    "    l = len(x)\n",
    "    lps = [0]*l\n",
    "    i = 1\n",
    "    j = 0\n",
    "    while i < l:\n",
    "        if x[i] == x[j]:\n",
    "            lps[i] = j + 1\n",
    "            i += 1\n",
    "            j += 1\n",
    "        else:\n",
    "            if j > 0:\n",
    "                j = lps[j-1]\n",
    "            else:\n",
    "                lps[i] = lps[j]\n",
    "                i += 1\n",
    "    return lps\n",
    "    \n",
    "def strstr(s,x):\n",
    "    len_s = len(s)\n",
    "    len_x = len(x)\n",
    "    \n",
    "    if len_s == 0 or len_x == 0 or len_x > len_s:\n",
    "        return -1\n",
    "    \n",
    "    lps = ComputeLPS(x)\n",
    "    \n",
    "    i = 0\n",
    "    j = 0\n",
    "    while i < len_s:\n",
    "        \n",
    "        if s[i] == x[j]:\n",
    "            i += 1\n",
    "            j += 1\n",
    "        else:\n",
    "            if j > 0:\n",
    "                j = lps[j-1]\n",
    "            else:\n",
    "                i+=1\n",
    "        \n",
    "        if j == len_x:\n",
    "            return i - len_x\n",
    "    return -1\n",
    "    \n",
    "if __name__ == \"__main__\":\n",
    "    test_cases = int(input())\n",
    "    for c in range(test_cases):\n",
    "        s = input()\n",
    "        x = input()\n",
    "        res = strstr(s,x)\n",
    "        print(res)"
   ]
  },
  {
   "cell_type": "code",
   "execution_count": 81,
   "metadata": {},
   "outputs": [
    {
     "data": {
      "text/plain": [
       "[0, 0, 0, 0, 0, 1, 1, 1, 2, 1, 2, 3, 1, 2, 1, 2, 0]"
      ]
     },
     "execution_count": 81,
     "metadata": {},
     "output_type": "execute_result"
    }
   ],
   "source": [
    "def computeLPS(x):\n",
    "    l = len(x)\n",
    "    lps = [0]*l\n",
    "    i = 1\n",
    "    j = 0\n",
    "    while i < l:\n",
    "        if x[i] == x[j]:\n",
    "            lps[i] = j + 1\n",
    "            i += 1\n",
    "            j += 1\n",
    "        else:\n",
    "            if j > 0:\n",
    "                j = lps[j-1]\n",
    "            else:\n",
    "                lps[i] = lps[j]\n",
    "                i += 1\n",
    "    return lps\n",
    "\n",
    "computeLPS(\"abcfdaaababcababd\")"
   ]
  },
  {
   "cell_type": "code",
   "execution_count": 106,
   "metadata": {},
   "outputs": [
    {
     "data": {
      "text/plain": [
       "101"
      ]
     },
     "execution_count": 106,
     "metadata": {},
     "output_type": "execute_result"
    }
   ],
   "source": [
    "def atoi(string):\n",
    "    l = len(string)\n",
    "    result = 0\n",
    "    isNegetive = False\n",
    "    for i in range(l):\n",
    "        ascii_val = ord(string[i])\n",
    "        if ascii_val == 45:\n",
    "            isNegetive = True            \n",
    "            continue\n",
    "        if ascii_val < 48 or ascii_val > 57:\n",
    "            return -1\n",
    "        \n",
    "        result += (ascii_val-48) * pow(10,(l-1-i))\n",
    "    \n",
    "    if isNegetive:\n",
    "        return result * (-1)\n",
    "    return result\n",
    "\n",
    "atoi(\"101\")\n",
    "        "
   ]
  },
  {
   "cell_type": "code",
   "execution_count": 113,
   "metadata": {},
   "outputs": [
    {
     "name": "stdout",
     "output_type": "stream",
     "text": [
      "1\n",
      "4\n",
      "d d d d\n",
      "d\n"
     ]
    }
   ],
   "source": [
    "def LCP(str_list):\n",
    "    l = len(str_list)\n",
    "    \n",
    "    if l == 1:\n",
    "        return str_list[0]\n",
    "    \n",
    "    min_len = len(str_list[0])\n",
    "    for i in range(1,l):\n",
    "        str_len = len(str_list[i])\n",
    "        if str_len < min_len:\n",
    "            min_len = str_len\n",
    "    \n",
    "    if min_len == 0:\n",
    "        return -1\n",
    "    \n",
    "    i = 0\n",
    "    mismatch = False\n",
    "    while i < min_len:\n",
    "        ch = str_list[0][i]\n",
    "        for j in range(1,l):\n",
    "            if ch != str_list[j][i]:\n",
    "                mismatch =True\n",
    "                break\n",
    "        if mismatch:\n",
    "            break\n",
    "        i += 1\n",
    "        \n",
    "    if i > 0:\n",
    "        return str_list[0][:i]\n",
    "    else:\n",
    "        return -1\n",
    "\n",
    "if __name__ == \"__main__\":\n",
    "    test_cases = int(input())\n",
    "    for c in range(test_cases):\n",
    "        substring_num = int(input())\n",
    "        string = input()\n",
    "        \n",
    "        substring = string.split(' ')\n",
    "        \n",
    "        print(LCP(substring[:substring_num]))\n",
    "   \n"
   ]
  },
  {
   "cell_type": "code",
   "execution_count": 117,
   "metadata": {},
   "outputs": [
    {
     "name": "stdout",
     "output_type": "stream",
     "text": [
      "1\n",
      "SABHD\n",
      "ABDHS ABDSH ABHDS ABHSD ABSDH ABSHD ADBHS ADBSH ADHBS ADHSB ADSBH ADSHB AHBDS AHBSD AHDBS AHDSB AHSBD AHSDB ASBDH ASBHD ASDBH ASDHB ASHBD ASHDB BADHS BADSH BAHDS BAHSD BASDH BASHD BDAHS BDASH BDHAS BDHSA BDSAH BDSHA BHADS BHASD BHDAS BHDSA BHSAD BHSDA BSADH BSAHD BSDAH BSDHA BSHAD BSHDA DABHS DABSH DAHBS DAHSB DASBH DASHB DBAHS DBASH DBHAS DBHSA DBSAH DBSHA DHABS DHASB DHBAS DHBSA DHSAB DHSBA DSABH DSAHB DSBAH DSBHA DSHAB DSHBA HABDS HABSD HADBS HADSB HASBD HASDB HBADS HBASD HBDAS HBDSA HBSAD HBSDA HDABS HDASB HDBAS HDBSA HDSAB HDSBA HSABD HSADB HSBAD HSBDA HSDAB HSDBA SABDH SABHD SADBH SADHB SAHBD SAHDB SBADH SBAHD SBDAH SBDHA SBHAD SBHDA SDABH SDAHB SDBAH SDBHA SDHAB SDHBA SHABD SHADB SHBAD SHBDA SHDAB SHDBA\n"
     ]
    }
   ],
   "source": [
    "def getPermutation(result, hash_table, reminder, prefix):\n",
    "    if reminder == 0:\n",
    "        result.append(prefix)\n",
    "        return\n",
    "    \n",
    "    for ch in hash_table.keys():\n",
    "        count = hash_table[ch]\n",
    "        if count > 0:\n",
    "            hash_table[ch] = count -1\n",
    "            getPermutation(result, hash_table, reminder -1, prefix + ch)\n",
    "            hash_table[ch] = count\n",
    "\n",
    "def create_hash_table(string):\n",
    "    table = dict()\n",
    "    for ch in string:\n",
    "        if ch in table.keys():\n",
    "            table[ch] += 1\n",
    "        else:\n",
    "            table[ch] = 1\n",
    "    return table\n",
    "\n",
    "if __name__ == \"__main__\":\n",
    "    test_cases = int(input())\n",
    "    for c in range(test_cases):        \n",
    "        string = input()\n",
    "        hash_table = create_hash_table(string)\n",
    "        remainder = len(string)\n",
    "        prefix = \"\"\n",
    "        result = []\n",
    "        getPermutation(result, hash_table, remainder, prefix)\n",
    "        \n",
    "        print(' '.join(sorted(result)))"
   ]
  },
  {
   "cell_type": "code",
   "execution_count": 132,
   "metadata": {},
   "outputs": [
    {
     "name": "stdout",
     "output_type": "stream",
     "text": [
      "1\n",
      "aabbab\n",
      "abba\n"
     ]
    }
   ],
   "source": [
    "def get_longest_palindrome(string, hash_table):\n",
    "    if string in hash_table.keys():\n",
    "        if hash_table[string]:\n",
    "            return string\n",
    "        return \"\"\n",
    "    i = 0\n",
    "    l = len(string)\n",
    "    if l == 0:\n",
    "        return \"\"\n",
    "    if l == 1:\n",
    "        string\n",
    "    match = True\n",
    "    for i in range(l//2):\n",
    "        if string[i] != string[l-1-i]:\n",
    "            match = False\n",
    "            break\n",
    "    if match:\n",
    "        if string not in hash_table.keys():\n",
    "            hash_table[string] = True\n",
    "        return string\n",
    "    else:\n",
    "        if string not in hash_table.keys():\n",
    "            hash_table[string] = False\n",
    "        res1 = get_longest_palindrome(string[:l-1],hash_table)\n",
    "        res2 = get_longest_palindrome(string[1:],hash_table)\n",
    "        \n",
    "        if len(res1) >= len(res2):\n",
    "            return res1\n",
    "        else:\n",
    "            return res2\n",
    "\n",
    "if __name__ == \"__main__\":\n",
    "    test_cases = int(input())\n",
    "    for c in range(test_cases):\n",
    "        string = input()\n",
    "        hash_table = dict()\n",
    "        print(get_longest_palindrome(string, hash_table))"
   ]
  },
  {
   "cell_type": "code",
   "execution_count": 202,
   "metadata": {},
   "outputs": [
    {
     "name": "stdout",
     "output_type": "stream",
     "text": [
      "1\n",
      "mississipie\n",
      "mipie\n"
     ]
    }
   ],
   "source": [
    "# class Res:\n",
    "#     def __init__(self,)\n",
    "def RecursiveRemoveAdjacentDuplicates(string, last_removed):\n",
    "    if len(string) == 1 or len(string) == 0:\n",
    "        return string\n",
    "    \n",
    "    if string[0] == string[1]:\n",
    "        last_removed = ord(string[0])\n",
    "        while len(string) > 1 and string[0] == string[1]:\n",
    "            string = string[1:]\n",
    "        string = string[1:]\n",
    "        \n",
    "        return RecursiveRemoveAdjacentDuplicates(string, last_removed)\n",
    "    \n",
    "    rem_str = RecursiveRemoveAdjacentDuplicates(string[1:], last_removed)\n",
    "    \n",
    "    if len(rem_str) != 0 and rem_str[0] == string[0]:\n",
    "        last_removed = ord(string[0])\n",
    "        return rem_str[1:]\n",
    "    \n",
    "    if len(rem_str) == 0 and last_removed == ord(string[0]):\n",
    "        return rem_str\n",
    "    \n",
    "    return string[0]+rem_str\n",
    "    \n",
    "if __name__ == \"__main__\":\n",
    "    test_cases = int(input())\n",
    "    for c in range(test_cases):\n",
    "        string = input()\n",
    "        last_removed = 0\n",
    "        print(RecursiveRemoveAdjacentDuplicates(string,last_removed))    "
   ]
  },
  {
   "cell_type": "code",
   "execution_count": 203,
   "metadata": {},
   "outputs": [
    {
     "name": "stdout",
     "output_type": "stream",
     "text": [
      "mipie\n"
     ]
    }
   ],
   "source": [
    "def removeUtil(string, last_removed): \n",
    "  \n",
    "    # If length of string is 1 or 0 \n",
    "    if len(string) == 0 or len(string) == 1: \n",
    "        return string \n",
    "  \n",
    "    if string[0] == string[1]: \n",
    "        last_removed = ord(string[0]) \n",
    "        while len(string) > 1 and string[0] == string[1]: \n",
    "            string = string[1:] \n",
    "        string = string[1:] \n",
    "  \n",
    "        return removeUtil(string, last_removed) \n",
    "\n",
    "    rem_str = removeUtil(string[1:], last_removed) \n",
    "  \n",
    "    if len(rem_str) != 0 and rem_str[0] == string[0]: \n",
    "        last_removed = ord(string[0]) \n",
    "        return (rem_str[1:]) \n",
    "  \n",
    "    if len(rem_str) == 0 and last_removed == ord(string[0]): \n",
    "        return rem_str \n",
    "\n",
    "    return (string[0] + rem_str) \n",
    "  \n",
    "def remove(string): \n",
    "    last_removed = 0\n",
    "    return (removeUtil((string), last_removed))\n",
    "  \n",
    "string8 = \"mississipie\"\n",
    "print (remove(string8) )"
   ]
  },
  {
   "cell_type": "code",
   "execution_count": 217,
   "metadata": {},
   "outputs": [
    {
     "name": "stdout",
     "output_type": "stream",
     "text": [
      "1\n",
      "helppreanadkada\n",
      "10\n"
     ]
    }
   ],
   "source": [
    "def FormPallindrom(string, l, h, hash_table):\n",
    "    if (l,h) in hash_table.keys():\n",
    "        return hash_table[(l,h)]\n",
    "    if l > h:\n",
    "        return -1\n",
    "    if l == h:\n",
    "        return 0\n",
    "    if l == h-1:\n",
    "        if string[l] == string[h]:\n",
    "            return 0\n",
    "        else:\n",
    "            return 1\n",
    "    \n",
    "    if string[l] == string[h]:\n",
    "        res = FormPallindrom(string, l+1, h-1, hash_table)\n",
    "        if not (l+1, h-1) in hash_table.keys():\n",
    "            hash_table[(l+1, h-1)] = res\n",
    "        return res\n",
    "    else:\n",
    "        res1 = FormPallindrom(string, l, h-1, hash_table)\n",
    "        if not (l, h-1) in hash_table.keys():\n",
    "            hash_table[(l, h-1)] = res1\n",
    "        \n",
    "        res2 = FormPallindrom(string, l+1, h, hash_table)\n",
    "        if not (l+1, h) in hash_table.keys():\n",
    "            hash_table[(l+1, h)] = res2\n",
    "            \n",
    "        return min(res1, res2) + 1\n",
    "\n",
    "if __name__ == \"__main__\":\n",
    "    test_cases = int(input())\n",
    "    for c in range(test_cases):\n",
    "        string = input()\n",
    "        l = 0\n",
    "        h = len(string) -1\n",
    "        hash_table = dict()\n",
    "        print(FormPallindrom(string,l,h, hash_table))"
   ]
  },
  {
   "cell_type": "code",
   "execution_count": 219,
   "metadata": {},
   "outputs": [
    {
     "data": {
      "text/plain": [
       "False"
      ]
     },
     "execution_count": 219,
     "metadata": {},
     "output_type": "execute_result"
    }
   ],
   "source": [
    "h = dict()\n",
    "h[(0,9)] = 3\n",
    "h[(1,9)] = 2\n",
    "h[(2,9)] = 1\n",
    "(5, 9) in h.keys()"
   ]
  },
  {
   "cell_type": "code",
   "execution_count": 224,
   "metadata": {},
   "outputs": [
    {
     "name": "stdout",
     "output_type": "stream",
     "text": [
      "1\n",
      "6 6\n",
      "ABCDGH\n",
      "ACDGHR\n",
      "4\n"
     ]
    }
   ],
   "source": [
    "def LongestCommonSubstring(str1, str2):\n",
    "    l1 = len(str1)\n",
    "    l2 = len(str2)\n",
    "    \n",
    "    T = [[0 for i in range(l1+1)] for j in range(l2+1)]\n",
    "    \n",
    "    max_len = 0\n",
    "    _i = None\n",
    "    for i in range(1,l1+1):\n",
    "        for j in range(1,l2+1):\n",
    "            if str1[i-1] == str2[j-1]:\n",
    "                T[j][i] = T[j-1][i-1] + 1\n",
    "                if T[j][i] > max_len:\n",
    "                    max_len = T[j][i]\n",
    "                    _i = i-1\n",
    "    return max_len\n",
    "#     return str1[_i+1-max_len:_i+1]\n",
    "\n",
    "if __name__ == \"__main__\":\n",
    "    test_cases = int(input())\n",
    "    for c in range(test_cases):\n",
    "        input_strings_len = input()\n",
    "        l1 = input_strings_len.split(' ')[0]\n",
    "        l2 = input_strings_len.split(' ')[1]\n",
    "        \n",
    "        string1 = input()\n",
    "        string2 = input()\n",
    "        \n",
    "        print(LongestCommonSubstring(string1,string2))"
   ]
  },
  {
   "cell_type": "code",
   "execution_count": 220,
   "metadata": {},
   "outputs": [
    {
     "data": {
      "text/plain": [
       "3"
      ]
     },
     "execution_count": 220,
     "metadata": {},
     "output_type": "execute_result"
    }
   ],
   "source": [
    "a = (3,4)\n",
    "a[0]"
   ]
  },
  {
   "cell_type": "code",
   "execution_count": null,
   "metadata": {},
   "outputs": [],
   "source": []
  }
 ],
 "metadata": {
  "kernelspec": {
   "display_name": "Python 3",
   "language": "python",
   "name": "python3"
  },
  "language_info": {
   "codemirror_mode": {
    "name": "ipython",
    "version": 3
   },
   "file_extension": ".py",
   "mimetype": "text/x-python",
   "name": "python",
   "nbconvert_exporter": "python",
   "pygments_lexer": "ipython3",
   "version": "3.6.6"
  }
 },
 "nbformat": 4,
 "nbformat_minor": 2
}
