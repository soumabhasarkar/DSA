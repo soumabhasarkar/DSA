{
 "cells": [
  {
   "cell_type": "code",
   "execution_count": 13,
   "metadata": {},
   "outputs": [
    {
     "name": "stdout",
     "output_type": "stream",
     "text": [
      "1\n",
      "18\n",
      "2\n"
     ]
    }
   ],
   "source": [
    "import math\n",
    "def firstSetBit(n):\n",
    "    position = 1\n",
    "    m = 1\n",
    "    \n",
    "    while (not(n&m)):\n",
    "        m = m << 1\n",
    "        position += 1\n",
    "        \n",
    "    return position\n",
    "\n",
    "def firstSetBitModified(n):\n",
    "    return int(math.log2(n&-n))+1\n",
    "\n",
    "if __name__ == \"__main__\":\n",
    "    test_cases = int(input())\n",
    "    for c in range(test_cases):\n",
    "        num = int(input())\n",
    "        print(firstSetBitModified(num))"
   ]
  },
  {
   "cell_type": "code",
   "execution_count": 19,
   "metadata": {},
   "outputs": [
    {
     "name": "stdout",
     "output_type": "stream",
     "text": [
      "1\n",
      "11 9\n",
      "2\n"
     ]
    }
   ],
   "source": [
    "def RightmostDifferentBit(m,n):\n",
    "    res = m ^ n\n",
    "    return int(math.log2(res & -res))+1\n",
    "\n",
    "if __name__ == \"__main__\":\n",
    "    test_cases = int(input())\n",
    "    for c in range(test_cases):\n",
    "        num = list(map(int,input().split()))\n",
    "        print(RightmostDifferentBit(num[0],num[1]))\n",
    "    "
   ]
  },
  {
   "cell_type": "code",
   "execution_count": 29,
   "metadata": {},
   "outputs": [
    {
     "name": "stdout",
     "output_type": "stream",
     "text": [
      "1\n",
      "4\n",
      "0\n",
      "No\n"
     ]
    }
   ],
   "source": [
    "def IsKthBitSet(n,k):\n",
    "    i = 1 << (k)\n",
    "    if n & i == 0:\n",
    "        return \"No\"\n",
    "    return \"Yes\"\n",
    "\n",
    "if __name__ == \"__main__\":\n",
    "    test_cases = int(input())\n",
    "    for c in range(test_cases):\n",
    "        n = int(input())\n",
    "        k = int(input())\n",
    "        print(IsKthBitSet(n,k))\n",
    "    "
   ]
  },
  {
   "cell_type": "code",
   "execution_count": 39,
   "metadata": {},
   "outputs": [
    {
     "name": "stdout",
     "output_type": "stream",
     "text": [
      "1\n",
      "1\n",
      "YES\n"
     ]
    }
   ],
   "source": [
    "def isPowerOfTwo(n):\n",
    "    if n < 0:\n",
    "        return \"No\"\n",
    "    l = int(math.log2(n)+1)\n",
    "    fsb = int(math.log2(n&-n)+1)\n",
    "    if l == fsb :\n",
    "        return \"YES\"\n",
    "    return \"NO\"\n",
    "\n",
    "if __name__ == \"__main__\":\n",
    "    test_cases = int(input())\n",
    "    for c in range(test_cases):\n",
    "        n = int(input())\n",
    "        print(isPowerOfTwo(n))"
   ]
  },
  {
   "cell_type": "code",
   "execution_count": 35,
   "metadata": {},
   "outputs": [
    {
     "data": {
      "text/plain": [
       "2"
      ]
     },
     "execution_count": 35,
     "metadata": {},
     "output_type": "execute_result"
    }
   ],
   "source": [
    "int(math.log2(2&-2)+1)"
   ]
  },
  {
   "cell_type": "code",
   "execution_count": 41,
   "metadata": {},
   "outputs": [
    {
     "name": "stdout",
     "output_type": "stream",
     "text": [
      "1\n",
      "10 2\n",
      "14\n"
     ]
    }
   ],
   "source": [
    "def setKthBit(n,k):\n",
    "    i = 1 << k\n",
    "    res = n | i\n",
    "    return res\n",
    "\n",
    "if __name__ == \"__main__\":\n",
    "    test_cases = int(input())\n",
    "    for c in range(test_cases):\n",
    "        num = list(map(int,input().split()))\n",
    "        print(setKthBit(num[0],num[1]))"
   ]
  },
  {
   "cell_type": "code",
   "execution_count": 42,
   "metadata": {},
   "outputs": [
    {
     "name": "stdout",
     "output_type": "stream",
     "text": [
      "1\n",
      "5\n",
      "1 2 3 2 1\n",
      "3\n"
     ]
    }
   ],
   "source": [
    "def AloneInQueue(arr):\n",
    "    res = arr[0]\n",
    "    for i in range(1,len(arr)):\n",
    "        res = res ^ arr[i]\n",
    "        \n",
    "    return res\n",
    "\n",
    "if __name__ == \"__main__\":\n",
    "    test_cases = int(input())\n",
    "    for c in range(test_cases):\n",
    "        n = int(input())\n",
    "        arr = list(map(int,input().strip().split()))\n",
    "        print(AloneInQueue(arr))"
   ]
  },
  {
   "cell_type": "code",
   "execution_count": 48,
   "metadata": {},
   "outputs": [
    {
     "data": {
      "text/plain": [
       "35"
      ]
     },
     "execution_count": 48,
     "metadata": {},
     "output_type": "execute_result"
    }
   ],
   "source": [
    "def countBitUptoN(n):\n",
    "    res = 0\n",
    "    for i in range(1,n+1):\n",
    "        res += countSetBit(i)\n",
    "    return res\n",
    "\n",
    "def countSetBit(n):\n",
    "    count = 0\n",
    "    while n > 0:\n",
    "        n = n&(n-1)\n",
    "        count += 1\n",
    "    return count\n",
    "\n",
    "if __name__ == \"__main__\":\n",
    "    test_cases = int(input())\n",
    "    for c in range(test_cases):\n",
    "        n = int(input())\n",
    "        # arr = list(map(int,input().strip().split()))\n",
    "        print(countBitUptoN(n))\n"
   ]
  },
  {
   "cell_type": "code",
   "execution_count": 52,
   "metadata": {},
   "outputs": [
    {
     "data": {
      "text/plain": [
       "True"
      ]
     },
     "execution_count": 52,
     "metadata": {},
     "output_type": "execute_result"
    }
   ],
   "source": [
    "def isSparse(n):\n",
    "    res = n & (n>>1)\n",
    "    if res == 0:\n",
    "        return True\n",
    "    return False\n",
    "\n",
    "isSparse(10)"
   ]
  },
  {
   "cell_type": "code",
   "execution_count": 53,
   "metadata": {},
   "outputs": [
    {
     "data": {
      "text/plain": [
       "4"
      ]
     },
     "execution_count": 53,
     "metadata": {},
     "output_type": "execute_result"
    }
   ],
   "source": [
    "def NumOfFlip(m,n):\n",
    "    res = m^n\n",
    "    count = 0\n",
    "    while res > 0:\n",
    "        res = res & (res-1)\n",
    "        count+=1\n",
    "    return count\n",
    "NumOfFlip(10,20)"
   ]
  },
  {
   "cell_type": "code",
   "execution_count": 54,
   "metadata": {},
   "outputs": [
    {
     "data": {
      "text/plain": [
       "43"
      ]
     },
     "execution_count": 54,
     "metadata": {},
     "output_type": "execute_result"
    }
   ],
   "source": [
    "def swapEvenOddBits(n):\n",
    "    e = n & 0xAAAAAAAA\n",
    "    e = e >> 1\n",
    "    \n",
    "    o = n & 0x55555555\n",
    "    o = o << 1\n",
    "    \n",
    "    return e | o\n",
    "\n",
    "swapEvenOddBits(23)\n",
    "    "
   ]
  },
  {
   "cell_type": "code",
   "execution_count": 60,
   "metadata": {},
   "outputs": [
    {
     "data": {
      "text/plain": [
       "1"
      ]
     },
     "execution_count": 60,
     "metadata": {},
     "output_type": "execute_result"
    }
   ],
   "source": [
    "def maxConsecutiveOnes(n):\n",
    "    c = 0\n",
    "    while n != 0:\n",
    "        n = n & n << 1\n",
    "        c += 1\n",
    "    return c\n",
    "maxConsecutiveOnes(40)"
   ]
  },
  {
   "cell_type": "code",
   "execution_count": 70,
   "metadata": {},
   "outputs": [
    {
     "data": {
      "text/plain": [
       "120"
      ]
     },
     "execution_count": 70,
     "metadata": {},
     "output_type": "execute_result"
    }
   ],
   "source": [
    "INT_BITS = 32\n",
    "def rotateLeft(n,d):\n",
    "    return (n<<d)|(n>>(INT_BIT-d))\n",
    "\n",
    "def leftRotate(n, d): \n",
    "  \n",
    "    # In n<<d, last d bits are 0. \n",
    "    # To put first 3 bits of n at  \n",
    "    # last, do bitwise or of n<<d \n",
    "    # with n >>(INT_BITS - d)  \n",
    "    return (n << d)|(n >> (INT_BITS - d)) \n",
    "\n",
    "rotateLeft(15,3)"
   ]
  },
  {
   "cell_type": "code",
   "execution_count": 73,
   "metadata": {},
   "outputs": [
    {
     "data": {
      "text/plain": [
       "5.0"
      ]
     },
     "execution_count": 73,
     "metadata": {},
     "output_type": "execute_result"
    }
   ],
   "source": [
    "math.log2(16)+1"
   ]
  },
  {
   "cell_type": "code",
   "execution_count": null,
   "metadata": {},
   "outputs": [],
   "source": []
  }
 ],
 "metadata": {
  "kernelspec": {
   "display_name": "Python 3",
   "language": "python",
   "name": "python3"
  },
  "language_info": {
   "codemirror_mode": {
    "name": "ipython",
    "version": 3
   },
   "file_extension": ".py",
   "mimetype": "text/x-python",
   "name": "python",
   "nbconvert_exporter": "python",
   "pygments_lexer": "ipython3",
   "version": "3.6.6"
  }
 },
 "nbformat": 4,
 "nbformat_minor": 2
}
