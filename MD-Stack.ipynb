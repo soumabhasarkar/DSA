{
 "cells": [
  {
   "cell_type": "code",
   "execution_count": 10,
   "metadata": {},
   "outputs": [
    {
     "name": "stdout",
     "output_type": "stream",
     "text": [
      "1\n",
      "([]\n",
      "not balanced\n"
     ]
    }
   ],
   "source": [
    "def ParenthesisChecker(expresion):\n",
    "    stack = []\n",
    "    start_braces = ['(','{','[']\n",
    "    for ch in expresion:\n",
    "        if ch in start_braces:\n",
    "            stack.append(ch)\n",
    "        else:\n",
    "            if len(stack) == 0:\n",
    "                print(\"not balanced\")\n",
    "                return\n",
    "            e = stack.pop()            \n",
    "            if (e != '[' and ch == ']') or (e != '{' and ch == '}') or (e != '(' and ch == ')'):\n",
    "                print(\"not balanced\")\n",
    "                return\n",
    "    if len(stack) != 0:\n",
    "        print(\"not balanced\")\n",
    "        return\n",
    "    print(\"balanced\")\n",
    "\n",
    "if __name__ == \"__main__\":\n",
    "    test_cases = int(input())\n",
    "    for c in range(test_cases):\n",
    "        string = input()\n",
    "        \n",
    "        ParenthesisChecker(string)"
   ]
  },
  {
   "cell_type": "code",
   "execution_count": 5,
   "metadata": {},
   "outputs": [
    {
     "name": "stdout",
     "output_type": "stream",
     "text": [
      "Hi\n"
     ]
    }
   ],
   "source": [
    "if (True):\n",
    "    print(\"Hi\")"
   ]
  },
  {
   "cell_type": "code",
   "execution_count": 23,
   "metadata": {},
   "outputs": [
    {
     "name": "stdout",
     "output_type": "stream",
     "text": [
      "1\n",
      "765 992 1 521 220 380 729 969 184 887 104 641 909 378 724 582 387 583 241 294 159 198 653 369 418 692 36 901 516 623 703 971 304 394 491 525 464 219 183 648 796 287 979 395 356 702 667 743 976 908 728 134 106 380 193 214 71 920 114 587 543 817 248 537 901 739 752 364 649 626 702 444 913 681 529 959 72 196 392 738 103 119 872 900\n",
      "[992, -1, 521, 729, 380, 729, 969, 971, 887, 909, 641, 909, 971, 724, 901, 583, 583, 653, 294, 653, 198, 653, 692, 418, 692, 901, 901, 971, 623, 703, 971, 979, 394, 491, 525, 648, 648, 648, 648, 796, 979, 979, -1, 702, 702, 743, 743, 976, -1, 920, 920, 380, 380, 920, 214, 920, 920, 959, 587, 817, 817, 901, 537, 901, 913, 752, 913, 649, 702, 702, 913, 913, 959, 959, 959, -1, 196, 392, 738, 872, 119, 872, 900, -1]\n"
     ]
    }
   ],
   "source": [
    "def getNextLargerElement(arr):\n",
    "    stack = []\n",
    "    out = [-1]*len(arr)\n",
    "    for i in range(len(arr)):\n",
    "        if len(stack)== 0:\n",
    "            stack.append(i)\n",
    "        else:\n",
    "            top = stack[-1]\n",
    "            if arr[top] >= arr[i]:\n",
    "                stack.append(i)\n",
    "            else:\n",
    "                while arr[top] < arr[i]:\n",
    "                    out[top] = arr[i]\n",
    "                    stack.pop()\n",
    "                    if len(stack) == 0:\n",
    "                        break\n",
    "                    top = stack[-1]\n",
    "                stack.append(i)\n",
    "    while len(stack)>0:\n",
    "        top = stack.pop()\n",
    "        out[top] = -1\n",
    "    return out\n",
    "\n",
    "if __name__ == \"__main__\":\n",
    "    test_cases = int(input())\n",
    "    for c in range(test_cases):\n",
    "        string = input()\n",
    "        arr_int = list(map(int,string.split(' ')))\n",
    "        res = getNextLargerElement(arr_int)\n",
    "        print(res)"
   ]
  },
  {
   "cell_type": "code",
   "execution_count": 19,
   "metadata": {},
   "outputs": [
    {
     "data": {
      "text/plain": [
       "[1, 2, 3, 4]"
      ]
     },
     "execution_count": 19,
     "metadata": {},
     "output_type": "execute_result"
    }
   ],
   "source": [
    "string = \"1 2 3 4\"\n"
   ]
  },
  {
   "cell_type": "code",
   "execution_count": 21,
   "metadata": {},
   "outputs": [
    {
     "name": "stdout",
     "output_type": "stream",
     "text": [
      "1\n",
      "1 2 2 3 2 4 1 3\n",
      "[2, 3, 3, 4, 4, -1, 3, -1]\n"
     ]
    }
   ],
   "source": [
    "#code\n",
    "def getNextLargerElement(arr):\n",
    "    stack = []\n",
    "    out = [-1]*len(arr)\n",
    "    for i in range(len(arr)):\n",
    "        if len(stack)== 0:\n",
    "            stack.append(i)\n",
    "        else:\n",
    "            top = stack[-1]\n",
    "            if arr[top] >= arr[i]:\n",
    "                stack.append(i)\n",
    "            else:\n",
    "                while arr[top] < arr[i]:\n",
    "                    out[top] = arr[i]\n",
    "                    stack.pop()\n",
    "                    if len(stack) == 0:\n",
    "                        break\n",
    "                    top = stack[-1]\n",
    "                stack.append(i)\n",
    "    while len(stack)>0:\n",
    "        top = stack.pop()\n",
    "        out[top] = -1\n",
    "    return out\n",
    "\n",
    "if __name__ == \"__main__\":\n",
    "    test_cases = int(input())\n",
    "    for c in range(test_cases):\n",
    "        string = input()\n",
    "        arr_int = list(map(int,string.split(' ')))\n",
    "        res = getNextLargerElement(arr_int)\n",
    "        print(res)"
   ]
  },
  {
   "cell_type": "code",
   "execution_count": null,
   "metadata": {},
   "outputs": [],
   "source": []
  }
 ],
 "metadata": {
  "kernelspec": {
   "display_name": "Python 3",
   "language": "python",
   "name": "python3"
  },
  "language_info": {
   "codemirror_mode": {
    "name": "ipython",
    "version": 3
   },
   "file_extension": ".py",
   "mimetype": "text/x-python",
   "name": "python",
   "nbconvert_exporter": "python",
   "pygments_lexer": "ipython3",
   "version": "3.6.6"
  }
 },
 "nbformat": 4,
 "nbformat_minor": 2
}
