{
 "cells": [
  {
   "cell_type": "code",
   "execution_count": 94,
   "metadata": {},
   "outputs": [],
   "source": [
    "# LinkedList"
   ]
  },
  {
   "cell_type": "code",
   "execution_count": 2,
   "metadata": {},
   "outputs": [],
   "source": [
    "class LinkedListNode():\n",
    "    def __init__(self,_data,_next=None,_prv=None):\n",
    "        self.data = _data\n",
    "        self.next = _next\n",
    "        self.prv = _prv\n",
    "        self.last = self\n",
    "    def setNext(self,n):\n",
    "        self.next = n        \n",
    "#         if self.last == self:\n",
    "#             self.last = n\n",
    "#         if n.prv != self:\n",
    "#             n.setPrevious(self)\n",
    "    def setPrevious(self,p):\n",
    "        self.prv = p\n",
    "#         if p.next != self:\n",
    "#             p.setNext(self)\n",
    "\n",
    "class LinkedList():\n",
    "    def __init__(self, _head=None):\n",
    "        self.head = _head\n",
    "    def add(self,n):\n",
    "        if self.head is None:\n",
    "            self.head = n\n",
    "            return\n",
    "        node = self.head\n",
    "        prv = self.head\n",
    "        while node is not None:\n",
    "            prv = node\n",
    "            node = node.next\n",
    "        prv.next = n\n",
    "        \n",
    "def partition(h, k):\n",
    "    head = h\n",
    "    tail = h\n",
    "    \n",
    "    while h is not None:\n",
    "        _next = h.next\n",
    "        if h.data < k:\n",
    "            h.next = head\n",
    "            head = h\n",
    "        else:\n",
    "            tail.next = h\n",
    "            tail = h\n",
    "        h = _next\n",
    "    tail.next = None\n",
    "    return head        "
   ]
  },
  {
   "cell_type": "code",
   "execution_count": 6,
   "metadata": {},
   "outputs": [
    {
     "name": "stdout",
     "output_type": "stream",
     "text": [
      "2\n",
      "4\n",
      "3\n",
      "7\n",
      "8\n",
      "5\n",
      "7\n",
      "5\n"
     ]
    }
   ],
   "source": [
    "first = LinkedListNode(3)\n",
    "second = LinkedListNode(7)\n",
    "third = LinkedListNode(8)\n",
    "fourth = LinkedListNode(4)\n",
    "fifth = LinkedListNode(5)\n",
    "sixth = LinkedListNode(7)\n",
    "seventh = LinkedListNode(2)\n",
    "eighth = LinkedListNode(5)\n",
    "first.setNext(second)\n",
    "second.setNext(third)\n",
    "third.setNext(fourth)\n",
    "fourth.setNext(fifth)\n",
    "fifth.setNext(sixth)\n",
    "sixth.setNext(seventh)\n",
    "seventh.setNext(eighth)\n",
    "llist = LinkedList(first)\n",
    "_head = partition(llist.head,5)\n",
    "node = _head\n",
    "while node is not None:\n",
    "    print(node.data)\n",
    "    node = node.next"
   ]
  },
  {
   "cell_type": "code",
   "execution_count": 97,
   "metadata": {},
   "outputs": [
    {
     "name": "stdout",
     "output_type": "stream",
     "text": [
      "3-->7-->8-->4-->5-->7-->2-->5-->\n",
      "3-->7-->8-->4-->5-->2-->\n"
     ]
    }
   ],
   "source": [
    "first = LinkedListNode(3)\n",
    "second = LinkedListNode(7)\n",
    "third = LinkedListNode(8)\n",
    "fourth = LinkedListNode(4)\n",
    "fifth = LinkedListNode(5)\n",
    "sixth = LinkedListNode(7)\n",
    "seventh = LinkedListNode(2)\n",
    "eighth = LinkedListNode(5)\n",
    "first.setNext(second)\n",
    "second.setNext(third)\n",
    "third.setNext(fourth)\n",
    "fourth.setNext(fifth)\n",
    "fifth.setNext(sixth)\n",
    "sixth.setNext(seventh)\n",
    "seventh.setNext(eighth)\n",
    "\n",
    "llist = LinkedList(first)\n",
    "# Remove Duplicate\n",
    "def removeDuplicate(head):\n",
    "    hash_table = dict()\n",
    "    node = head\n",
    "    while node is not None:\n",
    "        if node.data in hash_table:\n",
    "            prv.next = node.next\n",
    "        else:\n",
    "            hash_table[node.data]=1   \n",
    "        prv = node\n",
    "        node = node.next\n",
    "    return head\n",
    "def print_llist(head):\n",
    "    node = head\n",
    "    while node is not None:\n",
    "        print(node.data,end=\"-->\")\n",
    "        node = node.next\n",
    "    print()\n",
    "print_llist(llist.head)\n",
    "head = removeDuplicate(llist.head)\n",
    "print_llist(head)"
   ]
  },
  {
   "cell_type": "code",
   "execution_count": 98,
   "metadata": {},
   "outputs": [
    {
     "name": "stdout",
     "output_type": "stream",
     "text": [
      "3-->7-->8-->4-->5-->7-->2-->5-->\n",
      "4\n"
     ]
    }
   ],
   "source": [
    "first = LinkedListNode(3)\n",
    "second = LinkedListNode(7)\n",
    "third = LinkedListNode(8)\n",
    "fourth = LinkedListNode(4)\n",
    "fifth = LinkedListNode(5)\n",
    "sixth = LinkedListNode(7)\n",
    "seventh = LinkedListNode(2)\n",
    "eighth = LinkedListNode(5)\n",
    "first.setNext(second)\n",
    "second.setNext(third)\n",
    "third.setNext(fourth)\n",
    "fourth.setNext(fifth)\n",
    "fifth.setNext(sixth)\n",
    "sixth.setNext(seventh)\n",
    "seventh.setNext(eighth)\n",
    "\n",
    "llist = LinkedList(first)\n",
    "# Get Kth Last element\n",
    "def kthLastElement(head,k):\n",
    "    if k == 0:\n",
    "        return\n",
    "    pt1 = head\n",
    "    pt2 = head\n",
    "    count = 0\n",
    "    while pt2 is not None:\n",
    "        count +=1\n",
    "        if count > k:\n",
    "            pt1 = pt1.next\n",
    "        pt2 = pt2.next\n",
    "    return pt1.data\n",
    "\n",
    "print_llist(llist.head)\n",
    "data = kthLastElement(llist.head,5)\n",
    "print(data)"
   ]
  },
  {
   "cell_type": "code",
   "execution_count": 99,
   "metadata": {},
   "outputs": [
    {
     "name": "stdout",
     "output_type": "stream",
     "text": [
      "3-->7-->8-->4-->5-->7-->2-->5-->\n",
      "4\n"
     ]
    }
   ],
   "source": [
    "first = LinkedListNode(3)\n",
    "second = LinkedListNode(7)\n",
    "third = LinkedListNode(8)\n",
    "fourth = LinkedListNode(4)\n",
    "fifth = LinkedListNode(5)\n",
    "sixth = LinkedListNode(7)\n",
    "seventh = LinkedListNode(2)\n",
    "eighth = LinkedListNode(5)\n",
    "first.setNext(second)\n",
    "second.setNext(third)\n",
    "third.setNext(fourth)\n",
    "fourth.setNext(fifth)\n",
    "fifth.setNext(sixth)\n",
    "sixth.setNext(seventh)\n",
    "seventh.setNext(eighth)\n",
    "\n",
    "llist = LinkedList(first)\n",
    "# remove Kth element\n",
    "def deleteMiddleElement(head,k):\n",
    "    if k == 0:\n",
    "        return\n",
    "    pt1 = head\n",
    "    pt2 = head\n",
    "    count = 0\n",
    "    while pt2 is not None:\n",
    "        count +=1\n",
    "        if count > k:\n",
    "            pt1 = pt1.next\n",
    "        pt2 = pt2.next\n",
    "    return pt1.data\n",
    "\n",
    "print_llist(llist.head)\n",
    "data = kthLastElement(llist.head,5)\n",
    "print(data)"
   ]
  },
  {
   "cell_type": "code",
   "execution_count": 119,
   "metadata": {},
   "outputs": [
    {
     "name": "stdout",
     "output_type": "stream",
     "text": [
      "3-->7-->8-->4-->\n",
      "7-->7-->2-->5-->\n",
      "3-->7-->8-->4-->\n",
      "1-->1-->5-->0-->9-->\n"
     ]
    }
   ],
   "source": [
    "first = LinkedListNode(3)\n",
    "second = LinkedListNode(7)\n",
    "third = LinkedListNode(8)\n",
    "fourth = LinkedListNode(4)\n",
    "fifth = LinkedListNode(7)\n",
    "sixth = LinkedListNode(7)\n",
    "seventh = LinkedListNode(2)\n",
    "eighth = LinkedListNode(5)\n",
    "first.setNext(second)\n",
    "second.setNext(third)\n",
    "third.setNext(fourth)\n",
    "# fourth.setNext(fifth)\n",
    "fifth.setNext(sixth)\n",
    "sixth.setNext(seventh)\n",
    "seventh.setNext(eighth)\n",
    "\n",
    "llist1 = LinkedList(first)\n",
    "llist2 = LinkedList(fifth)\n",
    "\n",
    "print_llist(llist1.head)\n",
    "print_llist(llist2.head)\n",
    "\n",
    "def sum_LinkedList(ll1, ll2):\n",
    "    l1 = findLength(ll1)\n",
    "    l2 = findLength(ll2)\n",
    "    \n",
    "    if l1 > l2:\n",
    "        ll2 = prePad(ll2,l1 - l2)\n",
    "    elif l1< l2:\n",
    "        ll1 = prePad(ll1,l2 - l1)\n",
    "    print_llist(ll1)\n",
    "    res = getSum(ll1,ll2)\n",
    "    if res.carry > 0:\n",
    "        res.sum = insetBeforeList(res.sum, res.carry)\n",
    "    return res\n",
    "\n",
    "class partialSum:\n",
    "    def __init__(self,_sum = None, _carry = 0):\n",
    "        self.sum = _sum\n",
    "        self.carry = _carry\n",
    "def getSum(n1, n2):\n",
    "    if n1 is None or n2 is None:\n",
    "        _sum = partialSum()\n",
    "        return _sum\n",
    "#     print(n1)\n",
    "#     print(n2)\n",
    "    p_s = getSum(n1.next,n2.next)\n",
    "    \n",
    "    res = n1.data + n2.data + p_s.carry\n",
    "    val = res % 10\n",
    "    carry = res // 10\n",
    "    \n",
    "    full_res = insetBeforeList(p_s.sum,val)\n",
    "    p_s.sum = full_res\n",
    "    p_s.carry = carry\n",
    "    return p_s\n",
    "\n",
    "def insetBeforeList(lst, data):\n",
    "    node = LinkedListNode(data)\n",
    "    if lst is not None:\n",
    "        node.next = lst\n",
    "    return node\n",
    "    \n",
    "def prePad(node, k):\n",
    "    head = node\n",
    "    while k > 0:\n",
    "        head = insetBeforeList(head,0)\n",
    "        k -=1\n",
    "    return head\n",
    "\n",
    "def findLength(node):\n",
    "    count = 0\n",
    "    while node is not None:\n",
    "        count += 1\n",
    "        node = node.next\n",
    "    return count\n",
    "        \n",
    "res = sum_LinkedList(llist1.head,llist2.head)\n",
    "print_llist(res.sum)"
   ]
  },
  {
   "cell_type": "code",
   "execution_count": 143,
   "metadata": {},
   "outputs": [
    {
     "name": "stdout",
     "output_type": "stream",
     "text": [
      "True\n",
      "True\n"
     ]
    }
   ],
   "source": [
    "first = LinkedListNode(3)\n",
    "second = LinkedListNode(7)\n",
    "third = LinkedListNode(8)\n",
    "fourth = LinkedListNode(4)\n",
    "fifth = LinkedListNode(4)\n",
    "sixth = LinkedListNode(8)\n",
    "seventh = LinkedListNode(7)\n",
    "eighth = LinkedListNode(3)\n",
    "first.setNext(second)\n",
    "second.setNext(third)\n",
    "third.setNext(fourth)\n",
    "fourth.setNext(fifth)\n",
    "fifth.setNext(sixth)\n",
    "sixth.setNext(seventh)\n",
    "seventh.setNext(eighth)\n",
    "\n",
    "llist = LinkedList(first)\n",
    "\n",
    "def isPalindrom(node):\n",
    "    _reversed = reverseLL(node)\n",
    "    while node is not None:\n",
    "        if node.data != _reversed.data:\n",
    "            return False\n",
    "        node = node.next\n",
    "        _reversed = _reversed.next\n",
    "    return True\n",
    "\n",
    "def reverseLL(node):\n",
    "    head = None\n",
    "    while node is not None:\n",
    "        n = LinkedListNode(node.data)\n",
    "        n.next = head\n",
    "        head = n\n",
    "        node = node.next\n",
    "    return head\n",
    "\n",
    "class palindromRecurseResult:\n",
    "    def __init__(self, _node, _res):\n",
    "        self.node = _node\n",
    "        self.res = _res\n",
    "\n",
    "def isPalindromRecurse(node,l):    \n",
    "    if l == 1:\n",
    "        return palindromRecurseResult(node.next, True)\n",
    "    if l == 0:\n",
    "        return palindromRecurseResult(node, True)\n",
    "    f_n = isPalindromRecurse(node.next, l-2)\n",
    "    if f_n.res == False or f_n.node is None:\n",
    "        return f_n\n",
    "#     print(node.data)\n",
    "#     print(f_n.node.data)\n",
    "    if node.data == f_n.node.data:        \n",
    "        f_n.res = True\n",
    "    else:\n",
    "        f_n.res = False\n",
    "        \n",
    "    f_n.node = f_n.node.next\n",
    "    return f_n\n",
    "        \n",
    "    \n",
    "\n",
    "x = isPalindrom(llist.head)\n",
    "l = findLength(llist.head)\n",
    "# print(l)\n",
    "y = isPalindromRecurse(llist.head,l)\n",
    "print(x)\n",
    "print(y.res)"
   ]
  },
  {
   "cell_type": "code",
   "execution_count": 153,
   "metadata": {},
   "outputs": [
    {
     "name": "stdout",
     "output_type": "stream",
     "text": [
      "3-->7-->5-->4-->7-->9-->\n",
      "2-->5-->4-->7-->9-->\n"
     ]
    },
    {
     "data": {
      "text/plain": [
       "4"
      ]
     },
     "execution_count": 153,
     "metadata": {},
     "output_type": "execute_result"
    }
   ],
   "source": [
    "first = LinkedListNode(3)\n",
    "second = LinkedListNode(7)\n",
    "third = LinkedListNode(5)\n",
    "fourth = LinkedListNode(4)\n",
    "fifth = LinkedListNode(7)\n",
    "sixth = LinkedListNode(9)\n",
    "seventh = LinkedListNode(2)\n",
    "eighth = LinkedListNode(5)\n",
    "first.setNext(second)\n",
    "second.setNext(third)\n",
    "third.setNext(fourth)\n",
    "fourth.setNext(fifth)\n",
    "fifth.setNext(sixth)\n",
    "# sixth.setNext(seventh)\n",
    "seventh.setNext(eighth)\n",
    "eighth.setNext(fourth)\n",
    "\n",
    "llist1 = LinkedList(first)\n",
    "llist2 = LinkedList(seventh)\n",
    "\n",
    "def findIntersection(n1, n2):\n",
    "    l1 = findLength(n1)\n",
    "    l2 = findLength(n2)\n",
    "    \n",
    "    if l1 > l2:\n",
    "        k = l1 - l2\n",
    "        while n1 is not None and k>0:\n",
    "            n1 = n1.next\n",
    "            k -= 1\n",
    "    if l1 < l2:\n",
    "        k = l2 - l1\n",
    "        while n2 is not None and k>0:\n",
    "            n2 = n2.next\n",
    "            k -= 1\n",
    "    while n1 is not None:\n",
    "        if n1 == n2:\n",
    "            return n1.data\n",
    "        n1 = n1.next\n",
    "        n2 = n2.next\n",
    "    return None\n",
    "\n",
    "print_llist(llist1.head)\n",
    "print_llist(llist2.head)\n",
    "findIntersection(llist1.head, llist2.head)"
   ]
  },
  {
   "cell_type": "code",
   "execution_count": 3,
   "metadata": {},
   "outputs": [
    {
     "ename": "KeyboardInterrupt",
     "evalue": "",
     "output_type": "error",
     "traceback": [
      "\u001b[1;31m---------------------------------------------------------------------------\u001b[0m",
      "\u001b[1;31mKeyboardInterrupt\u001b[0m                         Traceback (most recent call last)",
      "\u001b[1;32m<ipython-input-3-f8e7bb5d18dd>\u001b[0m in \u001b[0;36m<module>\u001b[1;34m()\u001b[0m\n\u001b[0;32m     38\u001b[0m     \u001b[1;32mreturn\u001b[0m \u001b[1;32mFalse\u001b[0m\u001b[1;33m\u001b[0m\u001b[0m\n\u001b[0;32m     39\u001b[0m \u001b[1;33m\u001b[0m\u001b[0m\n\u001b[1;32m---> 40\u001b[1;33m \u001b[0mnode\u001b[0m \u001b[1;33m=\u001b[0m \u001b[0mfindLoopLinkedList\u001b[0m\u001b[1;33m(\u001b[0m\u001b[0mllist\u001b[0m\u001b[1;33m.\u001b[0m\u001b[0mhead\u001b[0m\u001b[1;33m)\u001b[0m\u001b[1;33m\u001b[0m\u001b[0m\n\u001b[0m\u001b[0;32m     41\u001b[0m \u001b[0mprint\u001b[0m\u001b[1;33m(\u001b[0m\u001b[0mnode\u001b[0m\u001b[1;33m.\u001b[0m\u001b[0mdata\u001b[0m\u001b[1;33m)\u001b[0m\u001b[1;33m\u001b[0m\u001b[0m\n\u001b[0;32m     42\u001b[0m \u001b[1;33m\u001b[0m\u001b[0m\n",
      "\u001b[1;32m<ipython-input-3-f8e7bb5d18dd>\u001b[0m in \u001b[0;36mfindLoopLinkedList\u001b[1;34m(head)\u001b[0m\n\u001b[0;32m     23\u001b[0m     \u001b[0misLooped\u001b[0m \u001b[1;33m=\u001b[0m \u001b[1;32mFalse\u001b[0m\u001b[1;33m\u001b[0m\u001b[0m\n\u001b[0;32m     24\u001b[0m     \u001b[1;32mwhile\u001b[0m \u001b[0mfastCounter\u001b[0m \u001b[1;32mis\u001b[0m \u001b[1;32mnot\u001b[0m \u001b[1;32mNone\u001b[0m\u001b[1;33m:\u001b[0m\u001b[1;33m\u001b[0m\u001b[0m\n\u001b[1;32m---> 25\u001b[1;33m         \u001b[1;32mif\u001b[0m \u001b[0mfastCounter\u001b[0m\u001b[1;33m.\u001b[0m\u001b[0mnext\u001b[0m\u001b[1;33m.\u001b[0m\u001b[0mnext\u001b[0m \u001b[1;32mis\u001b[0m \u001b[1;32mnot\u001b[0m \u001b[1;32mNone\u001b[0m \u001b[1;32mand\u001b[0m \u001b[1;32mnot\u001b[0m \u001b[0misLooped\u001b[0m\u001b[1;33m:\u001b[0m\u001b[1;33m\u001b[0m\u001b[0m\n\u001b[0m\u001b[0;32m     26\u001b[0m             \u001b[0mfastCounter\u001b[0m \u001b[1;33m=\u001b[0m \u001b[0mfastCounter\u001b[0m\u001b[1;33m.\u001b[0m\u001b[0mnext\u001b[0m\u001b[1;33m.\u001b[0m\u001b[0mnext\u001b[0m\u001b[1;33m\u001b[0m\u001b[0m\n\u001b[0;32m     27\u001b[0m             \u001b[0mslowCounter\u001b[0m \u001b[1;33m=\u001b[0m \u001b[0mslowCounter\u001b[0m\u001b[1;33m.\u001b[0m\u001b[0mnext\u001b[0m\u001b[1;33m\u001b[0m\u001b[0m\n",
      "\u001b[1;31mKeyboardInterrupt\u001b[0m: "
     ]
    }
   ],
   "source": [
    "first = LinkedListNode(3)\n",
    "second = LinkedListNode(7)\n",
    "third = LinkedListNode(9)\n",
    "fourth = LinkedListNode(4)\n",
    "fifth = LinkedListNode(5)\n",
    "sixth = LinkedListNode(18)\n",
    "seventh = LinkedListNode(2)\n",
    "eighth = LinkedListNode(6)\n",
    "first.setNext(second)\n",
    "second.setNext(third)\n",
    "third.setNext(fourth)\n",
    "fourth.setNext(fifth)\n",
    "fifth.setNext(sixth)\n",
    "sixth.setNext(seventh)\n",
    "seventh.setNext(eighth)\n",
    "# eighth.setNext(sixth)\n",
    "\n",
    "llist = LinkedList(first)\n",
    "\n",
    "def findLoopLinkedList(head):\n",
    "    fastCounter = head\n",
    "    slowCounter = head\n",
    "    isLooped = False\n",
    "    while fastCounter is not None:\n",
    "        if fastCounter.next.next is not None and not isLooped:\n",
    "            fastCounter = fastCounter.next.next\n",
    "            slowCounter = slowCounter.next\n",
    "        if slowCounter == fastCounter:\n",
    "            isLooped = True\n",
    "            slowCounter = head\n",
    "            \n",
    "        if isLooped:\n",
    "            while fastCounter is not None:\n",
    "                fastCounter = fastCounter.next\n",
    "                slowCounter = slowCounter.next\n",
    "                if slowCounter == fastCounter:\n",
    "                    return fastCounter\n",
    "    return False\n",
    "\n",
    "node = findLoopLinkedList(llist.head)\n",
    "print(node.data)            \n",
    "            \n",
    "        "
   ]
  },
  {
   "cell_type": "code",
   "execution_count": 173,
   "metadata": {},
   "outputs": [],
   "source": [
    "# Trees and Graph\n",
    "\n",
    "class Node:\n",
    "    def __init__(self, vertexId):\n",
    "        self.VertexId = vertexId\n",
    "        self.adjacency_set = set()\n",
    "    \n",
    "    def add_edge(self, v):\n",
    "        self.adjacency_set.add(v)\n",
    "    \n",
    "    def get_adjacency_vertices(self):\n",
    "        return self.adjacency_set\n",
    "        \n",
    "\n",
    "class AdjacencySetGraph:\n",
    "    def __init__(self, numVertices, directed=False):\n",
    "        self.numVertices = numVertices\n",
    "        self.directed = directed\n",
    "        \n",
    "        self.verticeList = []\n",
    "        \n",
    "        for i in range(self.numVertices):\n",
    "            self.verticeList.append(Node(i))\n",
    "            \n",
    "    def add_edge(self, v1, v2):\n",
    "        self.verticeList[v1].add_edge(v2)\n",
    "        if not self.directed:\n",
    "            self.verticeList[v2].add_edge(v1)\n",
    "        \n",
    "    def get_adjacent_vertices(self, v):\n",
    "        return self.verticeList[v].get_adjacency_vertices()\n",
    "    \n",
    "    def displayGraph(self):\n",
    "        for i in range(self.numVertices):\n",
    "            for v in self.get_adjacent_vertices(i):\n",
    "                print(i, \"-->\", v)"
   ]
  },
  {
   "cell_type": "code",
   "execution_count": 177,
   "metadata": {},
   "outputs": [
    {
     "data": {
      "text/plain": [
       "False"
      ]
     },
     "execution_count": 177,
     "metadata": {},
     "output_type": "execute_result"
    }
   ],
   "source": [
    "g = AdjacencySetGraph(6,True)\n",
    "g.add_edge(0,1)\n",
    "g.add_edge(0,2)\n",
    "g.add_edge(3,4)\n",
    "g.add_edge(3,5)\n",
    "g.add_edge(4,5)\n",
    "g.add_edge(2,5)\n",
    "# g.displayGraph()\n",
    "\n",
    "from queue import Queue\n",
    "def findRoute(g,v1,v2):\n",
    "    visited = [False] * g.numVertices\n",
    "    q = Queue()\n",
    "    q.put(v1)\n",
    "    \n",
    "    while not q.empty():\n",
    "        v = q.get()\n",
    "        visited[v] = True\n",
    "        for _v in g.get_adjacent_vertices(v):\n",
    "            if _v == v2:\n",
    "                return True\n",
    "                break\n",
    "            else:\n",
    "                if not visited[_v]:\n",
    "                    q.put(_v)\n",
    "    return False\n",
    "\n",
    "findRoute(g,0,3)"
   ]
  },
  {
   "cell_type": "code",
   "execution_count": 186,
   "metadata": {},
   "outputs": [
    {
     "data": {
      "text/plain": [
       "4"
      ]
     },
     "execution_count": 186,
     "metadata": {},
     "output_type": "execute_result"
    }
   ],
   "source": [
    "class TreeNode:\n",
    "    def __init__(self, value, left = None, right=None):\n",
    "        self.value = value\n",
    "        self.left = left\n",
    "        self.right = right\n",
    "            \n",
    "\n",
    "def createMinimalBST(arr, start, end):\n",
    "    if end < start:\n",
    "        return\n",
    "    mid = (start + end) // 2\n",
    "    node = TreeNode(arr[mid])\n",
    "    node.left = createMinimalBST(arr, start, mid-1)\n",
    "    node.right = createMinimalBST(arr, mid+1, end)\n",
    "    return node\n",
    "\n",
    "arr = [1,2,3,4,5,6,7,8,9]\n",
    "node = createMinimalBST(arr,0,len(arr)-1)\n",
    "node.left.right.right.value"
   ]
  },
  {
   "cell_type": "code",
   "execution_count": 206,
   "metadata": {},
   "outputs": [],
   "source": [
    "def createLevelLinkedList(root, level, list_llist):\n",
    "    if root is None:\n",
    "        return\n",
    "    if len(list_llist) == level:\n",
    "        llist = LinkedList()\n",
    "        list_llist.append(llist)\n",
    "    else:\n",
    "        llist = list_llist[level]\n",
    "    \n",
    "    node = LinkedListNode(root.value)\n",
    "    llist.add(node)\n",
    "    createLevelLinkedList(root.left,level+1,list_llist)\n",
    "    createLevelLinkedList(root.right,level+1,list_llist)\n",
    "\n",
    "r= TreeNode(1,TreeNode(2,TreeNode(4), TreeNode(5)),TreeNode(3,TreeNode(6),TreeNode(7)))\n",
    "list_llist = []\n",
    "createLevelLinkedList(r, 0, list_llist)"
   ]
  },
  {
   "cell_type": "code",
   "execution_count": 209,
   "metadata": {},
   "outputs": [
    {
     "name": "stdout",
     "output_type": "stream",
     "text": [
      "1-->\n"
     ]
    }
   ],
   "source": [
    "print_llist(list_llist[0].head)"
   ]
  },
  {
   "cell_type": "code",
   "execution_count": 27,
   "metadata": {},
   "outputs": [],
   "source": [
    "class node:\n",
    "    def __init__(self,val,ln=None,rn=None):\n",
    "        self.data = val\n",
    "        self.left = ln\n",
    "        self.right = rn\n",
    "\n",
    "a = node(4)\n",
    "b = node(5)\n",
    "c = node(2,a,b)\n",
    "d = node(3)\n",
    "e = node(6)\n",
    "f = node(7,e,d)\n",
    "g = node(1,c,f)\n",
    "h = node(8)\n",
    "i = node(9,g,h)"
   ]
  },
  {
   "cell_type": "code",
   "execution_count": 234,
   "metadata": {},
   "outputs": [
    {
     "data": {
      "text/plain": [
       "False"
      ]
     },
     "execution_count": 234,
     "metadata": {},
     "output_type": "execute_result"
    }
   ],
   "source": [
    "class return_result:\n",
    "    def __init__(self, height, isBalanced):\n",
    "        self.height = height\n",
    "        self.isBalanced = isBalanced\n",
    "def isBalancedTree(node):\n",
    "    if node is None:        \n",
    "        return return_result(0,True)\n",
    "    res_l = isBalancedTree(node.left)\n",
    "    res_r = isBalancedTree(node.right)\n",
    "    \n",
    "    h = max(res_l.height,res_r.height)+1\n",
    "#     print(h)\n",
    "    if abs(res_r.height - res_l.height)> 1 or not res_l.isBalanced or not res_r.isBalanced:\n",
    "        return return_result(h,False)\n",
    "    return return_result(h,True)\n",
    "\n",
    "res = isBalancedTree(i)\n",
    "res.isBalanced"
   ]
  },
  {
   "cell_type": "code",
   "execution_count": 297,
   "metadata": {},
   "outputs": [
    {
     "data": {
      "text/plain": [
       "True"
      ]
     },
     "execution_count": 297,
     "metadata": {},
     "output_type": "execute_result"
    }
   ],
   "source": [
    "import math\n",
    "class result_set:\n",
    "    def __init__(self,_min, _max, isBST):\n",
    "        self.min = _min\n",
    "        self.max = _max\n",
    "        self.isBST = isBST\n",
    "def isBST(node):\n",
    "    if node is None:\n",
    "        return result_set(math.inf,-math.inf, True)\n",
    "    r_l = isBST(node.left)\n",
    "    r_r = isBST(node.right)\n",
    "    \n",
    "#     print(r_r)\n",
    "    \n",
    "    _min = min(r_l.min,node.data)    \n",
    "    _max = max(r_r.max,node.data)\n",
    "    \n",
    "    if not r_r.isBST or not r_l.isBST:\n",
    "        return result_set(_min,_max, False)\n",
    "    \n",
    "#     print(r_r.min)\n",
    "#     print(node.data)\n",
    "#     print(r_l.max)\n",
    "    \n",
    "    if r_l.max > node.data or r_r.min < node.data:\n",
    "        return result_set(_min,_max, False)\n",
    "    return result_set(_min,_max, True)\n",
    "\n",
    "# r = isBST(i)\n",
    "# r.isBST\n",
    "\n",
    "a = node(1)\n",
    "b = node(3)\n",
    "c = node(2,a,b)\n",
    "d = node(7)\n",
    "e = node(5)\n",
    "f = node(6,e,d)\n",
    "g = node(4,c,f)\n",
    "h = node(9)\n",
    "i = node(8,g,h)\n",
    "\n",
    "r = isBST(c)\n",
    "r.isBST"
   ]
  },
  {
   "cell_type": "code",
   "execution_count": 298,
   "metadata": {},
   "outputs": [
    {
     "data": {
      "text/plain": [
       "True"
      ]
     },
     "execution_count": 298,
     "metadata": {},
     "output_type": "execute_result"
    }
   ],
   "source": [
    "class wrapInt:\n",
    "    val = None\n",
    "    def __init__(self,n = None):\n",
    "        self.int = n\n",
    "        \n",
    "def isBST(node):\n",
    "    if node is None:\n",
    "        return True\n",
    "    if not isBST(node.left):\n",
    "        return False\n",
    "    \n",
    "#     print(\"==================\")\n",
    "#     print(node.data)\n",
    "#     print(wrapInt.val)\n",
    "    \n",
    "    if wrapInt.val is not None and node.data <= wrapInt.val:\n",
    "        return False\n",
    "    \n",
    "    wrapInt.val = node.data\n",
    "    \n",
    "#     print(wrapInt.val)\n",
    "#     print(\"==================\")\n",
    "    \n",
    "    if not isBST(node.right):\n",
    "        return False\n",
    "    \n",
    "    return True\n",
    "\n",
    "a = node(1)\n",
    "b = node(3)\n",
    "c = node(2,a,b)\n",
    "d = node(7)\n",
    "e = node(5)\n",
    "f = node(6,e,d)\n",
    "g = node(4,c,f)\n",
    "h = node(9)\n",
    "i = node(8,g,h)\n",
    "\n",
    "# i = wrapInt()\n",
    "r = isBST(g)\n",
    "r   "
   ]
  },
  {
   "cell_type": "code",
   "execution_count": 26,
   "metadata": {},
   "outputs": [
    {
     "name": "stdout",
     "output_type": "stream",
     "text": [
      "4\n"
     ]
    }
   ],
   "source": [
    "# Brute Force (NlogN)\n",
    "def countPathsWithSum(node, targetSum):\n",
    "    if node is None:\n",
    "        return 0\n",
    "    \n",
    "    path_count = countPathWithSumFromNode(node, targetSum, 0, 0);\n",
    "    \n",
    "    path_count_left = countPathsWithSum(node.left, targetSum)\n",
    "    path_count_right = countPathsWithSum(node.right, targetSum)\n",
    "    \n",
    "    return path_count+path_count_left+path_count_right\n",
    "\n",
    "def countPathWithSumFromNode(node, targetSum, total_sum, path_count):\n",
    "    if node is None:\n",
    "        return 0\n",
    "    \n",
    "    total_sum += node.data\n",
    "    \n",
    "    if total_sum == targetSum:\n",
    "        path_count +=1\n",
    "        \n",
    "    path_count += countPathWithSumFromNode(node.left, targetSum, total_sum, 0)\n",
    "    path_count += countPathWithSumFromNode(node.right, targetSum, total_sum, 0)\n",
    "    \n",
    "    return path_count\n",
    "\n",
    "a = node(1)\n",
    "b = node(3)\n",
    "c = node(2,a,b)\n",
    "d = node(7)\n",
    "e = node(5)\n",
    "f = node(6,e,d)\n",
    "g = node(2,c,f)\n",
    "h = node(9)\n",
    "i = node(1,g,h)\n",
    "print(countPathsWithSum(i,5))"
   ]
  },
  {
   "cell_type": "code",
   "execution_count": 43,
   "metadata": {},
   "outputs": [
    {
     "name": "stdout",
     "output_type": "stream",
     "text": [
      "4\n"
     ]
    }
   ],
   "source": [
    "def countPathWithSumOptimized(node,hashTable, target_sum,running_sum):\n",
    "    \n",
    "    if node is None:\n",
    "        return 0\n",
    "    running_sum += node.data\n",
    "    diff = running_sum - target_sum\n",
    "    count_path = 0\n",
    "    if diff in hashTable:\n",
    "        count_path = hashTable[diff]\n",
    "        \n",
    "    if running_sum == target_sum:\n",
    "        count_path += 1\n",
    "        \n",
    "    updateHashTable(hashTable, running_sum, 1)\n",
    "    count_path += countPathWithSumOptimized(node.left,hashTable, target_sum,running_sum)\n",
    "    count_path += countPathWithSumOptimized(node.right,hashTable, target_sum,running_sum)\n",
    "    updateHashTable(hashTable, running_sum, -1)\n",
    "    \n",
    "    return count_path\n",
    "\n",
    "def updateHashTable(hashTable, key, flag):\n",
    "    new_count = 0\n",
    "    if key in hashTable:\n",
    "        new_count = flag + hashTable[key]\n",
    "    else:\n",
    "        new_count += flag\n",
    "    if new_count == 0:\n",
    "        hashTable.pop(key,None)\n",
    "    else:\n",
    "        hashTable[key] = new_count\n",
    "#     print(hashTable)\n",
    "        \n",
    "a = node(1)\n",
    "b = node(3)\n",
    "c = node(2,a,b)\n",
    "d = node(7)\n",
    "e = node(5)\n",
    "f = node(6,e,d)\n",
    "g = node(2,c,f)\n",
    "h = node(9)\n",
    "i = node(1,g,h)\n",
    "hashTable = dict()\n",
    "print(countPathWithSumOptimized(i,hashTable,5,0))\n",
    "# hashTable"
   ]
  },
  {
   "cell_type": "code",
   "execution_count": 37,
   "metadata": {},
   "outputs": [
    {
     "data": {
      "text/plain": [
       "{10: 1}"
      ]
     },
     "execution_count": 37,
     "metadata": {},
     "output_type": "execute_result"
    }
   ],
   "source": [
    "from collections import defaultdict\n",
    "d = dict()\n",
    "def test(dt):\n",
    "    dt[10]=1\n",
    "test(d)\n",
    "# d[10] = 1\n",
    "# d.pop(10,None)\n",
    "d"
   ]
  },
  {
   "cell_type": "code",
   "execution_count": 14,
   "metadata": {},
   "outputs": [
    {
     "data": {
      "text/plain": [
       "0"
      ]
     },
     "execution_count": 14,
     "metadata": {},
     "output_type": "execute_result"
    }
   ],
   "source": [
    "d.get(20,0)"
   ]
  },
  {
   "cell_type": "code",
   "execution_count": 117,
   "metadata": {},
   "outputs": [
    {
     "name": "stdout",
     "output_type": "stream",
     "text": [
      "0\n",
      "7\n",
      "=========\n",
      "0\n",
      "3\n",
      "=========\n",
      "0\n",
      "1\n",
      "=========\n",
      "0\n",
      "0\n",
      "=========\n"
     ]
    },
    {
     "data": {
      "text/plain": [
       "1"
      ]
     },
     "execution_count": 117,
     "metadata": {},
     "output_type": "execute_result"
    }
   ],
   "source": [
    "# get random node\n",
    "import random\n",
    "class TreeNode:\n",
    "    def __init__(self, data, size = 1,left=None, right=None):\n",
    "        self.data = data\n",
    "        self.size = size\n",
    "        self.left = left\n",
    "        self.right = right\n",
    "        \n",
    "    def insertInOrder(self, data):\n",
    "        if data <= self.data:\n",
    "            if self.left is None:\n",
    "                self.left = TreeNode(data)\n",
    "            else:\n",
    "                self.left.insertInOrder(data)\n",
    "        else:\n",
    "            if self.right is None:\n",
    "                self.right = TreeNode(data)\n",
    "            else:\n",
    "                self.right.insertInOrder(data)\n",
    "        self.size += 1\n",
    "    \n",
    "    def getRandomNode(self, random_int):\n",
    "        left_size = 0\n",
    "        \n",
    "        if self.left is not None:\n",
    "            left_size = self.left.size\n",
    "        \n",
    "        print(random_int)\n",
    "        print(left_size)\n",
    "        print(\"=========\")\n",
    "        if random_int < left_size:\n",
    "            return self.left.getRandomNode(random_int)\n",
    "        elif random_int == left_size:\n",
    "#             print(self.left.data)\n",
    "            return self\n",
    "        else:\n",
    "            if random_int > self.right.size:\n",
    "                random_int = random_int - left_size - 1\n",
    "            return self.right.getRandomNode(random_int)\n",
    "\n",
    "a = TreeNode(8)\n",
    "a.insertInOrder(4)\n",
    "a.insertInOrder(2)\n",
    "a.insertInOrder(1)\n",
    "a.insertInOrder(3)\n",
    "a.insertInOrder(6)\n",
    "a.insertInOrder(5)\n",
    "a.insertInOrder(7)\n",
    "a.insertInOrder(9)\n",
    "\n",
    "a.left.left.size\n",
    "a.left.left.data\n",
    "# i = random.randrange(0,a.size,1)\n",
    "# i\n",
    "r_n = a.getRandomNode(0)\n",
    "r_n.data"
   ]
  },
  {
   "cell_type": "code",
   "execution_count": 47,
   "metadata": {},
   "outputs": [
    {
     "name": "stdout",
     "output_type": "stream",
     "text": [
      "[0, 0, 0, 1, 2, 3]\n",
      "match found at index   3\n",
      "match found at index   5\n",
      "match found at index   10\n"
     ]
    }
   ],
   "source": [
    "def computeLPS(pat):\n",
    "    M = len(pat)\n",
    "    \n",
    "    i = 1\n",
    "    pre_i =0\n",
    "    lps = [0]*M\n",
    "    while i < M:\n",
    "#         print(pre_i,\"<--\",pat[pre_i],\"<--\",i,\"<--\",pat[i])\n",
    "#         print(i)\n",
    "#         print(\"====\")\n",
    "        if pat[i] == pat[pre_i]:\n",
    "            lps[i]=pre_i + 1\n",
    "            i+=1\n",
    "            pre_i+=1\n",
    "        else:\n",
    "            if pre_i > 0:\n",
    "                pre_i = lps[pre_i-1]\n",
    "            else:\n",
    "                lps[i] = 0\n",
    "                i+=1\n",
    "    return lps\n",
    "\n",
    "print(computeLPS(\"ABCABC\"))\n",
    "\n",
    "def matchPattern(pat, txt):\n",
    "    M = len(pat)\n",
    "    N = len(txt)\n",
    "    \n",
    "    if N == 0 or M == 0:\n",
    "        return True\n",
    "    lps = computeLPS(pat)\n",
    "    i = 0\n",
    "    j = 0\n",
    "    while i < N:\n",
    "        if txt[i] == pat[j]:\n",
    "            i += 1\n",
    "            j += 1\n",
    "            if j == M:\n",
    "                print(\"match found at index  \",i-M)\n",
    "                j = lps[j-1]\n",
    "#                 return True\n",
    "        else:\n",
    "            if j != 0:\n",
    "                j = lps[j-1]\n",
    "            else:\n",
    "                i += 1\n",
    "#     return False\n",
    "\n",
    "matchPattern(\"ABA\", \"ABBABABABBABA\")      "
   ]
  },
  {
   "cell_type": "code",
   "execution_count": null,
   "metadata": {},
   "outputs": [],
   "source": [
    "def containsTree(t1, t2):\n",
    "    if t2 is None:\n",
    "        return True\n",
    "    res = isSubTree(t1,t2)\n",
    "    return res\n",
    "\n",
    "def isSubTree(t1,t2):\n",
    "    if t1 is None:\n",
    "        return False\n",
    "    elif t1.data == t2.data and matchTree(t1,t2):\n",
    "        return True\n",
    "    return isSubTree(t1.left, t2) or isSubTree(t1.right, t2)\n",
    "\n",
    "def matchTree(t1,t2):\n",
    "    if t1 is None and t2 is None:\n",
    "        return True\n",
    "    if t1 is None or t2 is None:\n",
    "        return False\n",
    "    if t1.data != t2.data:\n",
    "        return False\n",
    "    return matchTree(t1.left,t2.left) and matchTree(t1.right, t2.right)\n",
    "    "
   ]
  },
  {
   "cell_type": "code",
   "execution_count": 50,
   "metadata": {},
   "outputs": [
    {
     "name": "stdout",
     "output_type": "stream",
     "text": [
      "4221XX3XX65XX7XX9XX\n",
      "21XX3XX\n",
      "match found at index   2\n"
     ]
    }
   ],
   "source": [
    "def containsTreePreOrder(t1, t2):\n",
    "    s1 = []\n",
    "    s2 = []\n",
    "    \n",
    "    getOrderList(t1, s1)\n",
    "    getOrderList(t2, s2)\n",
    "    \n",
    "    print(''.join(s1))\n",
    "    print(''.join(s2))\n",
    "    \n",
    "    matchPattern(''.join(s2),''.join(s1))\n",
    "#     if matchPattern(''.join(s1),''.join(s2)):\n",
    "#         return True\n",
    "#     return False\n",
    "\n",
    "def getOrderList(t, s):\n",
    "    if t is None:\n",
    "        s.append(\"X\")\n",
    "        return\n",
    "    s.append(str(t.data))\n",
    "    getOrderList(t.left,s)\n",
    "    getOrderList(t.right,s)\n",
    "#     print(s)\n",
    "    \n",
    "a = node(1)\n",
    "b = node(3)\n",
    "c = node(2,a,b)\n",
    "d = node(7)\n",
    "e = node(5)\n",
    "f = node(6,e,d)\n",
    "g = node(2,c,f)\n",
    "h = node(9)\n",
    "i = node(4,g,h)\n",
    "\n",
    "s=[]\n",
    "containsTreePreOrder(i,c)"
   ]
  },
  {
   "cell_type": "code",
   "execution_count": 68,
   "metadata": {},
   "outputs": [
    {
     "data": {
      "text/plain": [
       "1"
      ]
     },
     "execution_count": 68,
     "metadata": {},
     "output_type": "execute_result"
    }
   ],
   "source": [
    "class Result:\n",
    "    def __init__(self, node, isAncestor):\n",
    "        self.node = node\n",
    "        self.isAncestor = isAncestor\n",
    "        \n",
    "def LCA(root, p, q):\n",
    "    \n",
    "    if root is None:\n",
    "        return Result(None, False)\n",
    "    if root == p and root == q:\n",
    "        return Result(root, True)\n",
    "    left_res = LCA(root.left,p,q)\n",
    "    if left_res.isAncestor:\n",
    "        return left_res\n",
    "    right_res = LCA(root.right, p,q)\n",
    "    if right_res.isAncestor:\n",
    "        return right_res\n",
    "    \n",
    "    if left_res.node is not None and right_res.node is not None:\n",
    "        return Result(root, True)\n",
    "    if root == p or root == q:\n",
    "        isAncestor = left_res.node is not None or right_res.node is not None\n",
    "        return Result(root, isAncestor)\n",
    "    if left_res.node is not None:\n",
    "        return Result(left_res.node,False)\n",
    "    else:\n",
    "        return Result(right_res.node, False)\n",
    "    \n",
    "class node:\n",
    "    def __init__(self,val,ln=None,rn=None):\n",
    "        self.data = val\n",
    "        self.left = ln\n",
    "        self.right = rn\n",
    "\n",
    "a = node(4)\n",
    "b = node(5)\n",
    "c = node(2,a,b)\n",
    "d = node(3)\n",
    "e = node(6)\n",
    "f = node(7,e,d)\n",
    "g = node(1,c,f)\n",
    "h = node(8)\n",
    "i = node(9,g,h)\n",
    "\n",
    "x = LCA(i, g, a)\n",
    "x.node.data"
   ]
  },
  {
   "cell_type": "code",
   "execution_count": 78,
   "metadata": {},
   "outputs": [
    {
     "data": {
      "text/plain": [
       "2555757"
      ]
     },
     "execution_count": 78,
     "metadata": {},
     "output_type": "execute_result"
    }
   ],
   "source": [
    "# DP\n",
    "def runUpStair(n):\n",
    "    if n < 0:\n",
    "        return 0\n",
    "    if n == 0:\n",
    "        return 1\n",
    "    \n",
    "    ways = runUpStair(n-1) + runUpStair(n-2) + runUpStair(n-3)\n",
    "    return ways\n",
    "\n",
    "runUpStair(25)"
   ]
  },
  {
   "cell_type": "code",
   "execution_count": 82,
   "metadata": {},
   "outputs": [
    {
     "data": {
      "text/plain": [
       "180396380815100901214157639"
      ]
     },
     "execution_count": 82,
     "metadata": {},
     "output_type": "execute_result"
    }
   ],
   "source": [
    "def runUpStair(n):\n",
    "    if n < 0:\n",
    "        return 0\n",
    "    a = 0\n",
    "    b = 0\n",
    "    c = 1\n",
    "    for i in range(n):\n",
    "        w = a + b + c\n",
    "        a = b\n",
    "        b = c\n",
    "        c = w\n",
    "    return w\n",
    "\n",
    "runUpStair(100)"
   ]
  },
  {
   "cell_type": "code",
   "execution_count": 19,
   "metadata": {},
   "outputs": [
    {
     "data": {
      "text/plain": [
       "[[0, 0],\n",
       " [0, 1],\n",
       " [0, 2],\n",
       " [0, 3],\n",
       " [0, 4],\n",
       " [0, 5],\n",
       " [1, 5],\n",
       " [2, 5],\n",
       " [3, 5],\n",
       " [4, 5],\n",
       " [5, 5]]"
      ]
     },
     "execution_count": 19,
     "metadata": {},
     "output_type": "execute_result"
    }
   ],
   "source": [
    "def getPath(maze,r,c,path):\n",
    "    if r < 0 or c < 0 or maze[r][c] == -1:\n",
    "        return False\n",
    "    isAtOrigin = False\n",
    "    if r == 0 and c == 0:\n",
    "        isAtOrigin = True\n",
    "        \n",
    "    if isAtOrigin or getPath(maze, r-1,c,path) or getPath(maze,r,c-1,path):\n",
    "        path.append([r,c])\n",
    "        return True\n",
    "    return False\n",
    "\n",
    "def getPathDP(maze,r,c,path,failed_point):\n",
    "    if [r,c] in failed_point:\n",
    "        return False\n",
    "    if r < 0 or c < 0 or maze[r][c] == -1:\n",
    "        return False\n",
    "    isAtOrigin = False\n",
    "    if r == 0 and c == 0:\n",
    "        isAtOrigin = True\n",
    "        \n",
    "    if isAtOrigin or getPathDP(maze, r-1,c,path,failed_point) or getPathDP(maze,r,c-1,path,failed_point):\n",
    "        path.append([r,c])\n",
    "        return True\n",
    "    failed_point.append([r,c])\n",
    "    return False\n",
    "\n",
    "import time\n",
    "path = []\n",
    "failed_point = []\n",
    "maze = [[0,0,0,0,0,0],[0,0,0,-1,0,0],[0,0,0,-1,0,0],[0,0,0,-1,0,0],[0,0,0,-1,0,0],[0,0,0,0,0,0]]\n",
    "# st = time.time()\n",
    "# for i in range(1000000):\n",
    "getPathDP(maze, 5, 5, path,failed_point)\n",
    "# et = time.time()\n",
    "# print(et-st)\n",
    "# print(st)\n",
    "\n",
    "# st = time.time()\n",
    "# for i in range(1000000):\n",
    "#     getPath(maze, 5, 5, path)\n",
    "# et = time.time()\n",
    "# print(et-st)\n",
    "# # print(st)\n",
    "path    "
   ]
  },
  {
   "cell_type": "code",
   "execution_count": 45,
   "metadata": {},
   "outputs": [],
   "source": [
    "GRID_SIZE = 8\n",
    "def placeQueens(columns, row, places):\n",
    "    if row == GRID_SIZE:\n",
    "        places.append(columns.copy())\n",
    "    else:\n",
    "        for column in range(GRID_SIZE):\n",
    "            if checkValid(columns, row, column):\n",
    "                columns[row] = column\n",
    "#                 print(\"r=\",row,\"c=\",column)\n",
    "#                 print(\"==========\")\n",
    "                placeQueens(columns, row+1, places)\n",
    "                \n",
    "def checkValid(columns, row, column):\n",
    "    for r in range(row):\n",
    "        c = columns[r]\n",
    "        \n",
    "        if c == column:\n",
    "            return False\n",
    "        \n",
    "        col_diff = abs(column - c)\n",
    "        row_diff = abs(row - r)\n",
    "        \n",
    "        if col_diff == row_diff:\n",
    "            return False\n",
    "    return True\n",
    "\n",
    "columns = [0]*GRID_SIZE\n",
    "places = list()\n",
    "placeQueens(columns,0,places)"
   ]
  },
  {
   "cell_type": "code",
   "execution_count": 48,
   "metadata": {},
   "outputs": [
    {
     "data": {
      "text/plain": [
       "[[0, 4, 7, 5, 2, 6, 1, 3],\n",
       " [0, 5, 7, 2, 6, 3, 1, 4],\n",
       " [0, 6, 3, 5, 7, 1, 4, 2],\n",
       " [0, 6, 4, 7, 1, 3, 5, 2],\n",
       " [1, 3, 5, 7, 2, 0, 6, 4],\n",
       " [1, 4, 6, 0, 2, 7, 5, 3],\n",
       " [1, 4, 6, 3, 0, 7, 5, 2],\n",
       " [1, 5, 0, 6, 3, 7, 2, 4],\n",
       " [1, 5, 7, 2, 0, 3, 6, 4],\n",
       " [1, 6, 2, 5, 7, 4, 0, 3],\n",
       " [1, 6, 4, 7, 0, 3, 5, 2],\n",
       " [1, 7, 5, 0, 2, 4, 6, 3],\n",
       " [2, 0, 6, 4, 7, 1, 3, 5],\n",
       " [2, 4, 1, 7, 0, 6, 3, 5],\n",
       " [2, 4, 1, 7, 5, 3, 6, 0],\n",
       " [2, 4, 6, 0, 3, 1, 7, 5],\n",
       " [2, 4, 7, 3, 0, 6, 1, 5],\n",
       " [2, 5, 1, 4, 7, 0, 6, 3],\n",
       " [2, 5, 1, 6, 0, 3, 7, 4],\n",
       " [2, 5, 1, 6, 4, 0, 7, 3],\n",
       " [2, 5, 3, 0, 7, 4, 6, 1],\n",
       " [2, 5, 3, 1, 7, 4, 6, 0],\n",
       " [2, 5, 7, 0, 3, 6, 4, 1],\n",
       " [2, 5, 7, 0, 4, 6, 1, 3],\n",
       " [2, 5, 7, 1, 3, 0, 6, 4],\n",
       " [2, 6, 1, 7, 4, 0, 3, 5],\n",
       " [2, 6, 1, 7, 5, 3, 0, 4],\n",
       " [2, 7, 3, 6, 0, 5, 1, 4],\n",
       " [3, 0, 4, 7, 1, 6, 2, 5],\n",
       " [3, 0, 4, 7, 5, 2, 6, 1],\n",
       " [3, 1, 4, 7, 5, 0, 2, 6],\n",
       " [3, 1, 6, 2, 5, 7, 0, 4],\n",
       " [3, 1, 6, 2, 5, 7, 4, 0],\n",
       " [3, 1, 6, 4, 0, 7, 5, 2],\n",
       " [3, 1, 7, 4, 6, 0, 2, 5],\n",
       " [3, 1, 7, 5, 0, 2, 4, 6],\n",
       " [3, 5, 0, 4, 1, 7, 2, 6],\n",
       " [3, 5, 7, 1, 6, 0, 2, 4],\n",
       " [3, 5, 7, 2, 0, 6, 4, 1],\n",
       " [3, 6, 0, 7, 4, 1, 5, 2],\n",
       " [3, 6, 2, 7, 1, 4, 0, 5],\n",
       " [3, 6, 4, 1, 5, 0, 2, 7],\n",
       " [3, 6, 4, 2, 0, 5, 7, 1],\n",
       " [3, 7, 0, 2, 5, 1, 6, 4],\n",
       " [3, 7, 0, 4, 6, 1, 5, 2],\n",
       " [3, 7, 4, 2, 0, 6, 1, 5],\n",
       " [4, 0, 3, 5, 7, 1, 6, 2],\n",
       " [4, 0, 7, 3, 1, 6, 2, 5],\n",
       " [4, 0, 7, 5, 2, 6, 1, 3],\n",
       " [4, 1, 3, 5, 7, 2, 0, 6],\n",
       " [4, 1, 3, 6, 2, 7, 5, 0],\n",
       " [4, 1, 5, 0, 6, 3, 7, 2],\n",
       " [4, 1, 7, 0, 3, 6, 2, 5],\n",
       " [4, 2, 0, 5, 7, 1, 3, 6],\n",
       " [4, 2, 0, 6, 1, 7, 5, 3],\n",
       " [4, 2, 7, 3, 6, 0, 5, 1],\n",
       " [4, 6, 0, 2, 7, 5, 3, 1],\n",
       " [4, 6, 0, 3, 1, 7, 5, 2],\n",
       " [4, 6, 1, 3, 7, 0, 2, 5],\n",
       " [4, 6, 1, 5, 2, 0, 3, 7],\n",
       " [4, 6, 1, 5, 2, 0, 7, 3],\n",
       " [4, 6, 3, 0, 2, 7, 5, 1],\n",
       " [4, 7, 3, 0, 2, 5, 1, 6],\n",
       " [4, 7, 3, 0, 6, 1, 5, 2],\n",
       " [5, 0, 4, 1, 7, 2, 6, 3],\n",
       " [5, 1, 6, 0, 2, 4, 7, 3],\n",
       " [5, 1, 6, 0, 3, 7, 4, 2],\n",
       " [5, 2, 0, 6, 4, 7, 1, 3],\n",
       " [5, 2, 0, 7, 3, 1, 6, 4],\n",
       " [5, 2, 0, 7, 4, 1, 3, 6],\n",
       " [5, 2, 4, 6, 0, 3, 1, 7],\n",
       " [5, 2, 4, 7, 0, 3, 1, 6],\n",
       " [5, 2, 6, 1, 3, 7, 0, 4],\n",
       " [5, 2, 6, 1, 7, 4, 0, 3],\n",
       " [5, 2, 6, 3, 0, 7, 1, 4],\n",
       " [5, 3, 0, 4, 7, 1, 6, 2],\n",
       " [5, 3, 1, 7, 4, 6, 0, 2],\n",
       " [5, 3, 6, 0, 2, 4, 1, 7],\n",
       " [5, 3, 6, 0, 7, 1, 4, 2],\n",
       " [5, 7, 1, 3, 0, 6, 4, 2],\n",
       " [6, 0, 2, 7, 5, 3, 1, 4],\n",
       " [6, 1, 3, 0, 7, 4, 2, 5],\n",
       " [6, 1, 5, 2, 0, 3, 7, 4],\n",
       " [6, 2, 0, 5, 7, 4, 1, 3],\n",
       " [6, 2, 7, 1, 4, 0, 5, 3],\n",
       " [6, 3, 1, 4, 7, 0, 2, 5],\n",
       " [6, 3, 1, 7, 5, 0, 2, 4],\n",
       " [6, 4, 2, 0, 5, 7, 1, 3],\n",
       " [7, 1, 3, 0, 6, 4, 2, 5],\n",
       " [7, 1, 4, 2, 0, 6, 3, 5],\n",
       " [7, 2, 0, 5, 1, 4, 6, 3],\n",
       " [7, 3, 0, 2, 5, 1, 6, 4]]"
      ]
     },
     "execution_count": 48,
     "metadata": {},
     "output_type": "execute_result"
    }
   ],
   "source": [
    "len(places)\n",
    "places"
   ]
  },
  {
   "cell_type": "code",
   "execution_count": 6,
   "metadata": {},
   "outputs": [
    {
     "data": {
      "text/plain": [
       "[4, 5, 6, 7]"
      ]
     },
     "execution_count": 6,
     "metadata": {},
     "output_type": "execute_result"
    }
   ],
   "source": [
    "s =[[1,2,3],4,5,6,7]\n",
    "s[1:]\n",
    "# for i in s:\n",
    "#     print(i)"
   ]
  },
  {
   "cell_type": "code",
   "execution_count": 3,
   "metadata": {},
   "outputs": [
    {
     "data": {
      "text/plain": [
       "[[],\n",
       " [1],\n",
       " [2],\n",
       " [2, 1],\n",
       " [3],\n",
       " [3, 1],\n",
       " [3, 2],\n",
       " [3, 2, 1],\n",
       " [4],\n",
       " [4, 1],\n",
       " [4, 2],\n",
       " [4, 2, 1],\n",
       " [4, 3],\n",
       " [4, 3, 1],\n",
       " [4, 3, 2],\n",
       " [4, 3, 2, 1]]"
      ]
     },
     "execution_count": 3,
     "metadata": {},
     "output_type": "execute_result"
    }
   ],
   "source": [
    "def subset(s):\n",
    "    if len(s)== 0:\n",
    "        return []\n",
    "    if len(s) == 1:\n",
    "        return [[],s]\n",
    "#     if len(s)==2:\n",
    "#         return [[],[s[0]],[s[1]],s]\n",
    "    return addSet(s[0],subset(s[1:]))\n",
    "\n",
    "def addSet(s1,s2):\n",
    "    new_set = []\n",
    "    for s in s2:\n",
    "        new_set.append(s.copy())\n",
    "        s.append(s1)\n",
    "        new_set.append(s.copy())\n",
    "    return new_set\n",
    "\n",
    "res = subset([1,2,3,4])\n",
    "res"
   ]
  },
  {
   "cell_type": "code",
   "execution_count": 25,
   "metadata": {},
   "outputs": [
    {
     "data": {
      "text/plain": [
       "[[], [1], [2], [2, 1], [3], [3, 1], [2, 3], [2, 3, 1]]"
      ]
     },
     "execution_count": 25,
     "metadata": {},
     "output_type": "execute_result"
    }
   ],
   "source": [
    "x = addSet(1,[[],[2],[3],[2,3]])\n",
    "x"
   ]
  },
  {
   "cell_type": "code",
   "execution_count": 44,
   "metadata": {},
   "outputs": [
    {
     "data": {
      "text/plain": [
       "28868397"
      ]
     },
     "execution_count": 44,
     "metadata": {},
     "output_type": "execute_result"
    }
   ],
   "source": [
    "def makeChange(amount, denoms, index):\n",
    "    if index >= len(denoms) -1:\n",
    "        return 1\n",
    "    \n",
    "    denom = denoms[index]\n",
    "    ways = 0\n",
    "    \n",
    "    i = 0\n",
    "    while amount >= i* denom:\n",
    "        ways += makeChange(amount-i*denom, denoms, index+1)\n",
    "        i+=1\n",
    "    return ways\n",
    "\n",
    "res=makeChange(800,[50,25,10,5,2,1],0)\n",
    "res"
   ]
  },
  {
   "cell_type": "code",
   "execution_count": 43,
   "metadata": {},
   "outputs": [
    {
     "data": {
      "text/plain": [
       "28868397"
      ]
     },
     "execution_count": 43,
     "metadata": {},
     "output_type": "execute_result"
    }
   ],
   "source": [
    "def makeChangeMemo(amount, denoms, index, memo):\n",
    "    denom = denoms[index]\n",
    "    if (amount,denom) in memo.keys():\n",
    "        return memo[(amount,denom)]\n",
    "    if index >= len(denoms) -1:\n",
    "        return 1\n",
    "    ways = 0\n",
    "    i = 0\n",
    "    while amount >= i * denom:\n",
    "        ways += makeChangeMemo(amount-i*denom, denoms, index+1, memo)\n",
    "        i +=1\n",
    "    memo[(amount, denom)] = ways\n",
    "    return ways\n",
    "\n",
    "memo = {}\n",
    "res=makeChangeMemo(800,[50,25,10,5,2,1],0,memo)\n",
    "res"
   ]
  },
  {
   "cell_type": "code",
   "execution_count": 21,
   "metadata": {},
   "outputs": [
    {
     "data": {
      "text/plain": [
       "''"
      ]
     },
     "execution_count": 21,
     "metadata": {},
     "output_type": "execute_result"
    }
   ],
   "source": [
    "d = {(1,2):4,(2,3):2}\n",
    "d[(1,2)]\n",
    "t = \"a\"\n",
    "t[:0]"
   ]
  },
  {
   "cell_type": "code",
   "execution_count": 28,
   "metadata": {},
   "outputs": [
    {
     "data": {
      "text/plain": [
       "['smo', 'som', 'mso', 'mos', 'osm', 'oms']"
      ]
     },
     "execution_count": 28,
     "metadata": {},
     "output_type": "execute_result"
    }
   ],
   "source": [
    "def permutationNoDuplicates(txt):\n",
    "    result = []\n",
    "    if len(txt) == 0:\n",
    "        result.append(\"\")\n",
    "        return result\n",
    "    for i in range(len(txt)):\n",
    "        before = txt[:i]\n",
    "        after = txt[i+1:]\n",
    "#         print(before+after)        \n",
    "        partial_res = permutationNoDuplicates(before+after)\n",
    "        for out in partial_res:\n",
    "            result.append(txt[i]+out)\n",
    "    return result\n",
    "\n",
    "res = permutationNoDuplicates(\"smo\")\n",
    "res   "
   ]
  },
  {
   "cell_type": "code",
   "execution_count": 34,
   "metadata": {},
   "outputs": [
    {
     "data": {
      "text/plain": [
       "['sso', 'sos', 'oss']"
      ]
     },
     "execution_count": 34,
     "metadata": {},
     "output_type": "execute_result"
    }
   ],
   "source": [
    "def permutationWithDuplicates(_map, remainder, prefix, result):\n",
    "    \n",
    "    if remainder == 0:\n",
    "        result.append(prefix)\n",
    "    \n",
    "    for char in _map.keys():\n",
    "        count = _map[char]\n",
    "        if count > 0:\n",
    "            _map[char] = count -1\n",
    "            permutationWithDuplicates(_map, remainder - 1, prefix + char, result)\n",
    "            _map[char] = count\n",
    "\n",
    "def buildMap(txt):\n",
    "    _map = dict()\n",
    "    for c in txt:\n",
    "        if c in _map.keys():\n",
    "            _map[c] += 1\n",
    "        else:\n",
    "            _map[c] = 1\n",
    "    return _map\n",
    "\n",
    "result = []\n",
    "prefix = \"\"\n",
    "txt = \"sso\"\n",
    "_map = buildMap(txt)\n",
    "\n",
    "permutationWithDuplicates(_map, len(txt), prefix, result)\n",
    "result"
   ]
  },
  {
   "cell_type": "code",
   "execution_count": 2,
   "metadata": {},
   "outputs": [
    {
     "data": {
      "text/plain": [
       "[[')', ')', ')', ')', ')', ')'],\n",
       " [')', ')', ')', ')', ')', ')'],\n",
       " [')', ')', ')', ')', ')', ')'],\n",
       " [')', ')', ')', ')', ')', ')'],\n",
       " [')', ')', ')', ')', ')', ')']]"
      ]
     },
     "execution_count": 2,
     "metadata": {},
     "output_type": "execute_result"
    }
   ],
   "source": [
    "def addParens(_list, leftRem, rightRem,_str, index):\n",
    "#     print(leftRem,\"&\",rightRem,\"&\",index)\n",
    "#     print(rightRem)\n",
    "#     print(index)\n",
    "#     print(_str)\n",
    "#     print(\"=====\")\n",
    "    if leftRem < 0 or rightRem < leftRem:\n",
    "#         print(\"~~~~~~~~~\")\n",
    "#         print(leftRem,\"&\",rightRem,\"&\",index)\n",
    "#         print(\"~~~~~~~~~\")\n",
    "        return\n",
    "    if leftRem == 0 and rightRem == 0: \n",
    "#         print(\"!!!!!!!!!\")\n",
    "#         print(leftRem,\"&\",rightRem,\"&\",index)\n",
    "#         print(\"!!!!!!!!!\")\n",
    "        _list.append(_str)\n",
    "    else:\n",
    "        _str[index] = '('\n",
    "#         print(_str)\n",
    "#         print(\"=======\")\n",
    "        addParens(_list,leftRem - 1, rightRem, _str, index+1)\n",
    "        _str[index] = ')'\n",
    "#         print(_str)\n",
    "#         print(\"=======\")\n",
    "        addParens(_list, leftRem, rightRem -1, _str, index+1)\n",
    "\n",
    "\n",
    "def generateParens(num):\n",
    "    _listParen = []\n",
    "    leftRem = num\n",
    "    rightRem = num\n",
    "    _str = ['']*(num*2)\n",
    "    index = 0\n",
    "    addParens(_listParen, leftRem, rightRem, _str, index)\n",
    "    return _listParen\n",
    "\n",
    "a = generateParens(3)\n",
    "a"
   ]
  },
  {
   "cell_type": "code",
   "execution_count": 43,
   "metadata": {},
   "outputs": [
    {
     "data": {
      "text/plain": [
       "[[0, 0, 0, 0, 0, 0, 0, 0],\n",
       " [0, 0, 1, 1, 1, 1, 0, 0],\n",
       " [0, 0, 1, 1, 1, 1, 0, 0],\n",
       " [0, 0, 1, 1, 1, 1, 0, 0],\n",
       " [0, 0, 1, 1, 1, 1, 0, 0],\n",
       " [0, 0, 1, 1, 1, 1, 0, 0],\n",
       " [0, 0, 1, 1, 1, 1, 0, 0],\n",
       " [0, 0, 0, 0, 0, 0, 0, 0]]"
      ]
     },
     "execution_count": 43,
     "metadata": {},
     "output_type": "execute_result"
    }
   ],
   "source": [
    "def paintFillColor(screen, r, c, ncolor, ocolor):\n",
    "    if r <0 or c < 0 or r > len(screen) -1 or c > len(screen[0])-1 or screen[r][c] == ocolor:\n",
    "        return\n",
    "    else:\n",
    "        screen[r][c] = ncolor\n",
    "        \n",
    "        paintFillColor(screen, r+1,c,ncolor,ncolor)\n",
    "        paintFillColor(screen, r,c+1,ncolor,ncolor)\n",
    "        paintFillColor(screen, r-1,c,ncolor,ncolor)\n",
    "        paintFillColor(screen, r,c-1,ncolor,ncolor)\n",
    "        \n",
    "screen = [[0,0,0,0,0,0,0,0],[0,0,1,1,1,1,0,0],[0,0,1,0,0,1,0,0],[0,0,1,0,0,1,0,0],[0,0,1,0,0,1,0,0],\n",
    "          [0,0,1,0,0,1,0,0],[0,0,1,1,1,1,0,0],[0,0,0,0,0,0,0,0]]\n",
    "\n",
    "paintFillColor(screen, 4,4, 1, 1)\n",
    "screen"
   ]
  },
  {
   "cell_type": "code",
   "execution_count": 7,
   "metadata": {},
   "outputs": [
    {
     "name": "stdout",
     "output_type": "stream",
     "text": [
      "Error:\n"
     ]
    },
    {
     "data": {
      "text/plain": [
       "[5, 4, 1]"
      ]
     },
     "execution_count": 7,
     "metadata": {},
     "output_type": "execute_result"
    }
   ],
   "source": [
    "class Tower:\n",
    "    def __init__(self, i):\n",
    "        self.num = i\n",
    "        self.stack = []\n",
    "        \n",
    "    def addDisk(self, d):\n",
    "        if self.stack == []:\n",
    "            self.stack.append(d)\n",
    "            return\n",
    "        top = self.stack.pop()\n",
    "        if top < d:\n",
    "            print(\"Error:\")\n",
    "            return\n",
    "        self.stack.append(top)\n",
    "        self.stack.append(d)\n",
    "    def moveDisksTo(self,n,destTower, buffer):\n",
    "        if n > 0:\n",
    "            self.moveDisksTo(n-1,buffer, destTower)\n",
    "            destTower.addDisk(self.stack.pop())\n",
    "            buffer.moveDisksTo(n-1,destTower, self )\n",
    "\n",
    "p1 = Tower(1)\n",
    "p2 = Tower(3)\n",
    "buffer = Tower(2)\n",
    "p1.addDisk(5)\n",
    "p1.addDisk(4)\n",
    "p1.addDisk(3)\n",
    "p1.addDisk(6)\n",
    "p1.addDisk(1)\n",
    "\n",
    "p1.moveDisksTo(3,p2,buffer)\n",
    "p2.stack         "
   ]
  },
  {
   "cell_type": "code",
   "execution_count": 2,
   "metadata": {},
   "outputs": [
    {
     "data": {
      "text/plain": [
       "3"
      ]
     },
     "execution_count": 2,
     "metadata": {},
     "output_type": "execute_result"
    }
   ],
   "source": [
    "a = [1,2,3]\n",
    "a.pop()"
   ]
  },
  {
   "cell_type": "code",
   "execution_count": null,
   "metadata": {},
   "outputs": [],
   "source": []
  }
 ],
 "metadata": {
  "kernelspec": {
   "display_name": "Python 3",
   "language": "python",
   "name": "python3"
  },
  "language_info": {
   "codemirror_mode": {
    "name": "ipython",
    "version": 3
   },
   "file_extension": ".py",
   "mimetype": "text/x-python",
   "name": "python",
   "nbconvert_exporter": "python",
   "pygments_lexer": "ipython3",
   "version": "3.6.6"
  }
 },
 "nbformat": 4,
 "nbformat_minor": 2
}
