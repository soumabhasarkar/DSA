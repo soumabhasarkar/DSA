{
 "cells": [
  {
   "cell_type": "code",
   "execution_count": null,
   "metadata": {},
   "outputs": [],
   "source": [
    "def height(root):\n",
    "    if root is None:\n",
    "        return 0\n",
    "    \n",
    "    left_height = height(root.left)\n",
    "    right_height = height(root.right)\n",
    "    \n",
    "    return max(left_height, right_height) + 1"
   ]
  },
  {
   "cell_type": "code",
   "execution_count": null,
   "metadata": {},
   "outputs": [],
   "source": [
    "class res:\n",
    "    def __init__(self, key, isLCA):\n",
    "        self.key = key\n",
    "        self.isLCA = isLCA\n",
    "\n",
    "\n",
    "def LCA(root,n1,n2):\n",
    "    '''\n",
    "    :param root: given root of the bst\n",
    "    :param n1: value one.\n",
    "    :param n2: value two.\n",
    "    :return: Lowest common Ancestor key.\n",
    "    '''\n",
    "    \n",
    "    if root is None:\n",
    "        return None\n",
    "        \n",
    "    res_l = LCA(root.left, n1,n2)\n",
    "    res_r = LCA(root.right, n1,n2)\n",
    "    \n",
    "    if res_l is not None and res_r is not None:\n",
    "        return root.key\n",
    "    if (res_l is not None or res_r is not None) and (root.key == n1 or root.key == n2):\n",
    "        return root.key\n",
    "    if res_l is not None:\n",
    "        return res_l\n",
    "    if res_r is not None:\n",
    "        return res_r\n",
    "    if res_l is None and res_r is None:\n",
    "        if root.key == n1 or root.key == n2:\n",
    "            return root.key\n",
    "        else:\n",
    "            return None\n",
    "    \n",
    "        \n",
    "#     5 \n",
    "#   4   6\n",
    "#  3     7 \n",
    "#         8\n",
    "\n",
    "#         12\n",
    "#      10       14\n",
    "#    9             15\n",
    "# 8        \n"
   ]
  },
  {
   "cell_type": "code",
   "execution_count": null,
   "metadata": {},
   "outputs": [],
   "source": [
    "def isIdentical(root1, root2):\n",
    "    # Code here\n",
    "    if root1 is None and root2 is None:\n",
    "        return True\n",
    "    if root1 is None or root2 is None:\n",
    "        return False\n",
    "        \n",
    "    left = isIdentical(roo1.left, root2.left)\n",
    "    right = isIdentical(root1.right, root2,right)\n",
    "    \n",
    "    \n",
    "    if root1.key == root2.key and left and right:\n",
    "        return True\n",
    "    else:\n",
    "        return False"
   ]
  },
  {
   "cell_type": "code",
   "execution_count": 3,
   "metadata": {},
   "outputs": [
    {
     "data": {
      "text/plain": [
       "False"
      ]
     },
     "execution_count": 3,
     "metadata": {},
     "output_type": "execute_result"
    }
   ],
   "source": [
    "def diameter(root):\n",
    "    diameter[0] = 0\n",
    "    height(root,diameter)\n",
    "    return arr[0]\n",
    "def height(root, diameter):\n",
    "    if root is None:\n",
    "        return 0\n",
    "    l_h = height(root.left, diameter)\n",
    "    r_h = height(root.right, diameter)\n",
    "    \n",
    "    diameter[0] = max(diameter[0], 1+l_h+r_h)\n",
    "    return max(l_h,r_h)+1"
   ]
  },
  {
   "cell_type": "code",
   "execution_count": 3,
   "metadata": {},
   "outputs": [],
   "source": [
    "def mirror(root):\n",
    "    # Code here\n",
    "    if root is None:\n",
    "        return\n",
    "    \n",
    "    temp = root.left\n",
    "    root.left = root.right\n",
    "    root.right = temp\n",
    "    \n",
    "    mirror(root.left)\n",
    "    mirror(root.right)\n",
    "    return\n",
    "\n",
    "class node:\n",
    "    def __init__(self,val,ln=None,rn=None):\n",
    "        self.data = val\n",
    "        self.left = ln\n",
    "        self.right = rn\n",
    "a = node(4)\n",
    "b = node(5)\n",
    "c = node(2,a,b)\n",
    "d = node(3)\n",
    "e = node(6)\n",
    "f = node(7,e,d)\n",
    "g = node(1,c,f)\n",
    "h = node(8)\n",
    "i = node(9,g,h)\n",
    "\n",
    "mirror(i)"
   ]
  },
  {
   "cell_type": "code",
   "execution_count": 28,
   "metadata": {},
   "outputs": [
    {
     "name": "stdout",
     "output_type": "stream",
     "text": [
      "9 8 7 3 "
     ]
    },
    {
     "data": {
      "text/plain": [
       "[None]"
      ]
     },
     "execution_count": 28,
     "metadata": {},
     "output_type": "execute_result"
    }
   ],
   "source": [
    "def LeftView(root):\n",
    "    queue = []\n",
    "    queue.append(root)\n",
    "    queue.append(None)\n",
    "    print(root.data, end=\" \")\n",
    "    while queue != []:\n",
    "        e = queue.pop(0)\n",
    "        if e is None:\n",
    "            queue.append(None)\n",
    "            if queue[0] is None:\n",
    "                break\n",
    "            else:\n",
    "                print(queue[0].data, end=\" \")\n",
    "            continue          \n",
    "        \n",
    "        if e is not None and e.left is not None:\n",
    "            queue.append(e.left)\n",
    "        if e is not None and e.right is not None:\n",
    "            queue.append(e.right)\n",
    "    return queue\n",
    "\n",
    "LeftView(i)"
   ]
  },
  {
   "cell_type": "code",
   "execution_count": 33,
   "metadata": {},
   "outputs": [],
   "source": [
    "def maxPathSumUtil(root):\n",
    "    #Your code here\n",
    "    if root is None:\n",
    "        return 0,0\n",
    "    \n",
    "    left_sum, left_node_sum = maxPathSumUtil(root.left)\n",
    "    right_sum, right_node_sum = maxPathSumUtil(root.right)\n",
    "    \n",
    "    node_sum = left_sum+root.data+right_sum\n",
    "    max_node_sum = max(left_sum,right_sum) + root.data\n",
    "    \n",
    "    return max_node_sum, max(node_sum,left_node_sum, right_node_sum)\n",
    "\n",
    "def maxPathSum(root):\n",
    "    a, b = maxPathSumUtil(root)\n",
    "    return max(a,b)\n",
    "\n",
    "# -15 5 L -15 6 R 5 -8 L 5 1 R -8 2 L -8 -3 R 6 3 L 6 9 R 9 0 R 0 4 L 0 -1 R -1 10 L"
   ]
  },
  {
   "cell_type": "code",
   "execution_count": 37,
   "metadata": {},
   "outputs": [
    {
     "data": {
      "text/plain": [
       "27"
      ]
     },
     "execution_count": 37,
     "metadata": {},
     "output_type": "execute_result"
    }
   ],
   "source": [
    "a = node(10)\n",
    "b = node(-1,a)\n",
    "c = node(4)\n",
    "d = node(0,c,b)\n",
    "e = node(9,d)\n",
    "f = node(3)\n",
    "g = node(6,f,e)\n",
    "h = node(2)\n",
    "i = node(-3)\n",
    "j = node(-8,h,i)\n",
    "k = node(1)\n",
    "l = node(5,j,k)\n",
    "j = node(-15,l,g)\n",
    "\n",
    "maxPathSum(j)"
   ]
  },
  {
   "cell_type": "code",
   "execution_count": 38,
   "metadata": {},
   "outputs": [
    {
     "data": {
      "text/plain": [
       "0"
      ]
     },
     "execution_count": 38,
     "metadata": {},
     "output_type": "execute_result"
    }
   ],
   "source": [
    "def isBalancedUtil(root):\n",
    "    if root is None:\n",
    "        return 0, True\n",
    "    \n",
    "    l, lb = isBalancedUtil(root.left)\n",
    "    r, rb = isBalancedUtil(root.right)\n",
    "    \n",
    "    h = max(l,r) + 1\n",
    "    if abs(l-r)<=1 and lb and rb:\n",
    "        return h, True\n",
    "    return h, False\n",
    "\n",
    "def isBalanced(root):\n",
    "    h, b = isBalancedUtil(root)\n",
    "    if b:\n",
    "        return 1\n",
    "    return 0\n",
    "\n",
    "isBalanced(j)"
   ]
  },
  {
   "cell_type": "code",
   "execution_count": 9,
   "metadata": {},
   "outputs": [],
   "source": [
    "class result:\n",
    "    def __init__(self, root, _min, _max):\n",
    "        self.root = root\n",
    "        self.min = _min\n",
    "        self.max = _max\n",
    "        \n",
    "def correctBSTUtil(root, mn = float('inf'), mx = float('-inf')):\n",
    "    if root is None:\n",
    "        return result(None,node(mn), node(mx))\n",
    "    \n",
    "    left = correctBSTUtil(root.left)\n",
    "    right = correctBSTUtil(root.right)\n",
    "    \n",
    "    if left.max.data > root.data:\n",
    "        temp = left.max.data\n",
    "        left.max.data = root.data\n",
    "        root.data = temp\n",
    "        correctBSTUtil(root)\n",
    "    \n",
    "    if right.min.data < root.data:\n",
    "        temp = right.min.data\n",
    "        right.max.data = root.data\n",
    "        root.data = temp\n",
    "        correctBSTUtil(root)\n",
    "    \n",
    "    ret_min = None\n",
    "    ret_max = None\n",
    "    if left.min.data < root.data:\n",
    "        ret_min = left.min\n",
    "    else:\n",
    "        ret_min = root\n",
    "        \n",
    "    if right.max.data > root.data:\n",
    "        ret_max = right.max\n",
    "    else:\n",
    "        ret_max = root\n",
    "        \n",
    "    return result(root,ret_min, ret_max)"
   ]
  },
  {
   "cell_type": "code",
   "execution_count": 11,
   "metadata": {},
   "outputs": [],
   "source": [
    "a = node(2)\n",
    "b = node(20)\n",
    "c = node(5,a,b)\n",
    "d = node(8)\n",
    "e = node(10,c,d)\n",
    "# f = node(3)\n",
    "# g = node(6,f,e)\n",
    "# h = node(2)\n",
    "# i = node(-3)\n",
    "# j = node(-8,h,i)\n",
    "# k = node(1)\n",
    "# l = node(5,j,k)\n",
    "# j = node(-15,l,g)\n",
    "\n",
    "x = correctBSTUtil(e)"
   ]
  },
  {
   "cell_type": "code",
   "execution_count": 15,
   "metadata": {},
   "outputs": [
    {
     "data": {
      "text/plain": [
       "20"
      ]
     },
     "execution_count": 15,
     "metadata": {},
     "output_type": "execute_result"
    }
   ],
   "source": [
    "x.root.right.data"
   ]
  },
  {
   "cell_type": "code",
   "execution_count": null,
   "metadata": {},
   "outputs": [],
   "source": []
  }
 ],
 "metadata": {
  "kernelspec": {
   "display_name": "Python 3",
   "language": "python",
   "name": "python3"
  },
  "language_info": {
   "codemirror_mode": {
    "name": "ipython",
    "version": 3
   },
   "file_extension": ".py",
   "mimetype": "text/x-python",
   "name": "python",
   "nbconvert_exporter": "python",
   "pygments_lexer": "ipython3",
   "version": "3.6.6"
  }
 },
 "nbformat": 4,
 "nbformat_minor": 2
}
