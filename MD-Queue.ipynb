{
 "cells": [
  {
   "cell_type": "code",
   "execution_count": 2,
   "metadata": {},
   "outputs": [],
   "source": [
    "from queue import Queue"
   ]
  },
  {
   "cell_type": "code",
   "execution_count": 16,
   "metadata": {},
   "outputs": [
    {
     "name": "stdout",
     "output_type": "stream",
     "text": [
      "1\n",
      "6 2\n",
      "6 5 4 3 2 1\n",
      "6 5 4 3 2 \n"
     ]
    }
   ],
   "source": [
    "#code\n",
    "from queue import Queue\n",
    "def maxInSubarraySizeK(arr, k):\n",
    "    q = Queue(maxsize = k)\n",
    "    l = len(arr)\n",
    "    curr_max = float('-inf')\n",
    "    out = [0]*(l -k + 1)\n",
    "    x = 0\n",
    "    for i in range(l):\n",
    "        x = int(arr[i].strip())\n",
    "        if not q.full():\n",
    "            if x > curr_max:\n",
    "                curr_max = x\n",
    "            out[0] = curr_max\n",
    "            q.put(x)\n",
    "            continue\n",
    "        front = q.get()\n",
    "        if front != curr_max and x <= curr_max:\n",
    "            out[i - k + 1] = curr_max            \n",
    "        elif x > curr_max:\n",
    "            out[i-k+1] = x\n",
    "            curr_max = x\n",
    "        elif front == curr_max and x <= curr_max:\n",
    "            j = 0\n",
    "            curr_max = x\n",
    "            while j < k -1:\n",
    "                e = q.get()\n",
    "                if e > curr_max:\n",
    "                    curr_max = e                \n",
    "                q.put(e)\n",
    "                j += 1\n",
    "            out[i-k+1] = curr_max\n",
    "        q.put(x)\n",
    "    return out\n",
    "\n",
    "if __name__ == \"__main__\":\n",
    "    test_cases = int(input())\n",
    "    for c in range(test_cases):\n",
    "        string1 = input()\n",
    "        n = int(string1.split(' ')[1])\n",
    "        string = input()\n",
    "        arr_int = string.split(' ')\n",
    "        res = maxInSubarraySizeK(arr_int, n)\n",
    "        for i in range(len(res)):\n",
    "            print(res[i],end=\" \")\n",
    "        print()"
   ]
  },
  {
   "cell_type": "code",
   "execution_count": 43,
   "metadata": {},
   "outputs": [
    {
     "name": "stdout",
     "output_type": "stream",
     "text": [
      "1\n",
      "58 1\n",
      "139 672 692 81 507 968 84 589 398 835 944 744 331 234 931 906 99 906 691 89 234 592 768 386 927 48 730 113 255 362 942 394 33 323 165 231 290 249 820 379 775 763 813 796 688 744 701 787 339 81 566 573 363 333 650 980 382 379\n",
      "139 672 692 81 507 968 84 589 398 835 944 744 331 234 931 906 99 906 691 89 234 592 768 386 927 48 730 113 255 362 942 394 33 323 165 231 290 249 820 379 775 763 813 796 688 744 701 787 339 81 566 573 363 333 650 980 382 379 "
     ]
    }
   ],
   "source": [
    "import collections\n",
    "\n",
    "def maxInSubarraySizeK(arr, k):\n",
    "    l = len(arr)\n",
    "    dq = collections.deque()\n",
    "    dq.append((float('-inf'),-1))\n",
    "    front = None\n",
    "    for i in range(l):\n",
    "        e = dq.pop()\n",
    "        while e[0]<arr[i] and len(dq)!=0: \n",
    "            e = dq.pop()\n",
    "        if e[0] > arr[i]:\n",
    "            dq.append(e)\n",
    "        dq.append((arr[i],i))\n",
    "        front = dq.popleft()\n",
    "        if (i - front[1]) < k:\n",
    "            dq.appendleft(front)\n",
    "        else:\n",
    "            pass\n",
    "#         print(dq)\n",
    "        if i > k-2:            \n",
    "            print(dq[0][0],end=\" \")\n",
    "\n",
    "if __name__ == \"__main__\":\n",
    "    test_cases = int(input())\n",
    "    for c in range(test_cases):\n",
    "        string1 = input()\n",
    "        n = list(map(int,string1.split(' ')))[1]\n",
    "        string2 = input()\n",
    "        arr_int = list(map(int,string2.split(' ')))\n",
    "        maxInSubarraySizeK(arr_int, n)"
   ]
  },
  {
   "cell_type": "code",
   "execution_count": 1,
   "metadata": {},
   "outputs": [
    {
     "name": "stdout",
     "output_type": "stream",
     "text": [
      "1\n",
      "40\n",
      "v f g v j w d v j j a f q z z x l c x d z n c q g j l a p o p k v x f g v i c e\n",
      "v v v f f f f f f f f g g g g g g g g g g g g g w w w w w w w w w w w w w w w w \n"
     ]
    }
   ],
   "source": [
    "from queue import Queue\n",
    "def GetFirstNonRepeatingChar(arr):\n",
    "    l = len(arr)\n",
    "    q = Queue()\n",
    "    hash_tbl = [0]*256\n",
    "    for i in range(l):\n",
    "        if ord(arr[i]) == ord(\" \"):\n",
    "            continue\n",
    "        q.put(arr[i])\n",
    "        hash_tbl[ord(arr[i])] += 1        \n",
    "        while not q.empty() and hash_tbl[ord(q.queue[0])] > 1:\n",
    "            q.get()\n",
    "        if q.empty():\n",
    "            print('-1', end = \" \")\n",
    "        else:\n",
    "            print(q.queue[0], end = \" \")\n",
    "    print()\n",
    "\n",
    "if __name__ == \"__main__\":\n",
    "    test_cases = int(input())\n",
    "    for c in range(test_cases):\n",
    "        l = input()\n",
    "        string = input()\n",
    "        arr_str = string\n",
    "        GetFirstNonRepeatingChar(arr_str)"
   ]
  },
  {
   "cell_type": "code",
   "execution_count": 36,
   "metadata": {},
   "outputs": [
    {
     "name": "stdout",
     "output_type": "stream",
     "text": [
      "1\n",
      "1\n",
      "1\n"
     ]
    },
    {
     "ename": "IndexError",
     "evalue": "list index out of range",
     "output_type": "error",
     "traceback": [
      "\u001b[1;31m---------------------------------------------------------------------------\u001b[0m",
      "\u001b[1;31mIndexError\u001b[0m                                Traceback (most recent call last)",
      "\u001b[1;32m<ipython-input-36-26285ab7497f>\u001b[0m in \u001b[0;36m<module>\u001b[1;34m()\u001b[0m\n\u001b[0;32m     51\u001b[0m         \u001b[0mstring2\u001b[0m \u001b[1;33m=\u001b[0m \u001b[0minput\u001b[0m\u001b[1;33m(\u001b[0m\u001b[1;33m)\u001b[0m\u001b[1;33m\u001b[0m\u001b[0m\n\u001b[0;32m     52\u001b[0m         \u001b[0marr_int\u001b[0m \u001b[1;33m=\u001b[0m \u001b[0mlist\u001b[0m\u001b[1;33m(\u001b[0m\u001b[0mmap\u001b[0m\u001b[1;33m(\u001b[0m\u001b[0mint\u001b[0m\u001b[1;33m,\u001b[0m\u001b[0mstring2\u001b[0m\u001b[1;33m.\u001b[0m\u001b[0mstrip\u001b[0m\u001b[1;33m(\u001b[0m\u001b[1;33m)\u001b[0m\u001b[1;33m.\u001b[0m\u001b[0msplit\u001b[0m\u001b[1;33m(\u001b[0m\u001b[1;34m' '\u001b[0m\u001b[1;33m)\u001b[0m\u001b[1;33m)\u001b[0m\u001b[1;33m)\u001b[0m\u001b[1;33m\u001b[0m\u001b[0m\n\u001b[1;32m---> 53\u001b[1;33m         \u001b[0mmat\u001b[0m \u001b[1;33m=\u001b[0m \u001b[1;33m[\u001b[0m\u001b[1;33m[\u001b[0m\u001b[0marr_int\u001b[0m\u001b[1;33m[\u001b[0m\u001b[0mj\u001b[0m\u001b[1;33m*\u001b[0m\u001b[0mrc\u001b[0m\u001b[1;33m[\u001b[0m\u001b[1;36m1\u001b[0m\u001b[1;33m]\u001b[0m\u001b[1;33m+\u001b[0m\u001b[0mi\u001b[0m\u001b[1;33m]\u001b[0m \u001b[1;32mfor\u001b[0m \u001b[0mi\u001b[0m \u001b[1;32min\u001b[0m \u001b[0mrange\u001b[0m\u001b[1;33m(\u001b[0m\u001b[0mrc\u001b[0m\u001b[1;33m[\u001b[0m\u001b[1;36m1\u001b[0m\u001b[1;33m]\u001b[0m\u001b[1;33m)\u001b[0m\u001b[1;33m]\u001b[0m \u001b[1;32mfor\u001b[0m \u001b[0mj\u001b[0m \u001b[1;32min\u001b[0m \u001b[0mrange\u001b[0m\u001b[1;33m(\u001b[0m\u001b[0mrc\u001b[0m\u001b[1;33m[\u001b[0m\u001b[1;36m0\u001b[0m\u001b[1;33m]\u001b[0m\u001b[1;33m)\u001b[0m\u001b[1;33m]\u001b[0m\u001b[1;33m\u001b[0m\u001b[0m\n\u001b[0m\u001b[0;32m     54\u001b[0m \u001b[1;31m#         print(mat)\u001b[0m\u001b[1;33m\u001b[0m\u001b[1;33m\u001b[0m\u001b[0m\n\u001b[0;32m     55\u001b[0m         \u001b[0mRottenOranges\u001b[0m\u001b[1;33m(\u001b[0m\u001b[0mmat\u001b[0m\u001b[1;33m,\u001b[0m \u001b[0mrc\u001b[0m\u001b[1;33m[\u001b[0m\u001b[1;36m0\u001b[0m\u001b[1;33m]\u001b[0m\u001b[1;33m,\u001b[0m \u001b[0mrc\u001b[0m\u001b[1;33m[\u001b[0m\u001b[1;36m1\u001b[0m\u001b[1;33m]\u001b[0m\u001b[1;33m)\u001b[0m\u001b[1;33m\u001b[0m\u001b[0m\n",
      "\u001b[1;32m<ipython-input-36-26285ab7497f>\u001b[0m in \u001b[0;36m<listcomp>\u001b[1;34m(.0)\u001b[0m\n\u001b[0;32m     51\u001b[0m         \u001b[0mstring2\u001b[0m \u001b[1;33m=\u001b[0m \u001b[0minput\u001b[0m\u001b[1;33m(\u001b[0m\u001b[1;33m)\u001b[0m\u001b[1;33m\u001b[0m\u001b[0m\n\u001b[0;32m     52\u001b[0m         \u001b[0marr_int\u001b[0m \u001b[1;33m=\u001b[0m \u001b[0mlist\u001b[0m\u001b[1;33m(\u001b[0m\u001b[0mmap\u001b[0m\u001b[1;33m(\u001b[0m\u001b[0mint\u001b[0m\u001b[1;33m,\u001b[0m\u001b[0mstring2\u001b[0m\u001b[1;33m.\u001b[0m\u001b[0mstrip\u001b[0m\u001b[1;33m(\u001b[0m\u001b[1;33m)\u001b[0m\u001b[1;33m.\u001b[0m\u001b[0msplit\u001b[0m\u001b[1;33m(\u001b[0m\u001b[1;34m' '\u001b[0m\u001b[1;33m)\u001b[0m\u001b[1;33m)\u001b[0m\u001b[1;33m)\u001b[0m\u001b[1;33m\u001b[0m\u001b[0m\n\u001b[1;32m---> 53\u001b[1;33m         \u001b[0mmat\u001b[0m \u001b[1;33m=\u001b[0m \u001b[1;33m[\u001b[0m\u001b[1;33m[\u001b[0m\u001b[0marr_int\u001b[0m\u001b[1;33m[\u001b[0m\u001b[0mj\u001b[0m\u001b[1;33m*\u001b[0m\u001b[0mrc\u001b[0m\u001b[1;33m[\u001b[0m\u001b[1;36m1\u001b[0m\u001b[1;33m]\u001b[0m\u001b[1;33m+\u001b[0m\u001b[0mi\u001b[0m\u001b[1;33m]\u001b[0m \u001b[1;32mfor\u001b[0m \u001b[0mi\u001b[0m \u001b[1;32min\u001b[0m \u001b[0mrange\u001b[0m\u001b[1;33m(\u001b[0m\u001b[0mrc\u001b[0m\u001b[1;33m[\u001b[0m\u001b[1;36m1\u001b[0m\u001b[1;33m]\u001b[0m\u001b[1;33m)\u001b[0m\u001b[1;33m]\u001b[0m \u001b[1;32mfor\u001b[0m \u001b[0mj\u001b[0m \u001b[1;32min\u001b[0m \u001b[0mrange\u001b[0m\u001b[1;33m(\u001b[0m\u001b[0mrc\u001b[0m\u001b[1;33m[\u001b[0m\u001b[1;36m0\u001b[0m\u001b[1;33m]\u001b[0m\u001b[1;33m)\u001b[0m\u001b[1;33m]\u001b[0m\u001b[1;33m\u001b[0m\u001b[0m\n\u001b[0m\u001b[0;32m     54\u001b[0m \u001b[1;31m#         print(mat)\u001b[0m\u001b[1;33m\u001b[0m\u001b[1;33m\u001b[0m\u001b[0m\n\u001b[0;32m     55\u001b[0m         \u001b[0mRottenOranges\u001b[0m\u001b[1;33m(\u001b[0m\u001b[0mmat\u001b[0m\u001b[1;33m,\u001b[0m \u001b[0mrc\u001b[0m\u001b[1;33m[\u001b[0m\u001b[1;36m0\u001b[0m\u001b[1;33m]\u001b[0m\u001b[1;33m,\u001b[0m \u001b[0mrc\u001b[0m\u001b[1;33m[\u001b[0m\u001b[1;36m1\u001b[0m\u001b[1;33m]\u001b[0m\u001b[1;33m)\u001b[0m\u001b[1;33m\u001b[0m\u001b[0m\n",
      "\u001b[1;31mIndexError\u001b[0m: list index out of range"
     ]
    }
   ],
   "source": [
    "from queue import Queue\n",
    "def RottenOranges(mat, row, col):\n",
    "    q = Queue()\n",
    "    visited = [[False for i in range(col)] for j in range(row)]\n",
    "    \n",
    "    for _r in range(row):\n",
    "        for _c in range(col):\n",
    "            if mat[_r][_c] == 2:\n",
    "                q.put((_r,_c))\n",
    "#                 visited[r][c] = True\n",
    "    q.put(None)\n",
    "    count = 0\n",
    "    while not q.empty():\n",
    "#         print(q.queue)\n",
    "        if q.queue[0] == None:\n",
    "            q.get()\n",
    "            q.put(None)\n",
    "            count+=1\n",
    "        if q.queue[0] == None:\n",
    "            break\n",
    "        r,c = q.get()\n",
    "        if not c-1<0 and mat[r][c-1] == 1:\n",
    "            mat[r][c-1] = 2\n",
    "            q.put((r,c-1))\n",
    "        if c+1<col and mat[r][c+1] == 1:\n",
    "            mat[r][c+1] = 2\n",
    "            q.put((r,c+1))\n",
    "        if r+1<row and mat[r+1][c] == 1:\n",
    "            mat[r+1][c] = 2\n",
    "            q.put((r+1,c))\n",
    "        if not r-1<0 and mat[r-1][c] == 1:\n",
    "            mat[r-1][c] = 2\n",
    "            q.put((r-1,c))\n",
    "    \n",
    "    isAllRotten = True\n",
    "    for _r in range(row):\n",
    "        for _c in range(col):\n",
    "            if mat[_r][_c] == 1:\n",
    "                isAllRotten = False\n",
    "#     print(mat)\n",
    "    if isAllRotten:\n",
    "        print(count-1)\n",
    "    else:\n",
    "        print(-1)\n",
    "\n",
    "if __name__ == \"__main__\":\n",
    "    test_cases = int(input())\n",
    "    for c in range(test_cases):\n",
    "        string1 = input()\n",
    "        rc = list(map(int,string1.split(' ')))\n",
    "        string2 = input()\n",
    "        arr_int = list(map(int,string2.strip().split(' ')))\n",
    "        mat = [[arr_int[j*rc[1]+i] for i in range(rc[1])] for j in range(rc[0])]\n",
    "#         print(mat)\n",
    "        RottenOranges(mat, rc[0], rc[1])"
   ]
  },
  {
   "cell_type": "code",
   "execution_count": 45,
   "metadata": {},
   "outputs": [
    {
     "name": "stdout",
     "output_type": "stream",
     "text": [
      "1\n",
      "8\n",
      "35 11 97 70 85 16 25 97 66 83 17 52 44 62 88 38\n",
      "6\n",
      "7\n",
      "7\n"
     ]
    }
   ],
   "source": [
    "def Tour(arr,n):\n",
    "    q = Queue()\n",
    "    for i in range(n):\n",
    "        q.put(arr[i])\n",
    "\n",
    "    fuel = 0\n",
    "    pp_covered = 0\n",
    "    start_pp = [False]*n\n",
    "    start_pp[0] = True\n",
    "    count = -1\n",
    "    while not q.empty(): \n",
    "        count += 1\n",
    "        e = q.get()\n",
    "        f,d = e[0],e[1]\n",
    "        fuel += f\n",
    "        if fuel < d:\n",
    "            fuel = 0\n",
    "            pp_covered = 0 \n",
    "            idx = (count+1) % n        \n",
    "            if start_pp[idx] == False:\n",
    "                start_pp[idx] = True \n",
    "            else:\n",
    "                return -1\n",
    "        else:            \n",
    "            fuel -= d\n",
    "            pp_covered += 1\n",
    "            \n",
    "        if pp_covered == n:\n",
    "            return (count + 1)%n\n",
    "        \n",
    "        q.put([f,d])\n",
    "\n",
    "if __name__ == \"__main__\":\n",
    "    test_cases = int(input())\n",
    "    for c in range(test_cases):\n",
    "        n = int(input())        \n",
    "        string = input()\n",
    "        arr_int = list(map(int,string.strip().split(' ')))\n",
    "        pp = [[arr_int[i],arr_int[i+1]] for i in range(0,len(arr_int),2)]\n",
    "        print(Tour(pp,n))"
   ]
  },
  {
   "cell_type": "code",
   "execution_count": 25,
   "metadata": {},
   "outputs": [
    {
     "data": {
      "text/plain": [
       "<map at 0x23f384179b0>"
      ]
     },
     "execution_count": 25,
     "metadata": {},
     "output_type": "execute_result"
    }
   ],
   "source": [
    "q = Queue()\n",
    "x=map((int,int),[1,2,3,4])\n",
    "x"
   ]
  },
  {
   "cell_type": "code",
   "execution_count": 72,
   "metadata": {},
   "outputs": [
    {
     "name": "stdout",
     "output_type": "stream",
     "text": [
      "1\n",
      "4\n",
      "87\n",
      "SET 94 16 SET 93 87 SET 63 22 SET 60 91 SET 41 27 GET 73 GET 12 GET 68 SET 31 83 GET 24 SET 30 36 GET 23 GET 70 SET 57 94 SET 30 43 SET 20 22 GET 38 GET 25 SET 14 71 GET 92 GET 57 SET 71 63 GET 82 SET 85 26 SET 6 37 GET 30 SET 25 58 SET 46 83 GET 68 GET 65 SET 88 51 GET 77 GET 89 GET 4 SET 100 55 GET 61 GET 69 SET 27 13 GET 95 SET 71 96 GET 79 SET 98 2 GET 18 GET 53 GET 2 GET 87 SET 90 66 GET 20 GET 30 SET 98 18 SET 76 82 SET 68 28 GET 98 SET 66 87 GET 84 SET 29 25 SET 30 33 SET 71 20 GET 9 SET 50 41 GET 24 GET 46 GET 52 SET 80 56 GET 65 GET 42 GET 94 GET 35 GET 25 GET 88 GET 44 SET 66 28 SET 33 37 SET 29 38 SET 75 8 SET 96 59 SET 36 38 SET 29 19 SET 29 12 SET 5 77 SET 14 64 GET 7 GET 5 GET 29 GET 70 SET 97 18 GET 44\n",
      "deque([])\n",
      "deque([[94, 16]])\n",
      "deque([[94, 16], [93, 87]])\n",
      "deque([[94, 16], [93, 87], [63, 22]])\n",
      "deque([[94, 16], [93, 87], [63, 22], [60, 91]])\n",
      "-1 -1 -1 deque([[93, 87], [63, 22], [60, 91], [41, 27]])\n",
      "-1 deque([[63, 22], [60, 91], [41, 27], [31, 83]])\n",
      "-1 -1 deque([[60, 91], [41, 27], [31, 83], [30, 36]])\n",
      "deque([[41, 27], [31, 83], [30, 36], [57, 94]])\n",
      "deque([[41, 27], [31, 83], [57, 94], [30, 43]])\n",
      "-1 -1 deque([[31, 83], [57, 94], [30, 43], [20, 22]])\n",
      "-1 94 deque([[30, 43], [20, 22], [14, 71], [57, 94]])\n",
      "-1 deque([[20, 22], [14, 71], [57, 94], [71, 63]])\n",
      "deque([[14, 71], [57, 94], [71, 63], [85, 26]])\n",
      "-1 deque([[57, 94], [71, 63], [85, 26], [6, 37]])\n",
      "deque([[71, 63], [85, 26], [6, 37], [25, 58]])\n",
      "-1 -1 deque([[85, 26], [6, 37], [25, 58], [46, 83]])\n",
      "-1 -1 -1 deque([[6, 37], [25, 58], [46, 83], [88, 51]])\n",
      "-1 -1 deque([[25, 58], [46, 83], [88, 51], [100, 55]])\n",
      "-1 deque([[46, 83], [88, 51], [100, 55], [27, 13]])\n",
      "-1 deque([[88, 51], [100, 55], [27, 13], [71, 96]])\n",
      "-1 -1 -1 -1 deque([[100, 55], [27, 13], [71, 96], [98, 2]])\n",
      "-1 -1 deque([[27, 13], [71, 96], [98, 2], [90, 66]])\n",
      "deque([[27, 13], [71, 96], [90, 66], [98, 18]])\n",
      "deque([[71, 96], [90, 66], [98, 18], [76, 82]])\n",
      "18 deque([[90, 66], [76, 82], [68, 28], [98, 18]])\n",
      "-1 deque([[76, 82], [68, 28], [98, 18], [66, 87]])\n",
      "deque([[68, 28], [98, 18], [66, 87], [29, 25]])\n",
      "deque([[98, 18], [66, 87], [29, 25], [30, 33]])\n",
      "-1 deque([[66, 87], [29, 25], [30, 33], [71, 20]])\n",
      "-1 -1 -1 deque([[29, 25], [30, 33], [71, 20], [50, 41]])\n",
      "-1 -1 -1 -1 -1 -1 -1 deque([[30, 33], [71, 20], [50, 41], [80, 56]])\n",
      "deque([[71, 20], [50, 41], [80, 56], [66, 28]])\n",
      "deque([[50, 41], [80, 56], [66, 28], [33, 37]])\n",
      "deque([[80, 56], [66, 28], [33, 37], [29, 38]])\n",
      "deque([[66, 28], [33, 37], [29, 38], [75, 8]])\n",
      "deque([[33, 37], [29, 38], [75, 8], [96, 59]])\n",
      "deque([[29, 38], [75, 8], [96, 59], [36, 38]])\n",
      "deque([[75, 8], [96, 59], [36, 38], [29, 19]])\n",
      "deque([[75, 8], [96, 59], [36, 38], [29, 12]])\n",
      "deque([[96, 59], [36, 38], [29, 12], [5, 77]])\n",
      "-1 77 12 -1 deque([[36, 38], [14, 64], [5, 77], [29, 12]])\n",
      "-1 \n"
     ]
    }
   ],
   "source": [
    "import collections\n",
    "class LRUCache:\n",
    "    def __init__(self, capacity):\n",
    "        self.capacity = capacity\n",
    "        self.cache = collections.deque() # put ur cache here\n",
    "\n",
    "    def get(self, key):\n",
    "        count = len(self.cache)\n",
    "        out = None\n",
    "        while count > 0:\n",
    "            e = self.cache.pop()\n",
    "            if e[0] == key:\n",
    "                out = e\n",
    "            else:\n",
    "                self.cache.appendleft(e)\n",
    "            count -= 1\n",
    "            \n",
    "        if out == None:\n",
    "            return -1\n",
    "        else:\n",
    "            self.cache.append(out)\n",
    "            return out[1]\n",
    "        return\n",
    "        \n",
    "    def set(self, key, value):\n",
    "#         print(self.cache)\n",
    "        l = 0\n",
    "        while l < len(self.cache):\n",
    "            if self.cache[l][0] == key:                    \n",
    "                self.cache.remove(self.cache[l]) \n",
    "                break\n",
    "            l += 1\n",
    "        if len(self.cache) < self.capacity:            \n",
    "            self.cache.append([key,value])\n",
    "        else:\n",
    "            self.cache.popleft()\n",
    "            self.cache.append([key,value])\n",
    "        return\n",
    "\n",
    "if __name__ == \"__main__\":\n",
    "    test_cases = int(input())\n",
    "    for c in range(test_cases):\n",
    "        cap = int(input())        \n",
    "        qry = int(input())\n",
    "        arr = list(map(str,input().strip().split()))\n",
    "        lru = LRUCache(cap)\n",
    "        \n",
    "        i = 0\n",
    "        q = 1\n",
    "        while q<=qry:\n",
    "            qtyp = arr[i]\n",
    "            \n",
    "            if qtyp == \"SET\":\n",
    "                lru.set(int(arr[i+1]),int(arr[i+2]))\n",
    "                i += 3\n",
    "            elif qtyp == \"GET\":\n",
    "                print(lru.get(int(arr[i+1])), end=\" \")\n",
    "                i+=2\n",
    "            q+=1\n",
    "        print()"
   ]
  },
  {
   "cell_type": "code",
   "execution_count": 46,
   "metadata": {},
   "outputs": [
    {
     "data": {
      "text/plain": [
       "deque([])"
      ]
     },
     "execution_count": 46,
     "metadata": {},
     "output_type": "execute_result"
    }
   ],
   "source": [
    "import collections\n",
    "x = collections.deque()\n",
    "x."
   ]
  },
  {
   "cell_type": "code",
   "execution_count": null,
   "metadata": {},
   "outputs": [],
   "source": []
  }
 ],
 "metadata": {
  "kernelspec": {
   "display_name": "Python 3",
   "language": "python",
   "name": "python3"
  },
  "language_info": {
   "codemirror_mode": {
    "name": "ipython",
    "version": 3
   },
   "file_extension": ".py",
   "mimetype": "text/x-python",
   "name": "python",
   "nbconvert_exporter": "python",
   "pygments_lexer": "ipython3",
   "version": "3.6.6"
  }
 },
 "nbformat": 4,
 "nbformat_minor": 2
}
