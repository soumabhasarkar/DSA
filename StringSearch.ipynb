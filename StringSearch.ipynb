{
 "cells": [
  {
   "cell_type": "code",
   "execution_count": 42,
   "metadata": {
    "collapsed": true
   },
   "outputs": [],
   "source": [
    "import numpy as np\n",
    "def calculateZ(string):\n",
    "    string_len = len(string)\n",
    "    z_array = np.zeros(string_len)\n",
    "    z_array[0]=0\n",
    "    k1 = 0\n",
    "    k2 = 1\n",
    "    while k2 < string_len:\n",
    "        m = 0\n",
    "        if string[k2] != string[k1]:             \n",
    "            k2 += 1\n",
    "        else:\n",
    "            k3 = k2\n",
    "            print(k3)\n",
    "            while k3<string_len and string[k3] == string[k1] :\n",
    "                k1+=1\n",
    "                k3+=1\n",
    "                m +=1\n",
    "            z_array[k2]=m\n",
    "            k4 = k3 - 1\n",
    "            k1=0\n",
    "            if k4-k3 > 0:\n",
    "                j = 0\n",
    "                while j < k4 - k3:\n",
    "                    if j + k2 > string_len-1:\n",
    "                        break\n",
    "                    k2 +=1\n",
    "                    z_array[k2]=z_array[j+1]\n",
    "            else:\n",
    "                k2+=1\n",
    "    print(z_array)"
   ]
  },
  {
   "cell_type": "code",
   "execution_count": 44,
   "metadata": {},
   "outputs": [
    {
     "name": "stdout",
     "output_type": "stream",
     "text": [
      "1\n",
      "4\n",
      "5\n",
      "9\n",
      "10\n",
      "13\n",
      "14\n",
      "17\n",
      "[ 0.  1.  0.  0.  4.  1.  0.  0.  0.  8.  1.  0.  0.  5.  1.  0.  0.  1.\n",
      "  0.]\n"
     ]
    }
   ],
   "source": [
    "calculateZ('aabxaabxcaabxaabxay')"
   ]
  },
  {
   "cell_type": "code",
   "execution_count": 47,
   "metadata": {},
   "outputs": [
    {
     "data": {
      "text/plain": [
       "97"
      ]
     },
     "execution_count": 47,
     "metadata": {},
     "output_type": "execute_result"
    }
   ],
   "source": [
    "ord('a')\n",
    "    "
   ]
  },
  {
   "cell_type": "code",
   "execution_count": 81,
   "metadata": {},
   "outputs": [
    {
     "name": "stdout",
     "output_type": "stream",
     "text": [
      "At pos 0 found pattern: a\n",
      "At pos 0 found pattern: ab\n",
      "At pos 0 found pattern: abc\n",
      "At pos 1 found pattern: bc\n",
      "At pos 2 found pattern: c\n",
      "At pos 2 found pattern: cba\n",
      "At pos 4 found pattern: a\n"
     ]
    }
   ],
   "source": [
    "class AhoNode:\n",
    "    def __init__(self):\n",
    "        self.goto = {}\n",
    "        self.out = []\n",
    "        self.fail = None\n",
    "        \n",
    "def aho_create_forest(patterns):\n",
    "    root = AhoNode()\n",
    " \n",
    "    for path in patterns:\n",
    "        node = root\n",
    "        for symbol in path:\n",
    "            node = node.goto.setdefault(symbol, AhoNode())\n",
    "        node.out.append(path)\n",
    "    return root\n",
    "\n",
    "def aho_create_statemachine(patterns):\n",
    "    root = aho_create_forest(patterns)\n",
    "    queue = []\n",
    "    for key,node in root.goto.items():\n",
    "        queue.append(node)\n",
    "        node.fail = root\n",
    " \n",
    "    while len(queue) > 0:\n",
    "        rnode = queue.pop(0)\n",
    " \n",
    "        for key, unode in rnode.goto.items():\n",
    "            queue.append(unode)\n",
    "            fnode = rnode.fail\n",
    "            while fnode != None and key not in fnode.goto:\n",
    "                fnode = fnode.fail\n",
    "            unode.fail = fnode.goto[key] if fnode else root\n",
    "            unode.out += unode.fail.out\n",
    " \n",
    "    return root\n",
    "\n",
    "def aho_find_all(s, root, callback):\n",
    "    node = root\n",
    " \n",
    "    for i in range(len(s)):\n",
    "        while node != None and s[i] not in node.goto:\n",
    "            node = node.fail\n",
    "        if node == None:\n",
    "            node = root\n",
    "            continue\n",
    "        node = node.goto[s[i]]\n",
    "        for pattern in node.out:\n",
    "            callback(i - len(pattern) + 1, pattern)\n",
    " \n",
    "############################\n",
    "# Demonstration of work\n",
    "def on_occurence(pos, patterns):\n",
    "    print (\"At pos %s found pattern: %s\" % (pos, patterns))\n",
    "    \n",
    "patterns = ['a', 'ab', 'abc', 'bc', 'c', 'cba']\n",
    "# patterns = ['in', 'tin', 'sting']\n",
    "s = \"abcba\"\n",
    "root = aho_create_statemachine(patterns)\n",
    "aho_find_all(s, root, on_occurence)"
   ]
  },
  {
   "cell_type": "code",
   "execution_count": 83,
   "metadata": {},
   "outputs": [
    {
     "data": {
      "text/plain": [
       "['n', 'b']"
      ]
     },
     "execution_count": 83,
     "metadata": {},
     "output_type": "execute_result"
    }
   ],
   "source": [
    "# for key,node in root.goto.items():\n",
    "#     for key1,node1 in node.goto.items():\n",
    "#         for key2,node2 in node1.goto.items():\n",
    "#             print(key2)\n",
    "#             print(node2.fail.goto)\n",
    "#             print('################################')\n",
    "a = ['n']\n",
    "b = ['b']\n",
    "a+b"
   ]
  },
  {
   "cell_type": "code",
   "execution_count": null,
   "metadata": {},
   "outputs": [],
   "source": []
  }
 ],
 "metadata": {
  "kernelspec": {
   "display_name": "Python 3",
   "language": "python",
   "name": "python3"
  },
  "language_info": {
   "codemirror_mode": {
    "name": "ipython",
    "version": 3
   },
   "file_extension": ".py",
   "mimetype": "text/x-python",
   "name": "python",
   "nbconvert_exporter": "python",
   "pygments_lexer": "ipython3",
   "version": "3.6.6"
  }
 },
 "nbformat": 4,
 "nbformat_minor": 2
}
