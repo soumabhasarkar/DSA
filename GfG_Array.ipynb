{
 "cells": [
  {
   "cell_type": "code",
   "execution_count": 6,
   "metadata": {},
   "outputs": [
    {
     "name": "stdout",
     "output_type": "stream",
     "text": [
      "[]\n",
      "[]\n"
     ]
    }
   ],
   "source": [
    "#Longest Span with same Sum in two Binary arrays \n",
    "\n",
    "def longestSum(arr1,arr2,n):\n",
    "    diffIndexArr = [-1]*(2*n+1)\n",
    "    \n",
    "    pre_sum1 = 0 \n",
    "    pre_sum2 = 0\n",
    "    \n",
    "    max_len = 0\n",
    "    start_index = 0\n",
    "    end_index = 0\n",
    "    \n",
    "    for i in range(n):\n",
    "        pre_sum1 += arr1[i]\n",
    "        pre_sum2 += arr2[i]\n",
    "        \n",
    "        curr_diff = pre_sum1 - pre_sum2        \n",
    "        diff_index = curr_diff + n\n",
    "        \n",
    "        if curr_diff == 0:\n",
    "            end_index = i\n",
    "            max_len = i + 1\n",
    "        elif diffIndexArr[diff_index] == -1:\n",
    "#             print(diff_index)\n",
    "            diffIndexArr[diff_index] = i\n",
    "#             print(diffIndexArr)\n",
    "        else:\n",
    "            _len = i - diffIndexArr[diff_index]\n",
    "            if _len > max_len:\n",
    "                max_len = _len\n",
    "                end_index = i\n",
    "    \n",
    "    print(a[end_index-max_len+1:end_index+1])\n",
    "    print(b[end_index-max_len+1:end_index+1])\n",
    "    \n",
    "# a = [1,1,1,0,1,1,1,0,1,0,1,1]\n",
    "# b = [0,1,0,1,1,0,0,1,0,1,1,0]\n",
    "a = [-1,-1,-1]\n",
    "b = [1,1,1]\n",
    "longestSum(a,b,len(a))"
   ]
  },
  {
   "cell_type": "code",
   "execution_count": 42,
   "metadata": {},
   "outputs": [
    {
     "data": {
      "text/plain": [
       "[2, 3, 4, 5, 7, 8, 9, 50]"
      ]
     },
     "execution_count": 42,
     "metadata": {},
     "output_type": "execute_result"
    }
   ],
   "source": [
    "# Union and Intersection of two sorted arrays\n",
    "\n",
    "def unionArray(arr1, arr2):\n",
    "    n1 = len(arr1)\n",
    "    n2 = len(arr2)\n",
    "    \n",
    "    if n1 == 0 and n2 != 0:\n",
    "        return arr2\n",
    "    if n1 != 0 and n2 == 0:\n",
    "        return arr1\n",
    "    \n",
    "    arr1.sort()\n",
    "    arr2.sort()\n",
    "    \n",
    "    i = 0\n",
    "    j = 0\n",
    "    \n",
    "    union = []\n",
    "    while True:\n",
    "        if i == n1 or j == n2:\n",
    "            break;\n",
    "        if arr1[i] < arr2[j]:\n",
    "            union.append(arr1[i])\n",
    "            i += 1\n",
    "        elif arr1[i] > arr2[j]:\n",
    "            union.append(arr2[j])\n",
    "            j += 1\n",
    "        elif arr1[i]==arr2[j]:\n",
    "            union.append(arr1[i])\n",
    "            i += 1\n",
    "            j += 1\n",
    "            \n",
    "    while i<n1:\n",
    "        union.append(arr1[i])\n",
    "        i += 1\n",
    "        \n",
    "    while j < n1:\n",
    "        union.append(arr1[j])\n",
    "        j += 1        \n",
    "        \n",
    "    return union\n",
    "\n",
    "a = [2,8,5,50]\n",
    "b = [5,8,7,9,3,4]\n",
    "\n",
    "unionArray(a,b)"
   ]
  },
  {
   "cell_type": "code",
   "execution_count": 51,
   "metadata": {},
   "outputs": [
    {
     "data": {
      "text/plain": [
       "[2, 5, 8, 9]"
      ]
     },
     "execution_count": 51,
     "metadata": {},
     "output_type": "execute_result"
    }
   ],
   "source": [
    "def intersectArray(arr1,arr2):\n",
    "    arr1.sort()\n",
    "    arr2.sort()\n",
    "    \n",
    "    intersect = []\n",
    "    \n",
    "    n1 = len(arr1)\n",
    "    n2 = len(arr2)\n",
    "    i = 0\n",
    "    j = 0\n",
    "    while True:\n",
    "        if i == n1:\n",
    "            break;\n",
    "        if j == n2:\n",
    "            break;\n",
    "        if arr1[i] < arr2[j]:\n",
    "            i+=1\n",
    "        elif arr1[i] > arr2[j]:\n",
    "            j+=1\n",
    "        elif arr1[i] == arr2[j]:\n",
    "            intersect.append(arr1[i])\n",
    "            i+=1\n",
    "            j+=1  \n",
    "    return intersect\n",
    "\n",
    "a = [2,8,5,5,9]\n",
    "b = [5,8,2,9,3,4]\n",
    "intersectArray(a,b)"
   ]
  },
  {
   "cell_type": "code",
   "execution_count": 55,
   "metadata": {},
   "outputs": [
    {
     "data": {
      "text/plain": [
       "[2]"
      ]
     },
     "execution_count": 55,
     "metadata": {},
     "output_type": "execute_result"
    }
   ],
   "source": [
    "# Equilibrium Inde\n",
    "\n",
    "def equilibriumIndex(arr):\n",
    "    n = len(arr)\n",
    "    sum = 0\n",
    "    for i in range(n):\n",
    "        sum += arr[i]\n",
    "    equi_index = []\n",
    "    left_sum = 0\n",
    "    for i in range(n):\n",
    "        sum = sum - arr[i]\n",
    "        if left_sum == sum:\n",
    "            equi_index.append(i)\n",
    "        left_sum = left_sum + arr[i]\n",
    "        \n",
    "    return equi_index\n",
    "\n",
    "a = [4,4,-2,4,6,-2]\n",
    "equilibriumIndex(a)"
   ]
  },
  {
   "cell_type": "code",
   "execution_count": 57,
   "metadata": {},
   "outputs": [
    {
     "data": {
      "text/plain": [
       "[7, 5, 6, 1, 3, 4, 2]"
      ]
     },
     "execution_count": 57,
     "metadata": {},
     "output_type": "execute_result"
    }
   ],
   "source": [
    "# Reduced Array\n",
    "def reducedArray(arr):\n",
    "    n = len(arr)\n",
    "    temp = [0]*n\n",
    "    for i in range(n):\n",
    "        temp[i] = arr[i]\n",
    "    temp.sort()\n",
    "    hash_table = dict()\n",
    "    for i in range(n):\n",
    "        hash_table[temp[i]]=i+1\n",
    "    for i in range(n):\n",
    "        arr[i]=hash_table[arr[i]]\n",
    "    return arr\n",
    "\n",
    "a = [9,6,7,1,3,5,2]\n",
    "reducedArray(a)    "
   ]
  },
  {
   "cell_type": "code",
   "execution_count": 62,
   "metadata": {},
   "outputs": [
    {
     "data": {
      "text/plain": [
       "[3, 5, 17]"
      ]
     },
     "execution_count": 62,
     "metadata": {},
     "output_type": "execute_result"
    }
   ],
   "source": [
    "# Leader Array\n",
    "def leadersInArray(arr):\n",
    "    n = len(arr)\n",
    "    leaders = []\n",
    "    max_from_right = arr[n-1]\n",
    "    for i in range(n-2,-1,-1):\n",
    "        if arr[i]>max_from_right:\n",
    "            max_from_right = arr[i]\n",
    "            leaders.append(arr[i])\n",
    "    return leaders\n",
    "\n",
    "a = [4,3,17,2,5,3,1]\n",
    "leadersInArray(a)"
   ]
  },
  {
   "cell_type": "code",
   "execution_count": 74,
   "metadata": {},
   "outputs": [
    {
     "name": "stdout",
     "output_type": "stream",
     "text": [
      "[4, 4, 4, 4, 4, 4, 5, 7, 7, 6, 4, 4, 4, 6, 7, 7, 6, 4, 4, 4, 6, 7, 7]\n"
     ]
    },
    {
     "data": {
      "text/plain": [
       "1"
      ]
     },
     "execution_count": 74,
     "metadata": {},
     "output_type": "execute_result"
    }
   ],
   "source": [
    "# Find the minimum distance between two numbers \n",
    "import sys\n",
    "def findMinDistance(arr,num1,num2):\n",
    "    n = len(arr)\n",
    "    for i in range(n):\n",
    "        if arr[i]<num1:\n",
    "            arr[i]=num1\n",
    "        if arr[i]>num2:\n",
    "            arr[i]=num2\n",
    "    print(arr)\n",
    "    prev = 0\n",
    "    min_len = n+1\n",
    "    for i in range(n):\n",
    "        if arr[i]==num1:\n",
    "            prev = i\n",
    "            break\n",
    "        if arr[i]==num2:\n",
    "            prev = i\n",
    "            break\n",
    "    for i in range(prev,n):\n",
    "        if arr[i] == num1 or arr[i] == num2:\n",
    "            if arr[i]!=arr[prev]:\n",
    "                curr_len = i -prev-1\n",
    "                if curr_len < min_len:\n",
    "                    min_len = curr_len\n",
    "            prev = i\n",
    "    return min_len\n",
    "\n",
    "a = [3,3,4,3,4,2,5,9,7,6,4,2,3,6,9,7,6,4,1,3,6,9,7]\n",
    "findMinDistance(a,4,7)"
   ]
  },
  {
   "cell_type": "code",
   "execution_count": 79,
   "metadata": {},
   "outputs": [
    {
     "name": "stdout",
     "output_type": "stream",
     "text": [
      "9\n",
      "8\n",
      "7\n"
     ]
    }
   ],
   "source": [
    "def topThreeElement(arr):\n",
    "    first = -100\n",
    "    second = -1000\n",
    "    third = -10000\n",
    "    \n",
    "    n = len(arr)\n",
    "    for i in range(n):\n",
    "        if arr[i]>first:\n",
    "            third = second\n",
    "            second = first\n",
    "            first = arr[i]\n",
    "        elif arr[i]>second:\n",
    "            third = second\n",
    "            second = arr[i]            \n",
    "        elif arr[i]>third:\n",
    "            third = arr[i]\n",
    "            \n",
    "    print(first)\n",
    "    print(second)\n",
    "    print(third)\n",
    "    \n",
    "a = [8,9,6,4,3,7]\n",
    "topThreeElement(a)"
   ]
  },
  {
   "cell_type": "code",
   "execution_count": 82,
   "metadata": {},
   "outputs": [
    {
     "data": {
      "text/plain": [
       "[2, 3, 4, 5, 6, 7, 4, 3, 1]"
      ]
     },
     "execution_count": 82,
     "metadata": {},
     "output_type": "execute_result"
    }
   ],
   "source": [
    "def maxLenBitonicSubArray(arr):\n",
    "    n = len(arr)\n",
    "    inc = [1]*n\n",
    "    dec = [1]*n\n",
    "    \n",
    "    for i in range(1,n):\n",
    "        if arr[i-1]<arr[i]:\n",
    "            inc[i]+=inc[i-1]\n",
    "    for i in range(n-2,-1,-1):\n",
    "        if arr[i+1]>arr[i]:\n",
    "            dec[i]+=inc[i-1]\n",
    "    \n",
    "    max_len = 0\n",
    "    mid = 0\n",
    "    left = 0\n",
    "    right = 0\n",
    "    for i in range(n):\n",
    "        curr_len = inc[i]+dec[i]-1\n",
    "        if max_len < curr_len:\n",
    "            max_len = curr_len\n",
    "            mid = i\n",
    "            left = inc[i]-1\n",
    "            right = dec[i]-1\n",
    "            \n",
    "    return arr[mid-left:mid+right+1]\n",
    "\n",
    "a = [4,1,2,5,3,2,3,4,5,6,7,4,3,1,6,9,3]\n",
    "maxLenBitonicSubArray(a)"
   ]
  },
  {
   "cell_type": "code",
   "execution_count": 116,
   "metadata": {},
   "outputs": [
    {
     "name": "stdout",
     "output_type": "stream",
     "text": [
      "3\n",
      "4\n"
     ]
    },
    {
     "data": {
      "text/plain": [
       "7"
      ]
     },
     "execution_count": 116,
     "metadata": {},
     "output_type": "execute_result"
    }
   ],
   "source": [
    " # maximum sum subarray\n",
    "def maxDifSubArray(arr):\n",
    "    n = len(arr)\n",
    "    \n",
    "    curr_sum = max_sum = arr[0]\n",
    "    start = end = s = 0\n",
    "    for i in range(1,n):\n",
    "        curr_sum = max(arr[i]+curr_sum,arr[i])\n",
    "        \n",
    "        if curr_sum > max_sum:\n",
    "            max_sum = curr_sum\n",
    "            start = s\n",
    "            end = i\n",
    "        if curr_sum < 0:\n",
    "            s = i + 1\n",
    "    print(start)\n",
    "    print(end)\n",
    "    return max_sum\n",
    "    \n",
    "a = [1,-1,-2,5,2,-3,-3]\n",
    "maxDifSubArray(a)"
   ]
  },
  {
   "cell_type": "code",
   "execution_count": 127,
   "metadata": {},
   "outputs": [
    {
     "name": "stdout",
     "output_type": "stream",
     "text": [
      "3\n",
      "5\n",
      "6\n"
     ]
    },
    {
     "data": {
      "text/plain": [
       "5"
      ]
     },
     "execution_count": 127,
     "metadata": {},
     "output_type": "execute_result"
    }
   ],
   "source": [
    "# Length of longest subarray in which elements greater than K are more than elements not greater than K\n",
    "\n",
    "def LongestSubarray(arr,k):\n",
    "    n = len(arr)\n",
    "    temp = [0]*n\n",
    "    for i in range(n):\n",
    "        if arr[i] > k:\n",
    "            temp[i] = 1\n",
    "        else:\n",
    "            temp[i]=-1\n",
    "    \n",
    "    for i in range(1,n):\n",
    "        temp[i]+=temp[i-1]\n",
    "        \n",
    "    _len = 0\n",
    "    \n",
    "    lo = 1\n",
    "    hi = n    \n",
    "    \n",
    "    while lo<= hi:\n",
    "        ok = False\n",
    "        mid = (lo + hi)//2  \n",
    "        print(mid)\n",
    "        for i in range(mid-1,n):            \n",
    "            x = temp[i]\n",
    "            if i - mid >=0:\n",
    "                x -= temp[i-mid]                \n",
    "            if x > 0:\n",
    "                ok = True\n",
    "                break\n",
    "        \n",
    "        if ok:\n",
    "            _len = mid\n",
    "            lo = mid+1\n",
    "        else:\n",
    "            hi = mid-1\n",
    "    \n",
    "    return _len\n",
    "        \n",
    "a = [2, 3, 4, 5, 3, 7]\n",
    "LongestSubarray(a,3)"
   ]
  },
  {
   "cell_type": "code",
   "execution_count": 158,
   "metadata": {},
   "outputs": [
    {
     "name": "stdout",
     "output_type": "stream",
     "text": [
      "[[-2, 0], [-1, 1], [2, 3], [5, 2]]\n"
     ]
    },
    {
     "data": {
      "text/plain": [
       "2"
      ]
     },
     "execution_count": 158,
     "metadata": {},
     "output_type": "execute_result"
    }
   ],
   "source": [
    "# Largest subarray having sum greater than k\n",
    "\n",
    "def binarySearch(k, arr, n):\n",
    "    lo = 0\n",
    "    hi = n-1\n",
    "    ans = -1\n",
    "    while lo <= hi:\n",
    "        mid = (lo + hi)//2\n",
    "        \n",
    "        if arr[mid][0] <= k:\n",
    "            ans = mid\n",
    "            lo = mid +1\n",
    "        else:\n",
    "            hi = mid-1\n",
    "    return ans\n",
    "\n",
    "def largestSub(arr,n,k):\n",
    "    pre_sum = [0]*n\n",
    "    min_ind = [None]*n\n",
    "\n",
    "    sum = 0\n",
    "    for i in range(n):\n",
    "        sum = sum + arr[i]\n",
    "        pre_sum[i]=[sum,i]\n",
    "    \n",
    "    pre_sum.sort()\n",
    "    \n",
    "    print(pre_sum)\n",
    "    min_ind[0] = pre_sum[0][1]\n",
    "    \n",
    "    for i in range(1,n):\n",
    "        min_ind[i] = min(min_ind[i-1],pre_sum[i][1])\n",
    "    \n",
    "    max_len = 0\n",
    "    sum = 0\n",
    "    for i in range(n):\n",
    "        sum = sum + arr[i]\n",
    "        \n",
    "        if sum > k:\n",
    "            max_len = i+1\n",
    "        else:\n",
    "            idx = binarySearch(sum-k-1,pre_sum,n)\n",
    "            if idx != -1 and min_ind[idx] < i:\n",
    "                max_len = max(i - min_ind[idx],max_len)                \n",
    "    \n",
    "    return max_len\n",
    "\n",
    "a = [-2, 1, 6, -3]\n",
    "largestSub(a,len(a),5)"
   ]
  },
  {
   "cell_type": "code",
   "execution_count": 170,
   "metadata": {},
   "outputs": [
    {
     "data": {
      "text/plain": [
       "6"
      ]
     },
     "execution_count": 170,
     "metadata": {},
     "output_type": "execute_result"
    }
   ],
   "source": [
    "# Longest subarray having maximum sum\n",
    "\n",
    "def maxSubArraySum(arr):  \n",
    "    n = len(arr)\n",
    "    max_sum = arr[0]\n",
    "    curr_max_sum = arr[0]\n",
    "    \n",
    "    for i in range(1,n):\n",
    "        curr_max_sum = max(arr[i],curr_max_sum+arr[i])\n",
    "        max_sum = max(curr_max_sum,max_sum)\n",
    "        \n",
    "    return max_sum\n",
    "\n",
    "def getMaxLenSubArrayWithSumK(arr,k):\n",
    "    n = len(arr)\n",
    "    hash_map = {}\n",
    "    max_len = -1\n",
    "    sum = 0\n",
    "    for i in range(n):\n",
    "        sum = sum + arr[i]\n",
    "        \n",
    "        if sum == k:\n",
    "            max_len = max(max_len,i+1)\n",
    "        elif k - sum in hash_map:\n",
    "            max_len = max(max_len,i-hash_map[k-sum])\n",
    "        elif k - sum not in hash_map:\n",
    "            hash_map[k-sum] = i\n",
    "            \n",
    "    return max_len\n",
    "\n",
    "def LongestSubarrayMaximumSum(arr):\n",
    "    max_sum = maxSubArraySum(arr)\n",
    "    l = getMaxLenSubArrayWithSumK(arr,max_sum)\n",
    "    return l\n",
    "a = [-2, -1, -1, 5, -2, -1, 3, -4]\n",
    "LongestSubarrayMaximumSum(a)"
   ]
  },
  {
   "cell_type": "code",
   "execution_count": 4,
   "metadata": {},
   "outputs": [
    {
     "name": "stdout",
     "output_type": "stream",
     "text": [
      "2\n",
      "10\n",
      "4\n",
      "12\n",
      "4\n"
     ]
    }
   ],
   "source": [
    "def uglyNumber(n):\n",
    "    ugly = [0]*n\n",
    "    ugly[0] = 1\n",
    "    \n",
    "    i2 = i3 = i5 = 0\n",
    "    \n",
    "    seq2 = ugly[i2] * 2\n",
    "    seq3 = ugly[i3] * 3\n",
    "    seq5 = ugly[i5] * 5\n",
    "    \n",
    "    for i in range(1,n):\n",
    "        ugly[i] = min(seq2,seq3,seq5)\n",
    "        \n",
    "        if ugly[i] == seq2:\n",
    "            i2+=1\n",
    "            seq2 = ugly[i2]*2\n",
    "        if ugly[i] == seq3:\n",
    "            i3+=1\n",
    "            seq3 = ugly[i3]*3\n",
    "        if ugly[i] == seq5:\n",
    "            i5+=1\n",
    "            seq5 = ugly[i5]*5\n",
    "            \n",
    "    return ugly[n-1]\n",
    "\n",
    "if __name__ == \"__main__\":\n",
    "    t = int(input())\n",
    "    res = []\n",
    "    for i in range(t):\n",
    "        n = int(input())\n",
    "        res.append(uglyNumber(n))\n",
    "    for i in range(len(res)):\n",
    "        print(res[i])\n",
    "        "
   ]
  },
  {
   "cell_type": "code",
   "execution_count": 166,
   "metadata": {},
   "outputs": [
    {
     "name": "stdout",
     "output_type": "stream",
     "text": [
      "[5, 7, 8, 9]\n"
     ]
    },
    {
     "ename": "AttributeError",
     "evalue": "'dict' object has no attribute 'has_key'",
     "output_type": "error",
     "traceback": [
      "\u001b[1;31m---------------------------------------------------------------------------\u001b[0m",
      "\u001b[1;31mAttributeError\u001b[0m                            Traceback (most recent call last)",
      "\u001b[1;32m<ipython-input-166-f1afb428563a>\u001b[0m in \u001b[0;36m<module>\u001b[1;34m()\u001b[0m\n\u001b[0;32m      3\u001b[0m \u001b[0mprint\u001b[0m\u001b[1;33m(\u001b[0m\u001b[0mx\u001b[0m\u001b[1;33m)\u001b[0m\u001b[1;33m\u001b[0m\u001b[0m\n\u001b[0;32m      4\u001b[0m \u001b[0mDictionary1\u001b[0m \u001b[1;33m=\u001b[0m \u001b[1;33m{\u001b[0m \u001b[1;34m'A'\u001b[0m\u001b[1;33m:\u001b[0m \u001b[1;34m'Geeks'\u001b[0m\u001b[1;33m,\u001b[0m \u001b[1;34m'B'\u001b[0m\u001b[1;33m:\u001b[0m \u001b[1;34m'For'\u001b[0m\u001b[1;33m,\u001b[0m \u001b[1;34m'C'\u001b[0m\u001b[1;33m:\u001b[0m \u001b[1;34m'Geeks'\u001b[0m \u001b[1;33m}\u001b[0m\u001b[1;33m\u001b[0m\u001b[0m\n\u001b[1;32m----> 5\u001b[1;33m \u001b[0mprint\u001b[0m\u001b[1;33m(\u001b[0m\u001b[0mDictionary1\u001b[0m\u001b[1;33m.\u001b[0m\u001b[0mhas_key\u001b[0m\u001b[1;33m(\u001b[0m\u001b[1;34m'A'\u001b[0m\u001b[1;33m)\u001b[0m\u001b[1;33m)\u001b[0m\u001b[1;33m\u001b[0m\u001b[0m\n\u001b[0m",
      "\u001b[1;31mAttributeError\u001b[0m: 'dict' object has no attribute 'has_key'"
     ]
    }
   ],
   "source": [
    "x = [9,8,5,7]\n",
    "x.sort()\n",
    "print(x)\n",
    "Dictionary1 = { 'A': 'Geeks', 'B': 'For', 'C': 'Geeks' } \n",
    "print(Dictionary1.has_key('A')) "
   ]
  },
  {
   "cell_type": "code",
   "execution_count": 3,
   "metadata": {},
   "outputs": [
    {
     "data": {
      "text/plain": [
       "([1, 2, 3, 5, 8, 9], [10, 13, 15, 20])"
      ]
     },
     "execution_count": 3,
     "metadata": {},
     "output_type": "execute_result"
    }
   ],
   "source": [
    "def mergerInPlace(arr1,arr2,m,n):\n",
    "    \n",
    "    for i in reversed(range(n)):\n",
    "        last = arr1[m-1]\n",
    "        j = m-2\n",
    "        \n",
    "        while j >= 0 and arr1[j] > arr2[i]:\n",
    "            arr1[j+1] = arr1[j]\n",
    "            j -= 1\n",
    "        \n",
    "        if j != m-2 or last > arr2[i]:\n",
    "            arr1[j+1] = arr2[i]\n",
    "            arr2[i] = last\n",
    "    return arr1,arr2\n",
    "\n",
    "mergerInPlace([1,5,9,10,15,20],[2,3,8,13],6,4)"
   ]
  },
  {
   "cell_type": "code",
   "execution_count": null,
   "metadata": {},
   "outputs": [],
   "source": []
  }
 ],
 "metadata": {
  "kernelspec": {
   "display_name": "Python 3",
   "language": "python",
   "name": "python3"
  },
  "language_info": {
   "codemirror_mode": {
    "name": "ipython",
    "version": 3
   },
   "file_extension": ".py",
   "mimetype": "text/x-python",
   "name": "python",
   "nbconvert_exporter": "python",
   "pygments_lexer": "ipython3",
   "version": "3.6.6"
  }
 },
 "nbformat": 4,
 "nbformat_minor": 2
}
