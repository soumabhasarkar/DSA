{
 "cells": [
  {
   "cell_type": "code",
   "execution_count": 88,
   "metadata": {},
   "outputs": [
    {
     "name": "stdout",
     "output_type": "stream",
     "text": [
      "12.\n"
     ]
    }
   ],
   "source": [
    "print(\"{}{}.\".format(1,2))"
   ]
  },
  {
   "cell_type": "code",
   "execution_count": 47,
   "metadata": {
    "collapsed": true
   },
   "outputs": [],
   "source": [
    "mat=[\n",
    "        [ 1, 0, 1, 1, 1, 1, 0, 1, 1, 1 ],\n",
    "        [ 1, 0, 1, 0, 1, 1, 1, 0, 1, 1 ],\n",
    "        [ 1, 1, 1, 0, 1, 1, 0, 1, 0, 1 ],\n",
    "        [ 0, 0, 0, 0, 1, 0, 0, 0, 0, 1 ],\n",
    "        [ 1, 1, 1, 0, 1, 1, 1, 0, 1, 0 ],\n",
    "        [ 1, 0, 1, 1, 1, 1, 0, 1, 0, 0 ],\n",
    "        [ 1, 0, 0, 0, 0, 0, 0, 0, 0, 1 ],\n",
    "        [ 1, 0, 1, 1, 1, 1, 0, 1, 1, 1 ],\n",
    "        [ 1, 1, 0, 0, 0, 0, 1, 0, 0, 1 ]\n",
    "    ]"
   ]
  },
  {
   "cell_type": "code",
   "execution_count": 89,
   "metadata": {
    "collapsed": true
   },
   "outputs": [],
   "source": [
    "class queue:\n",
    "    def __init__(self):\n",
    "        self.items = []\n",
    "    \n",
    "    def isEmpty(self):\n",
    "        return self.items == []\n",
    "    \n",
    "    def front(self):\n",
    "        l = len(self.items)\n",
    "        return self.items[l-1]\n",
    "    \n",
    "    def push(self, item):\n",
    "        self.items.insert(0,item)\n",
    "        \n",
    "    def pop(self):\n",
    "        return self.items.pop()\n",
    "        \n",
    "    def size(self):\n",
    "        return len(self.items)\n",
    "    \n",
    "    def printQueue(self):\n",
    "        for i in self.items:\n",
    "            print(\"{}{}\".format(i.point.x,i.point.y))\n",
    "    \n",
    "class point:\n",
    "    def __init__(self,xi, yi):\n",
    "        self.x = xi\n",
    "        self.y = yi\n",
    "        \n",
    "class node:\n",
    "    def __init__(self,p,d):\n",
    "        self.point = p\n",
    "        self.dist = d    "
   ]
  },
  {
   "cell_type": "code",
   "execution_count": 95,
   "metadata": {
    "collapsed": true
   },
   "outputs": [],
   "source": [
    "def BFS(mat,src,dest):\n",
    "    x=[-1,-1,1,1,1,0,-1,0]\n",
    "    y=[-1,1,-1,1,0,1,0,-1]\n",
    "    \n",
    "    row = len(mat)\n",
    "    col = len(mat[1])        \n",
    "    \n",
    "    visited = []\n",
    "    \n",
    "    for i in range(row):\n",
    "        r=[]\n",
    "        for j in range(col):\n",
    "            r.append(False)\n",
    "        visited.append(r)\n",
    "    \n",
    "    q=queue()    \n",
    "    q.push(node(src,0))\n",
    "    \n",
    "    while not q.isEmpty():        \n",
    "        e = q.front()\n",
    "        p = e.point\n",
    "        if p.x == dest.x and p.y == dest.y:\n",
    "            return e.dist\n",
    "        visited[p.x][p.y] = True\n",
    "        q.pop()\n",
    "        for i in range(8):            \n",
    "            xi = p.x + x[i]\n",
    "            yi = p.y + y[i]\n",
    "            cp = point(xi,yi)\n",
    "            \n",
    "            if cp.x < row and cp.y < col and mat[cp.x][cp.y] == 1 and cp.x >=0 and cp.y >= 0 and not visited[cp.x][cp.y]:\n",
    "                n = node(cp,e.dist+1)\n",
    "                q.push(n)\n",
    "#         q.printQueue()\n",
    "    return -99  "
   ]
  },
  {
   "cell_type": "code",
   "execution_count": 97,
   "metadata": {},
   "outputs": [
    {
     "data": {
      "text/plain": [
       "4"
      ]
     },
     "execution_count": 97,
     "metadata": {},
     "output_type": "execute_result"
    }
   ],
   "source": [
    "src = point(0,0)\n",
    "dest = point(0,3)\n",
    "BFS(mat,src,dest)"
   ]
  },
  {
   "cell_type": "code",
   "execution_count": 18,
   "metadata": {
    "collapsed": true
   },
   "outputs": [],
   "source": [
    "def column(mat,i):\n",
    "    return [row[i] for row in mat]\n",
    "\n",
    "def ComputeLSP(pat,l,lps):\n",
    "    M = len(pat)\n",
    "    i = 1\n",
    "    j = 0\n",
    "    lps[0]=0\n",
    "    while i < M:\n",
    "        if pat[j] == pat[i]:\n",
    "            j+=1\n",
    "            lps[i]=j\n",
    "            i+=1\n",
    "        else:\n",
    "            if j!=0:\n",
    "                j=lps[j-1]\n",
    "            else:\n",
    "                i+=1\n",
    "            \n",
    "def KMPSearch(txt,pat):\n",
    "    txt_len = len(txt)\n",
    "    pat_len = len(pat)\n",
    "    lps = [0]*pat_len\n",
    "    ComputeLSP(mat,pat_len,lps)\n",
    "    j = 0\n",
    "    i = 0\n",
    "    while i<txt_len:\n",
    "        if txt[i] == pat[j]:\n",
    "            j+=1\n",
    "            i+=1\n",
    "            \n",
    "        if j == pat_len:\n",
    "            return True\n",
    "        elif i < txt_len and pat[j] != txt[i]:\n",
    "            if j!=0:\n",
    "                j = lps[j-1]\n",
    "            else:\n",
    "                i+=1\n",
    "                \n",
    "def findOrientation(mat, pat):\n",
    "    r = len(mat)\n",
    "    c = len(mat[0])\n",
    "    \n",
    "    for i in range(r):\n",
    "        if KMPSearch(mat[i],pat):\n",
    "            print(\"Pattern found in Horizontally\")\n",
    "    for i in range(c):\n",
    "        if KMPSearch(column(mat,i),pat):\n",
    "            print(\"Pattern found in Vertically\")\n"
   ]
  },
  {
   "cell_type": "code",
   "execution_count": 19,
   "metadata": {
    "collapsed": true
   },
   "outputs": [],
   "source": [
    "mat = [['a', 'b', 'c', 'd', 'e'],\n",
    "        ['f', 'g', 'h', 'i', 'j'],\n",
    "        ['k', 'l', 'm', 'n', 'o'],\n",
    "        ['p', 'q', 'r', 's', 't'],\n",
    "        ['u', 'v', 'w', 'x', 'y']]\n",
    "pat = \"bglq\""
   ]
  },
  {
   "cell_type": "code",
   "execution_count": 20,
   "metadata": {},
   "outputs": [
    {
     "name": "stdout",
     "output_type": "stream",
     "text": [
      "Pattern found in Vertically\n"
     ]
    }
   ],
   "source": [
    "findOrientation(mat,pat)"
   ]
  },
  {
   "cell_type": "code",
   "execution_count": 92,
   "metadata": {
    "collapsed": true
   },
   "outputs": [],
   "source": [
    "import sys\n",
    "\n",
    "def findMaxValue(mat,n):\n",
    "    M=len(mat)\n",
    "    N=len(mat[0])\n",
    "    a = [0]*N\n",
    "    maxArr = []\n",
    "    for i in range(M):\n",
    "        r=[]\n",
    "        for j in range(N):\n",
    "            r.append(0)\n",
    "        maxArr.append(r)\n",
    "    print(maxArr)\n",
    "    maxv = mat[M-1][N-1]\n",
    "    for i in range(N-1,-1,-1):\n",
    "        if mat[M-1][i] > maxv:\n",
    "           maxv = mat[M-1][i]\n",
    "        maxArr[M-1][i] = maxv\n",
    "    \n",
    "    maxv = mat[M-1][N-1];\n",
    "    for j in range(M-1,-1,-1):\n",
    "        if mat[j][N-1] > maxv:\n",
    "            maxv = mat[j][N-1]\n",
    "        maxArr[j][N-1] = maxv \n",
    "    \n",
    "    val = -sys.maxsize\n",
    "    for i in range(M-2,-1,-1):\n",
    "        for j in range(N-2,-1,-1):\n",
    "            if maxArr[i+1][j+1] - mat[i][j] > val:\n",
    "                val = maxArr[i+1][j+1] - mat[i][j]\n",
    "            maxArr[i][j] = max(mat[i][j],maxArr[i+1][j],maxArr[i][j+1])\n",
    "    print(maxArr)\n",
    "    return val"
   ]
  },
  {
   "cell_type": "code",
   "execution_count": 93,
   "metadata": {
    "collapsed": true
   },
   "outputs": [],
   "source": [
    "mat = [[ 1, 2, -1, -4, -20 ],\n",
    "        [ -8, -3, 4, 2, 1 ],\n",
    "        [ 3, 8, 6, 1, 3 ],\n",
    "        [ -4, -1, 1, 7, -6 ],\n",
    "        [ 0, -4, 10, -5, 1 ]]"
   ]
  },
  {
   "cell_type": "code",
   "execution_count": 95,
   "metadata": {},
   "outputs": [
    {
     "name": "stdout",
     "output_type": "stream",
     "text": [
      "[[0, 0, 0, 0, 0], [0, 0, 0, 0, 0], [0, 0, 0, 0, 0], [0, 0, 0, 0, 0], [0, 0, 0, 0, 0]]\n",
      "[[10, 10, 10, 7, 3], [10, 10, 10, 7, 3], [10, 10, 10, 7, 3], [10, 10, 10, 7, 1], [10, 10, 10, 1, 1]]\n"
     ]
    },
    {
     "data": {
      "text/plain": [
       "18"
      ]
     },
     "execution_count": 95,
     "metadata": {},
     "output_type": "execute_result"
    }
   ],
   "source": [
    "findMaxValue(mat,5)"
   ]
  },
  {
   "cell_type": "code",
   "execution_count": 116,
   "metadata": {
    "collapsed": true
   },
   "outputs": [],
   "source": [
    "def printSum(mat,k):\n",
    "    row = len(mat)\n",
    "    col = len(mat[0])\n",
    "    sumArr = []\n",
    "    for i in range(row-k+1):\n",
    "        r=[]\n",
    "        for j in range(col):\n",
    "            r.append(0)\n",
    "        sumArr.append(r)\n",
    "        \n",
    "    sumMat = []\n",
    "    for i in range(row-k+1):\n",
    "        r=[]\n",
    "        for j in range(col-k+1):\n",
    "            r.append(0)\n",
    "        sumMat.append(r)\n",
    "        \n",
    "    for i in range(col):\n",
    "        s = 0\n",
    "        for j in range(k):\n",
    "            s +=mat[j][i]\n",
    "        sumArr[0][i] = s\n",
    "        \n",
    "        for x in range(1,row-k+1):\n",
    "            s+=mat[k+x-1][i]-mat[x-1][i]\n",
    "            sumArr[x][i] = s\n",
    "            \n",
    "    for i in range(row-k+1):\n",
    "        s = 0\n",
    "        for j in range(k):\n",
    "            s+=sumArr[i][j]\n",
    "        sumMat[i][0] = s\n",
    "        \n",
    "        for x in range(1,col-k+1):\n",
    "            s+=sumArr[i][k+x-1]-sumArr[i][x-1]\n",
    "            sumMat[i][x]=s\n",
    "        \n",
    "    print(sumArr)\n",
    "    print(sumMat)"
   ]
  },
  {
   "cell_type": "code",
   "execution_count": 117,
   "metadata": {},
   "outputs": [
    {
     "name": "stdout",
     "output_type": "stream",
     "text": [
      "[[-4, 7, 9, -1, -16], [-9, 4, 11, 10, -2], [-1, 3, 17, 3, -2]]\n",
      "[[12, 15, -8], [6, 25, 19], [19, 23, 18]]\n"
     ]
    }
   ],
   "source": [
    "printSum(mat,3)"
   ]
  },
  {
   "cell_type": "code",
   "execution_count": 144,
   "metadata": {
    "collapsed": true
   },
   "outputs": [],
   "source": [
    "def SAT(mat):\n",
    "    r = len(mat)\n",
    "    c = len(mat[0])\n",
    "    \n",
    "    satMat = []\n",
    "    for i in range(r):\n",
    "        e=[]\n",
    "        for j in range(c):\n",
    "            e.append(0)\n",
    "        satMat.append(e)\n",
    "    \n",
    "    sc = [0]*c\n",
    "    for i in range(r):\n",
    "        for j in range(c):\n",
    "            s = 0             \n",
    "            if i-1 >= 0:\n",
    "                sc[j]+=mat[i-1][j]\n",
    "            if j == 0 and i == 0:\n",
    "                satMat[i][j] = mat[i][j]\n",
    "            else:\n",
    "                satMat[i][j] = satMat[i][j-1] + mat[i][j]\n",
    "            satMat[i][j] += sc[j]\n",
    "    return satMat\n",
    "\n",
    "def sumSubMatrix(mat,p1,p2):\n",
    "    sat = SAT(mat)\n",
    "    print(sat)\n",
    "    tlr = p1[0] - 1\n",
    "    tlc = p1[0] - 1\n",
    "    trr = p1[0] - 1\n",
    "    trc = p2[1]\n",
    "    blr = p2[0]\n",
    "    blc = p1[1]-1\n",
    "    brr = p2[0]\n",
    "    brc = p2[1]\n",
    "    s=0\n",
    "    if tlr > 0 and tlc > 0:\n",
    "        s+=sat[tlr][tlc]\n",
    "    if brr > 0 and brc > 0:\n",
    "        s+=sat[brr][brc]\n",
    "    if trr > 0 and trc> 0:\n",
    "        s-=sat[trr][trc]\n",
    "    if blr > 0 and blc > 0:\n",
    "        s-=sat[blr][blc]\n",
    "    return s"
   ]
  },
  {
   "cell_type": "code",
   "execution_count": 146,
   "metadata": {},
   "outputs": [
    {
     "name": "stdout",
     "output_type": "stream",
     "text": [
      "[[1, 3, 6, 10, 16], [6, 11, 22, 27, 35], [10, 21, 39, 49, 62], [12, 27, 53, 72, 89]]\n"
     ]
    },
    {
     "data": {
      "text/plain": [
       "11"
      ]
     },
     "execution_count": 146,
     "metadata": {},
     "output_type": "execute_result"
    }
   ],
   "source": [
    "mat=[[1, 2, 3, 4, 6],[5, 3, 8, 1, 2],[4, 6, 7, 5, 5],[2, 4, 8, 9, 4] ]\t\n",
    "sumSubMatrix(mat,[0,0],[1,1])"
   ]
  },
  {
   "cell_type": "code",
   "execution_count": 5,
   "metadata": {
    "collapsed": true
   },
   "outputs": [],
   "source": [
    "mat = [[1, 2, 1, 4, 8],[3, 7, 8, 5, 1],[8, 7, 7, 3, 1],[8, 1, 2, 7, 9]]"
   ]
  },
  {
   "cell_type": "code",
   "execution_count": 6,
   "metadata": {
    "collapsed": true
   },
   "outputs": [],
   "source": [
    "def commonElement(mat):\n",
    "    r = len(mat)\n",
    "    c = len(mat[0])\n",
    "    \n",
    "    dicts = {}\n",
    "    for i in range(c):\n",
    "        dicts[mat[0][i]]=1\n",
    "    print(dicts)\n",
    "    for i in range(1,r):\n",
    "        for j in range(c):\n",
    "            index = mat[i][j]            \n",
    "            if index in dicts and dicts[index]==i:\n",
    "                dicts[mat[i][j]]+=1\n",
    "                if i == r-1:\n",
    "                    print(mat[i][j])"
   ]
  },
  {
   "cell_type": "code",
   "execution_count": 7,
   "metadata": {},
   "outputs": [
    {
     "name": "stdout",
     "output_type": "stream",
     "text": [
      "{1: 1, 2: 1, 4: 1, 8: 1}\n",
      "8\n",
      "1\n"
     ]
    }
   ],
   "source": [
    "commonElement(mat)"
   ]
  },
  {
   "cell_type": "code",
   "execution_count": 38,
   "metadata": {},
   "outputs": [],
   "source": [
    "mat=[[1,2,3],[4,5,6],[7,8,9]]"
   ]
  },
  {
   "cell_type": "code",
   "execution_count": 45,
   "metadata": {
    "collapsed": true
   },
   "outputs": [],
   "source": [
    "def matrixInplaceTranspose(mat):\n",
    "    r = len(mat)\n",
    "    c = len(mat[0])\n",
    "    size = r * c - 1\n",
    "    lin_mat = []\n",
    "    visited = []\n",
    "    for i in range(r):\n",
    "        for j in range(c):\n",
    "            lin_mat.append(mat[i][j]) \n",
    "            visited.append(False)\n",
    "    i=1    \n",
    "#     ni = 0\n",
    "    while i < size and visited[i]==False:\n",
    "        first_pass = True\n",
    "        ni = i\n",
    "        while first_pass or ni != i:\n",
    "            first_pass = False\n",
    "            ni = (ni*r)%size\n",
    "#             print(ni)   \n",
    "            t=lin_mat[ni]\n",
    "            lin_mat[ni]=lin_mat[i]\n",
    "            visited[ni]=True\n",
    "            lin_mat[i]=t        \n",
    "        i+=1\n",
    "    print(lin_mat)"
   ]
  },
  {
   "cell_type": "code",
   "execution_count": 46,
   "metadata": {},
   "outputs": [
    {
     "name": "stdout",
     "output_type": "stream",
     "text": [
      "[1, 4, 7, 2, 5, 6, 3, 8, 9]\n"
     ]
    }
   ],
   "source": [
    "matrixInplaceTranspose(mat)"
   ]
  },
  {
   "cell_type": "code",
   "execution_count": null,
   "metadata": {
    "collapsed": true
   },
   "outputs": [],
   "source": []
  }
 ],
 "metadata": {
  "kernelspec": {
   "display_name": "Python 3",
   "language": "python",
   "name": "python3"
  },
  "language_info": {
   "codemirror_mode": {
    "name": "ipython",
    "version": 3
   },
   "file_extension": ".py",
   "mimetype": "text/x-python",
   "name": "python",
   "nbconvert_exporter": "python",
   "pygments_lexer": "ipython3",
   "version": "3.6.3"
  }
 },
 "nbformat": 4,
 "nbformat_minor": 2
}
