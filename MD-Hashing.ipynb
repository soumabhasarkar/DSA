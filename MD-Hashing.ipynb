{
 "cells": [
  {
   "cell_type": "code",
   "execution_count": 29,
   "metadata": {},
   "outputs": [
    {
     "name": "stdout",
     "output_type": "stream",
     "text": [
      "3\n",
      "ghviapwjacwo\n",
      "0\n",
      "xyyz\n",
      "1\n",
      "xxxxyyzz\n",
      "0\n"
     ]
    }
   ],
   "source": [
    "def checkFrqEqual(st):\n",
    "    hash_tbl = dict()\n",
    "    for ch in st:\n",
    "        if ch in hash_tbl.keys():\n",
    "            hash_tbl[ch] += 1\n",
    "        else:\n",
    "            hash_tbl[ch] = 1\n",
    "\n",
    "    prv = 0\n",
    "    first_diff = True\n",
    "    _min = float('inf')\n",
    "    _max = float('-inf')\n",
    "    for k in hash_tbl.keys():\n",
    "        _min = min(_min,hash_tbl[k]) \n",
    "        _max = max(_max,hash_tbl[k])\n",
    "    if _min < _max - 1:\n",
    "        return False\n",
    "    if _min == _max:\n",
    "        return True\n",
    "    max_count = 0\n",
    "    min_count = 0\n",
    "    for k in hash_tbl.keys():\n",
    "        if _max == hash_tbl[k]:\n",
    "            max_count +=1\n",
    "        if _min == hash_tbl[k]:\n",
    "            min_count +=1\n",
    "    \n",
    "    if max_count > 1 and min_count > 1:\n",
    "        return False\n",
    "    if max_count > 1 and min_count == 1:\n",
    "        return True\n",
    "    if max_count == 1 and min_count ==1:\n",
    "        return True\n",
    "    \n",
    "#         print(k)\n",
    "#         if prv == 0:\n",
    "#             prv = hash_tbl[k]\n",
    "#             continue\n",
    "#         if abs(prv - hash_tbl[k])>1:            \n",
    "#             return False\n",
    "#         if prv != hash_tbl[k] and first_diff:\n",
    "#             prv = min(prv,hash_tbl[k])\n",
    "#             first_diff = False\n",
    "#         elif prv != hash_tbl[k] and not first_diff:\n",
    "#             return False\n",
    "\n",
    "    return True\n",
    "\n",
    "if __name__ == \"__main__\":\n",
    "    test_cases = int(input())\n",
    "    for c in range(test_cases):\n",
    "        string = input()\n",
    "        if checkFrqEqual(string):\n",
    "            print(1)\n",
    "        else:\n",
    "            print(0)\n",
    "        "
   ]
  },
  {
   "cell_type": "code",
   "execution_count": 46,
   "metadata": {},
   "outputs": [
    {
     "name": "stdout",
     "output_type": "stream",
     "text": [
      "1\n",
      "iaduai\n",
      "audsjdsa\n",
      "{'i': 1, 'a': 0, 'd': 0, 'u': 0, 's': 2, 'j': 2}\n",
      "isj\n"
     ]
    }
   ],
   "source": [
    "def uncommonChar(st1, st2):\n",
    "    hash_tbl = dict()\n",
    "    \n",
    "    for ch in st1:\n",
    "        hash_tbl[ch] = 1\n",
    "    \n",
    "    for ch in st2:\n",
    "        if ch in hash_tbl.keys() and hash_tbl[ch] == 1:\n",
    "            hash_tbl[ch] -= 1\n",
    "        elif ch not in hash_tbl.keys():\n",
    "            hash_tbl[ch] = 2\n",
    "        \n",
    "        \n",
    "#     print(hash_tbl)\n",
    "    \n",
    "    for k in hash_tbl.keys():\n",
    "        if hash_tbl[k] == 1 or hash_tbl[k] == 2:\n",
    "            print(k,end=\"\")\n",
    "    print()\n",
    "\n",
    "if __name__ == \"__main__\":\n",
    "    test_cases = int(input())\n",
    "    for c in range(test_cases):\n",
    "        string1 = input()\n",
    "        string2 = input()\n",
    "        uncommonChar(string1,string2)"
   ]
  },
  {
   "cell_type": "code",
   "execution_count": 18,
   "metadata": {},
   "outputs": [
    {
     "data": {
      "text/plain": [
       "{'g': 1,\n",
       " 'h': 1,\n",
       " 'v': 1,\n",
       " 'i': 1,\n",
       " 'a': 2,\n",
       " 'p': 1,\n",
       " 'w': 2,\n",
       " 'j': 1,\n",
       " 'c': 1,\n",
       " 'o': 1}"
      ]
     },
     "execution_count": 18,
     "metadata": {},
     "output_type": "execute_result"
    }
   ],
   "source": [
    "hash_tbl = dict()\n",
    "for ch in \"ghviapwjacwo\":\n",
    "    if ch in hash_tbl.keys():\n",
    "        hash_tbl[ch] += 1\n",
    "    else:\n",
    "        hash_tbl[ch] = 1\n",
    "            \n",
    "hash_tbl"
   ]
  },
  {
   "cell_type": "code",
   "execution_count": null,
   "metadata": {},
   "outputs": [],
   "source": []
  }
 ],
 "metadata": {
  "kernelspec": {
   "display_name": "Python 3",
   "language": "python",
   "name": "python3"
  },
  "language_info": {
   "codemirror_mode": {
    "name": "ipython",
    "version": 3
   },
   "file_extension": ".py",
   "mimetype": "text/x-python",
   "name": "python",
   "nbconvert_exporter": "python",
   "pygments_lexer": "ipython3",
   "version": "3.6.6"
  }
 },
 "nbformat": 4,
 "nbformat_minor": 2
}
